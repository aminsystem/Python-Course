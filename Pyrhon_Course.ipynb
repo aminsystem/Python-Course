{
  "nbformat": 4,
  "nbformat_minor": 0,
  "metadata": {
    "colab": {
      "provenance": [],
      "authorship_tag": "ABX9TyMvwytJ+v3+5nn9oUpzQXlq",
      "include_colab_link": true
    },
    "kernelspec": {
      "name": "python3",
      "display_name": "Python 3"
    },
    "language_info": {
      "name": "python"
    }
  },
  "cells": [
    {
      "cell_type": "markdown",
      "metadata": {
        "id": "view-in-github",
        "colab_type": "text"
      },
      "source": [
        "<a href=\"https://colab.research.google.com/github/aminsystem/Python-Course/blob/main/Pyrhon_Course.ipynb\" target=\"_parent\"><img src=\"https://colab.research.google.com/assets/colab-badge.svg\" alt=\"Open In Colab\"/></a>"
      ]
    },
    {
      "cell_type": "markdown",
      "metadata": {
        "id": "46aa239c"
      },
      "source": [
        "# 🐍 Python Basics: Interactive Learning\n",
        "\n",
        "Welcome to your beginner Python course on Google Colab!  \n",
        "Let's learn by doing. Run each cell and try modifying the code.\n",
        "\n",
        "---\n",
        "\n",
        "## 📌 Topics Covered\n",
        "1. Variables and Data Types\n",
        "2. If-Else Conditions\n",
        "3. Loops\n",
        "4. Functions\n",
        "5. Lists and Dictionaries\n",
        "6. File Handling\n",
        "\n",
        "Let's start!"
      ]
    },
    {
      "cell_type": "code",
      "metadata": {
        "colab": {
          "base_uri": "https://localhost:8080/"
        },
        "id": "86759b7d",
        "outputId": "84668fd0-4285-48be-8ba0-3cc794a9d9dc"
      },
      "source": [
        "# ✅ 1. Variables and Data Types\n",
        "name = \"Alice\"\n",
        "age = 25\n",
        "height = 1.65\n",
        "is_student = True\n",
        "\n",
        "print(\"Name:\", name)\n",
        "print(\"Age:\", age)\n",
        "print(\"Height:\", height)\n",
        "print(\"Student?\", is_student)"
      ],
      "execution_count": 14,
      "outputs": [
        {
          "output_type": "stream",
          "name": "stdout",
          "text": [
            "Name: Alice\n",
            "Age: 25\n",
            "Height: 1.65\n",
            "Student? True\n"
          ]
        }
      ]
    },
    {
      "cell_type": "code",
      "metadata": {
        "colab": {
          "base_uri": "https://localhost:8080/"
        },
        "id": "5a7796be",
        "outputId": "37a6cfe5-5c6b-4f9a-fd3a-792b264d3b3c"
      },
      "source": [
        "# ✅ 2. If-Else Condition\n",
        "if age > 18:\n",
        "    print(\"You're an adult.\")\n",
        "else:\n",
        "    print(\"You're a minor.\")"
      ],
      "execution_count": 15,
      "outputs": [
        {
          "output_type": "stream",
          "name": "stdout",
          "text": [
            "You're an adult.\n"
          ]
        }
      ]
    },
    {
      "cell_type": "code",
      "metadata": {
        "colab": {
          "base_uri": "https://localhost:8080/"
        },
        "id": "4e3b91b6",
        "outputId": "c2d271bd-915f-462a-e199-5c36cdc82f32"
      },
      "source": [
        "# ✅ 3. Loops\n",
        "for i in range(5):\n",
        "    print(\"Looping:\", i)"
      ],
      "execution_count": 16,
      "outputs": [
        {
          "output_type": "stream",
          "name": "stdout",
          "text": [
            "Looping: 0\n",
            "Looping: 1\n",
            "Looping: 2\n",
            "Looping: 3\n",
            "Looping: 4\n"
          ]
        }
      ]
    },
    {
      "cell_type": "code",
      "metadata": {
        "colab": {
          "base_uri": "https://localhost:8080/"
        },
        "id": "d041f21f",
        "outputId": "ccf245a2-cc6f-43a8-f9c8-3b78fc3d31fd"
      },
      "source": [
        "# ✅ 4. Functions\n",
        "def greet(name):\n",
        "    return f\"Hello, {name}!\"\n",
        "\n",
        "print(greet(\"Bob\"))"
      ],
      "execution_count": 17,
      "outputs": [
        {
          "output_type": "stream",
          "name": "stdout",
          "text": [
            "Hello, Bob!\n"
          ]
        }
      ]
    },
    {
      "cell_type": "code",
      "metadata": {
        "colab": {
          "base_uri": "https://localhost:8080/"
        },
        "id": "d26e6c17",
        "outputId": "09e9d352-1a04-4eb9-955c-c2046df85ffd"
      },
      "source": [
        "# ✅ 5. Lists and Dictionaries\n",
        "fruits = [\"apple\", \"banana\", \"cherry\"]\n",
        "person = {\"name\": \"Alice\", \"age\": 25}\n",
        "\n",
        "print(fruits[0])\n",
        "print(person[\"name\"])"
      ],
      "execution_count": 18,
      "outputs": [
        {
          "output_type": "stream",
          "name": "stdout",
          "text": [
            "apple\n",
            "Alice\n"
          ]
        }
      ]
    },
    {
      "cell_type": "code",
      "metadata": {
        "colab": {
          "base_uri": "https://localhost:8080/"
        },
        "id": "6119fd2d",
        "outputId": "8f5cd154-8c7f-423d-890f-3c97f15f9c09"
      },
      "source": [
        "# ✅ 6. File Handling\n",
        "with open(\"sample.txt\", \"w\") as f:\n",
        "    f.write(\"This is a test.\")\n",
        "\n",
        "with open(\"sample.txt\", \"r\") as f:\n",
        "    print(f.read())"
      ],
      "execution_count": 19,
      "outputs": [
        {
          "output_type": "stream",
          "name": "stdout",
          "text": [
            "This is a test.\n"
          ]
        }
      ]
    }
  ]
}