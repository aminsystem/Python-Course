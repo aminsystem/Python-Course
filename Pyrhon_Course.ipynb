{
  "nbformat": 4,
  "nbformat_minor": 0,
  "metadata": {
    "colab": {
      "provenance": [],
      "authorship_tag": "ABX9TyNulcPjcn+4fCFQ28Cw7Sb5",
      "include_colab_link": true
    },
    "kernelspec": {
      "name": "python3",
      "display_name": "Python 3"
    },
    "language_info": {
      "name": "python"
    }
  },
  "cells": [
    {
      "cell_type": "markdown",
      "metadata": {
        "id": "view-in-github",
        "colab_type": "text"
      },
      "source": [
        "<a href=\"https://colab.research.google.com/github/aminsystem/Python-Course/blob/main/Pyrhon_Course.ipynb\" target=\"_parent\"><img src=\"https://colab.research.google.com/assets/colab-badge.svg\" alt=\"Open In Colab\"/></a>"
      ]
    },
    {
      "cell_type": "markdown",
      "metadata": {
        "id": "5e7405c1"
      },
      "source": [
        "# 🧠 Python Course in Google Colab: Part 1 – Intro to Python\n",
        "\n",
        "### 🔰 1. Welcome and Setup"
      ]
    },
    {
      "cell_type": "code",
      "metadata": {
        "id": "51cc4b7e"
      },
      "source": [
        "# Hello Python!\n",
        "print(\"Hello, Python! 👋\")"
      ],
      "execution_count": null,
      "outputs": []
    },
    {
      "cell_type": "markdown",
      "metadata": {
        "id": "2e0f9b0b"
      },
      "source": [
        "---\n",
        "\n",
        "### 🖥️ 2. What is Python?\n",
        "\n",
        "Python is a high-level, easy-to-read, interpreted programming language.\n",
        "\n",
        "🟡 **Features**:\n",
        "\n",
        "* Easy to learn\n",
        "* Cross-platform\n",
        "* Huge standard library\n",
        "* Popular for: web, data science, AI, scripting"
      ]
    },
    {
      "cell_type": "markdown",
      "metadata": {
        "id": "991578c3"
      },
      "source": [
        "---\n",
        "\n",
        "### ⚙️ 3. Interpreters & Runtimes"
      ]
    },
    {
      "cell_type": "code",
      "metadata": {
        "id": "6903673a"
      },
      "source": [
        "# Try math directly in Colab\n",
        "print(3 + 4 * 2)\n",
        "\n",
        "# Try some types\n",
        "print(type(3.14), type(\"hi\"), type([1, 2, 3]))"
      ],
      "execution_count": null,
      "outputs": []
    },
    {
      "cell_type": "markdown",
      "metadata": {
        "id": "ce14dcb8"
      },
      "source": [
        "---\n",
        "\n",
        "### ✍️ 4. Editors & IDEs\n",
        "\n",
        "| Type    | Examples               |\n",
        "| ------- | ---------------------- |\n",
        "| Offline | VS Code, PyCharm, IDLE |\n",
        "| Online  | Colab, JupyterLite     |\n",
        "\n",
        "💡 In this course, **Google Colab** is our main environment!"
      ]
    },
    {
      "cell_type": "markdown",
      "metadata": {
        "id": "8312863b"
      },
      "source": [
        "---\n",
        "\n",
        "### 🧪 5. Try It Yourself!"
      ]
    },
    {
      "cell_type": "code",
      "metadata": {
        "id": "d70a6289"
      },
      "source": [
        "# Write a simple greeting\n",
        "name = input(\"What's your name? \")\n",
        "print(\"Welcome,\", name)"
      ],
      "execution_count": null,
      "outputs": []
    },
    {
      "cell_type": "markdown",
      "metadata": {
        "id": "2434812a"
      },
      "source": [
        "---\n",
        "\n",
        "### 🔄 6. Python Execution Flow"
      ]
    },
    {
      "cell_type": "code",
      "metadata": {
        "id": "9b740e3f"
      },
      "source": [
        "x = 10\n",
        "y = 5\n",
        "if x > y:\n",
        "    print(\"x is greater!\")\n",
        "else:\n",
        "    print(\"y is greater or equal!\")"
      ],
      "execution_count": null,
      "outputs": []
    },
    {
      "cell_type": "markdown",
      "metadata": {
        "id": "5a08c0d1"
      },
      "source": [
        "---\n",
        "\n",
        "### 💻 7. Bonus: Run Shell Commands (Colab Magic)"
      ]
    },
    {
      "cell_type": "code",
      "metadata": {
        "id": "eab94819"
      },
      "source": [
        "# Run a shell command in Colab\n",
        "!echo \"This is from the shell\"\n",
        "!python --version"
      ],
      "execution_count": null,
      "outputs": []
    },
    {
      "cell_type": "markdown",
      "metadata": {
        "id": "16b94e13"
      },
      "source": [
        "---\n",
        "\n",
        "### 🧠 Mini Quiz (Comment answers below)\n",
        "\n",
        "1. What's the output of: `print(type(\"123\"))`?\n",
        "2. What's the result of: `5 * 2 + 3`?\n",
        "3. Can you name two offline IDEs?"
      ]
    },
    {
      "cell_type": "markdown",
      "metadata": {
        "id": "db5df278"
      },
      "source": [
        "# 🧠 Python Course in Google Colab: Part 2 – Data Types & Structures\n",
        "Python has built-in data types for storing different kinds of information.\n",
        "\n",
        "### 🔢 1. Numeric Types"
      ]
    },
    {
      "cell_type": "code",
      "metadata": {
        "id": "cb2157a3"
      },
      "source": [
        "# Integers\n",
        "x = 42\n",
        "print(type(x), x)\n",
        "\n",
        "# Float (decimal)\n",
        "price = 19.99\n",
        "print(type(price), price)\n",
        "\n",
        "# Complex\n",
        "z = 2 + 3j\n",
        "print(type(z), z.real, z.imag)"
      ],
      "execution_count": null,
      "outputs": []
    },
    {
      "cell_type": "markdown",
      "metadata": {
        "id": "9a534681"
      },
      "source": [
        "### 🔤 2. Text Type – str"
      ]
    },
    {
      "cell_type": "code",
      "metadata": {
        "id": "72a6e14b"
      },
      "source": [
        "name = \"Python\"\n",
        "print(name.upper(), name.lower(), name[0], name[-1])"
      ],
      "execution_count": null,
      "outputs": []
    },
    {
      "cell_type": "markdown",
      "metadata": {
        "id": "f6868b14"
      },
      "source": [
        "🧪 Try this:"
      ]
    },
    {
      "cell_type": "code",
      "metadata": {
        "id": "8a629138"
      },
      "source": [
        "# Reverse a string\n",
        "print(name[::-1])"
      ],
      "execution_count": null,
      "outputs": []
    },
    {
      "cell_type": "markdown",
      "metadata": {
        "id": "6a9c081c"
      },
      "source": [
        "### 🧩 3. Sequence Types: list, tuple, range\n",
        "🔹 Lists (Mutable)"
      ]
    },
    {
      "cell_type": "code",
      "metadata": {
        "id": "e238d118"
      },
      "source": [
        "items = [1, 2, 3]\n",
        "items.append(4)\n",
        "items[0] = 100\n",
        "print(items)"
      ],
      "execution_count": null,
      "outputs": []
    },
    {
      "cell_type": "markdown",
      "metadata": {
        "id": "5c746e05"
      },
      "source": [
        "🔹 Tuples (Immutable)"
      ]
    },
    {
      "cell_type": "code",
      "metadata": {
        "id": "b2e6786e"
      },
      "source": [
        "point = (3, 4)\n",
        "# point[0] = 10  ❌ Error!\n",
        "print(point)"
      ],
      "execution_count": null,
      "outputs": []
    },
    {
      "cell_type": "markdown",
      "metadata": {
        "id": "365c77f3"
      },
      "source": [
        "🔹 Ranges"
      ]
    },
    {
      "cell_type": "code",
      "metadata": {
        "id": "25ec3548"
      },
      "source": [
        "r = range(5)\n",
        "print(list(r))  # [0, 1, 2, 3, 4]"
      ],
      "execution_count": null,
      "outputs": []
    },
    {
      "cell_type": "markdown",
      "metadata": {
        "id": "7711a1c6"
      },
      "source": [
        "### 🔍 List Slicing and Unpacking"
      ]
    },
    {
      "cell_type": "code",
      "metadata": {
        "id": "967d85bd"
      },
      "source": [
        "numbers = [10, 20, 30, 40, 50, 60]\n",
        "print(numbers[::2])  # [10, 30, 50]\n",
        "\n",
        "a, *b, c = [1, 2, 3, 4]\n",
        "print(a, b, c)  # a=1, b=[2,3], c=4"
      ],
      "execution_count": null,
      "outputs": []
    },
    {
      "cell_type": "markdown",
      "metadata": {
        "id": "ef9a8823"
      },
      "source": [
        "### 🗺️ 4. Mapping Type – dict"
      ]
    },
    {
      "cell_type": "code",
      "metadata": {
        "id": "a696c075"
      },
      "source": [
        "info = {\"name\": \"Alice\", \"age\": 30}\n",
        "print(info[\"name\"])\n",
        "info[\"job\"] = \"Engineer\"\n",
        "print(info)"
      ],
      "execution_count": null,
      "outputs": []
    },
    {
      "cell_type": "markdown",
      "metadata": {
        "id": "cf6262f9"
      },
      "source": [
        "### 🔘 5. Boolean and None"
      ]
    },
    {
      "cell_type": "code",
      "metadata": {
        "id": "89e2fb5b"
      },
      "source": [
        "flag = True\n",
        "value = None\n",
        "print(type(flag), type(value))"
      ],
      "execution_count": null,
      "outputs": []
    },
    {
      "cell_type": "markdown",
      "metadata": {
        "id": "bff48939"
      },
      "source": [
        "### 🌈 6. Set Types\n",
        "🔹 set (Unique, unordered)"
      ]
    },
    {
      "cell_type": "code",
      "metadata": {
        "id": "6f0d2bbb"
      },
      "source": [
        "colors = {\"red\", \"blue\", \"red\"}\n",
        "print(colors)  # {'red', 'blue'}"
      ],
      "execution_count": null,
      "outputs": []
    },
    {
      "cell_type": "markdown",
      "metadata": {
        "id": "95b740ee"
      },
      "source": [
        "🔹 frozenset (Immutable)"
      ]
    },
    {
      "cell_type": "code",
      "metadata": {
        "id": "9d76f829"
      },
      "source": [
        "frozen = frozenset([1, 2, 3])\n",
        "print(frozen)"
      ],
      "execution_count": null,
      "outputs": []
    },
    {
      "cell_type": "markdown",
      "metadata": {
        "id": "785d07b7"
      },
      "source": [
        "### 🧵 7. Binary Types"
      ]
    },
    {
      "cell_type": "code",
      "metadata": {
        "id": "1c64d010"
      },
      "source": [
        "data = b\"hello\"\n",
        "buffer = bytearray([65, 66, 67])\n",
        "print(data, buffer)"
      ],
      "execution_count": null,
      "outputs": []
    },
    {
      "cell_type": "markdown",
      "metadata": {
        "id": "5ac3f36d"
      },
      "source": [
        "### 📁 8. File-like Type"
      ]
    },
    {
      "cell_type": "code",
      "metadata": {
        "id": "6ab7f61c"
      },
      "source": [
        "f = open(\"sample.txt\", \"w\")\n",
        "f.write(\"This is a file.\")\n",
        "f.close()\n",
        "\n",
        "f = open(\"sample.txt\", \"r\")\n",
        "print(f.read())\n",
        "f.close()"
      ],
      "execution_count": null,
      "outputs": []
    },
    {
      "cell_type": "markdown",
      "metadata": {
        "id": "89b249b6"
      },
      "source": [
        "✅ Best practice is using with (we'll cover in file handling).\n",
        "\n",
        "### 🧠 Mini Challenge\n",
        "1. Create a list of 5 names and sort it.\n",
        "2. Convert this list to a tuple.\n",
        "3. Make a set from that tuple and add a new item.\n",
        "4. Create a dict where names are keys and values are their lengths."
      ]
    },
    {
      "cell_type": "markdown",
      "metadata": {
        "id": "155bd5b5"
      },
      "source": [
        "# 🧠 Python Course in Colab: Part 3 – Control Flow (Conditions & Loops)\n",
        "### ✅ 1. Conditional Statements"
      ]
    },
    {
      "cell_type": "code",
      "metadata": {
        "id": "3d60a9dc"
      },
      "source": [
        "score = 85\n",
        "\n",
        "if score >= 90:\n",
        "    print(\"A\")\n",
        "elif score >= 80:\n",
        "    print(\"B\")\n",
        "else:\n",
        "    print(\"Below B\")"
      ],
      "execution_count": null,
      "outputs": []
    },
    {
      "cell_type": "markdown",
      "metadata": {
        "id": "f9fa8001"
      },
      "source": [
        "🔹 Ternary Operator (One-liner if)"
      ]
    },
    {
      "cell_type": "code",
      "metadata": {
        "id": "b804668c"
      },
      "source": [
        "status = \"Passed\" if score >= 50 else \"Failed\"\n",
        "print(status)"
      ],
      "execution_count": null,
      "outputs": []
    },
    {
      "cell_type": "markdown",
      "metadata": {
        "id": "222329e2"
      },
      "source": [
        "🔹 Tuple Index Trick (Just for fun)"
      ]
    },
    {
      "cell_type": "code",
      "metadata": {
        "id": "64ad10d2"
      },
      "source": [
        "flag = True\n",
        "print((\"No\", \"Yes\")[flag])  # Outputs \"Yes\""
      ],
      "execution_count": null,
      "outputs": []
    },
    {
      "cell_type": "markdown",
      "metadata": {
        "id": "a0606b72"
      },
      "source": [
        "### 🔁 2. Loops: for and while\n",
        "🔹 for loop"
      ]
    },
    {
      "cell_type": "code",
      "metadata": {
        "id": "3bdaa796"
      },
      "source": [
        "for i in range(1, 4):\n",
        "    print(\"Looping:\", i)"
      ],
      "execution_count": null,
      "outputs": []
    },
    {
      "cell_type": "markdown",
      "metadata": {
        "id": "2415ec1d"
      },
      "source": [
        "🔹 while loop"
      ]
    },
    {
      "cell_type": "code",
      "metadata": {
        "id": "66b8cd5e"
      },
      "source": [
        "x = 0\n",
        "while x < 3:\n",
        "    print(\"x is\", x)\n",
        "    x += 1"
      ],
      "execution_count": null,
      "outputs": []
    },
    {
      "cell_type": "markdown",
      "metadata": {
        "id": "81cc1191"
      },
      "source": [
        "### 🧰 3. Loop Tools (Power Tools!)"
      ]
    },
    {
      "cell_type": "code",
      "metadata": {
        "id": "a4ccc3fa"
      },
      "source": [
        "# in / not in\n",
        "print(\"a\" in \"cat\")       # True\n",
        "print(3 not in [1, 2, 3]) # False\n",
        "\n",
        "# range()\n",
        "for i in range(3):\n",
        "    print(i)\n",
        "\n",
        "# enumerate()\n",
        "for i, v in enumerate([\"a\", \"b\"]):\n",
        "    print(i, v)\n",
        "\n",
        "# zip()\n",
        "for a, b in zip([1, 2], [3, 4]):\n",
        "    print(a, b)\n",
        "\n",
        "# map() & filter()\n",
        "print(list(map(str, [1, 2, 3])))\n",
        "print(list(filter(lambda x: x > 1, [1, 2, 3])))"
      ],
      "execution_count": null,
      "outputs": []
    },
    {
      "cell_type": "markdown",
      "metadata": {
        "id": "e1af8bec"
      },
      "source": [
        "### 🧪 4. Manual Iterators"
      ]
    },
    {
      "cell_type": "code",
      "metadata": {
        "id": "87517d19"
      },
      "source": [
        "it = iter([10, 20])\n",
        "print(next(it))  # 10\n",
        "print(next(it))  # 20"
      ],
      "execution_count": null,
      "outputs": []
    },
    {
      "cell_type": "markdown",
      "metadata": {
        "id": "7ec12c9f"
      },
      "source": [
        "### 🚦 5. Loop Control Statements"
      ]
    },
    {
      "cell_type": "code",
      "metadata": {
        "id": "527d1ee1"
      },
      "source": [
        "for x in range(5):\n",
        "    if x == 3:\n",
        "        break  # stops loop\n",
        "    if x == 1:\n",
        "        continue  # skips this\n",
        "    print(x)"
      ],
      "execution_count": null,
      "outputs": []
    },
    {
      "cell_type": "markdown",
      "metadata": {
        "id": "fb2efbac"
      },
      "source": [
        "### 🧠 6. Chained Comparisons"
      ]
    },
    {
      "cell_type": "code",
      "metadata": {
        "id": "9870ffec"
      },
      "source": [
        "x = 5\n",
        "if 0 < x < 10:\n",
        "    print(\"x is in range (0, 10)\")"
      ],
      "execution_count": null,
      "outputs": []
    },
    {
      "cell_type": "markdown",
      "metadata": {
        "id": "6e0fe95d"
      },
      "source": [
        "### 🧩 7. Pattern Matching (Python 3.10+)"
      ]
    },
    {
      "cell_type": "code",
      "metadata": {
        "id": "a8ca3f2d"
      },
      "source": [
        "status = \"ok\"\n",
        "\n",
        "match status:\n",
        "    case \"ok\":\n",
        "        print(\"Everything is fine\")\n",
        "    case \"error\":\n",
        "        print(\"Something went wrong\")"
      ],
      "execution_count": null,
      "outputs": []
    },
    {
      "cell_type": "markdown",
      "metadata": {
        "id": "58ba810e"
      },
      "source": [
        "### 🧠 Mini Practice Time!\n",
        "1. Write a loop to print numbers from 1 to 10, skipping even numbers.\n",
        "2. Ask the user for their age, and print a message based on their age group (child, teen, adult).\n",
        "3. Use zip() to combine names and scores, and print each as \"Name: Score\"."
      ]
    },
    {
      "cell_type": "markdown",
      "metadata": {
        "id": "e1708d31"
      },
      "source": [
        "# 🧠 Python Course in Colab: Part 4 – Functions in Python\n",
        "Functions help us reuse code, organize logic, and reduce repetition.\n",
        "\n",
        "### 🔧 1. Defining and Calling a Function"
      ]
    },
    {
      "cell_type": "code",
      "metadata": {
        "id": "04b2c190"
      },
      "source": [
        "def greet():\n",
        "    print(\"Hello, Pythonista!\")\n",
        "\n",
        "greet()"
      ],
      "execution_count": null,
      "outputs": []
    },
    {
      "cell_type": "markdown",
      "metadata": {
        "id": "d7bbb8c3"
      },
      "source": [
        "### 📦 2. Function Parameters\n",
        "🔹 Positional (Required)"
      ]
    },
    {
      "cell_type": "code",
      "metadata": {
        "id": "cdd56b7a"
      },
      "source": [
        "def greet(name):\n",
        "    print(f\"Hello, {name}!\")\n",
        "\n",
        "greet(\"Alice\")"
      ],
      "execution_count": null,
      "outputs": []
    },
    {
      "cell_type": "markdown",
      "metadata": {
        "id": "f5155568"
      },
      "source": [
        "🔹 Default Parameters"
      ]
    },
    {
      "cell_type": "code",
      "metadata": {
        "id": "773e06be"
      },
      "source": [
        "def greet(name=\"Guest\"):\n",
        "    print(f\"Hi, {name}\")\n",
        "\n",
        "greet()"
      ],
      "execution_count": null,
      "outputs": []
    },
    {
      "cell_type": "markdown",
      "metadata": {
        "id": "b7d94397"
      },
      "source": [
        "🔹 *args – Multiple Positional"
      ]
    },
    {
      "cell_type": "code",
      "metadata": {
        "id": "e865d2ca"
      },
      "source": [
        "def add(*numbers):\n",
        "    print(sum(numbers))\n",
        "\n",
        "add(1, 2, 3, 4)  # Output: 10"
      ],
      "execution_count": null,
      "outputs": []
    },
    {
      "cell_type": "markdown",
      "metadata": {
        "id": "cdb4b42d"
      },
      "source": [
        "🔹 **kwargs – Named Arguments"
      ]
    },
    {
      "cell_type": "code",
      "metadata": {
        "id": "a8bd1a92"
      },
      "source": [
        "def info(**data):\n",
        "    print(data)\n",
        "\n",
        "info(name=\"Amin\", age=30)"
      ],
      "execution_count": null,
      "outputs": []
    },
    {
      "cell_type": "markdown",
      "metadata": {
        "id": "799c9498"
      },
      "source": [
        "### 🏁 3. Return Values"
      ]
    },
    {
      "cell_type": "code",
      "metadata": {
        "id": "3b58783d"
      },
      "source": [
        "def square(x):\n",
        "    return x * x\n",
        "\n",
        "result = square(5)\n",
        "print(result)"
      ],
      "execution_count": null,
      "outputs": []
    },
    {
      "cell_type": "markdown",
      "metadata": {
        "id": "28d30485"
      },
      "source": [
        "### 🧠 4. Variable Scope\n",
        "🔹 Local vs Global"
      ]
    },
    {
      "cell_type": "code",
      "metadata": {
        "id": "8190dd6f"
      },
      "source": [
        "x = \"global\"\n",
        "\n",
        "def test():\n",
        "    x = \"local\"\n",
        "    print(x)\n",
        "\n",
        "test()\n",
        "print(x)"
      ],
      "execution_count": null,
      "outputs": []
    },
    {
      "cell_type": "markdown",
      "metadata": {
        "id": "5c683357"
      },
      "source": [
        "### ⚡ 5. Lambda Functions (Anonymous)"
      ]
    },
    {
      "cell_type": "code",
      "metadata": {
        "id": "a426299a"
      },
      "source": [
        "double = lambda x: x * 2\n",
        "print(double(4))  # Output: 8"
      ],
      "execution_count": null,
      "outputs": []
    },
    {
      "cell_type": "markdown",
      "metadata": {
        "id": "6fe2cb2b"
      },
      "source": [
        "### 🔁 6. Recursive Functions"
      ]
    },
    {
      "cell_type": "code",
      "metadata": {
        "id": "67d525e3"
      },
      "source": [
        "def factorial(n):\n",
        "    if n == 0:\n",
        "        return 1\n",
        "    return n * factorial(n - 1)\n",
        "\n",
        "print(factorial(5))  # Output: 120"
      ],
      "execution_count": null,
      "outputs": []
    },
    {
      "cell_type": "markdown",
      "metadata": {
        "id": "b0a28142"
      },
      "source": [
        "### 📝 7. Docstrings & Type Hints"
      ]
    },
    {
      "cell_type": "code",
      "metadata": {
        "id": "2dc07cc0"
      },
      "source": [
        "def greet(name: str) -> None:\n",
        "    \"\"\"Greets the user by name.\"\"\"\n",
        "    print(f\"Hello, {name}\")"
      ],
      "execution_count": null,
      "outputs": []
    },
    {
      "cell_type": "markdown",
      "metadata": {
        "id": "67bc998b"
      },
      "source": [
        "### 🎯 8. First-Class Functions"
      ]
    },
    {
      "cell_type": "code",
      "metadata": {
        "id": "532160dc"
      },
      "source": [
        "def shout(msg):\n",
        "    return msg.upper()\n",
        "\n",
        "def speak(func):\n",
        "    return func(\"hi\")\n",
        "\n",
        "print(speak(shout))  # Output: HI"
      ],
      "execution_count": null,
      "outputs": []
    },
    {
      "cell_type": "markdown",
      "metadata": {
        "id": "e1bf3fac"
      },
      "source": [
        "### 🏗️ 9. Nested Functions & Closures"
      ]
    },
    {
      "cell_type": "code",
      "metadata": {
        "id": "d15b5885"
      },
      "source": [
        "def outer():\n",
        "    def inner():\n",
        "        print(\"Inner function\")\n",
        "    inner()\n",
        "\n",
        "outer()"
      ],
      "execution_count": null,
      "outputs": []
    },
    {
      "cell_type": "markdown",
      "metadata": {
        "id": "ccdc9410"
      },
      "source": [
        "### 🎁 10. Decorators"
      ]
    },
    {
      "cell_type": "code",
      "metadata": {
        "id": "4403ab3f"
      },
      "source": [
        "def debug(func):\n",
        "    def wrapper():\n",
        "        print(\"Start\")\n",
        "        func()\n",
        "        print(\"End\")\n",
        "    return wrapper\n",
        "\n",
        "@debug\n",
        "def say_hello():\n",
        "    print(\"Hello!\")\n",
        "\n",
        "say_hello()"
      ],
      "execution_count": null,
      "outputs": []
    },
    {
      "cell_type": "markdown",
      "metadata": {
        "id": "f11ad781"
      },
      "source": [
        "### 🔄 11. Generator Functions (yield)"
      ]
    },
    {
      "cell_type": "code",
      "metadata": {
        "id": "dcc4967b"
      },
      "source": [
        "def count_up():\n",
        "    yield 1\n",
        "    yield 2\n",
        "    yield 3\n",
        "\n",
        "for num in count_up():\n",
        "    print(num)"
      ],
      "execution_count": null,
      "outputs": []
    },
    {
      "cell_type": "markdown",
      "metadata": {
        "id": "55cbcf46"
      },
      "source": [
        "### 🧠 Practice Challenge\n",
        "Write a function that takes a list of numbers and returns a new list with only the even numbers."
      ]
    },
    {
      "cell_type": "markdown",
      "metadata": {
        "id": "00a513c4"
      },
      "source": [
        "# 🧠 Python Course in Colab: Part 5 – Object-Oriented Programming (OOP)\n",
        "OOP helps us structure code around objects and models from real life.\n",
        "\n",
        "### 🧱 1. Class Definition & Object Creation"
      ]
    },
    {
      "cell_type": "code",
      "metadata": {
        "id": "95be86d8"
      },
      "source": [
        "class Person:\n",
        "    pass\n",
        "\n",
        "p = Person()\n",
        "print(type(p))  # <class '__main__.Person'>"
      ],
      "execution_count": null,
      "outputs": []
    },
    {
      "cell_type": "markdown",
      "metadata": {
        "id": "bba181fc"
      },
      "source": [
        "### 🔧 2. __init__ Constructor & Instance Attributes"
      ]
    },
    {
      "cell_type": "code",
      "metadata": {
        "id": "7def8645"
      },
      "source": [
        "class Person:\n",
        "    def __init__(self, name):\n",
        "        self.name = name\n",
        "\n",
        "p = Person(\"Alice\")\n",
        "print(p.name)"
      ],
      "execution_count": null,
      "outputs": []
    },
    {
      "cell_type": "markdown",
      "metadata": {
        "id": "c8fffe17"
      },
      "source": [
        "### 🗣️ 3. Instance Methods"
      ]
    },
    {
      "cell_type": "code",
      "metadata": {
        "id": "fc720c73"
      },
      "source": [
        "class Person:\n",
        "    def __init__(self, name):\n",
        "        self.name = name\n",
        "\n",
        "    def greet(self):\n",
        "        print(f\"Hi, I'm {self.name}!\")\n",
        "\n",
        "p = Person(\"Bob\")\n",
        "p.greet()"
      ],
      "execution_count": null,
      "outputs": []
    },
    {
      "cell_type": "markdown",
      "metadata": {
        "id": "c2b26887"
      },
      "source": [
        "### 🔁 4. Class Attributes (Shared Across Instances)"
      ]
    },
    {
      "cell_type": "code",
      "metadata": {
        "id": "c817cfce"
      },
      "source": [
        "class Car:\n",
        "    wheels = 4\n",
        "\n",
        "print(Car.wheels)"
      ],
      "execution_count": null,
      "outputs": []
    },
    {
      "cell_type": "markdown",
      "metadata": {
        "id": "51234f6d"
      },
      "source": [
        "### 🧬 5. Inheritance"
      ]
    },
    {
      "cell_type": "code",
      "metadata": {
        "id": "0937609d"
      },
      "source": [
        "class Animal:\n",
        "    def speak(self):\n",
        "        print(\"Animal speaks\")\n",
        "\n",
        "class Dog(Animal):\n",
        "    def speak(self):\n",
        "        print(\"Dog barks\")\n",
        "\n",
        "d = Dog()\n",
        "d.speak()"
      ],
      "execution_count": null,
      "outputs": []
    },
    {
      "cell_type": "markdown",
      "metadata": {
        "id": "d79bc03b"
      },
      "source": [
        "### 🧠 6. Using super()"
      ]
    },
    {
      "cell_type": "code",
      "metadata": {
        "id": "d549b3b2"
      },
      "source": [
        "class Animal:\n",
        "    def __init__(self, name):\n",
        "        self.name = name\n",
        "\n",
        "class Dog(Animal):\n",
        "    def __init__(self, name, breed):\n",
        "        super().__init__(name)\n",
        "        self.breed = breed\n",
        "\n",
        "d = Dog(\"Buddy\", \"Labrador\")\n",
        "print(d.name, d.breed)"
      ],
      "execution_count": null,
      "outputs": []
    },
    {
      "cell_type": "markdown",
      "metadata": {
        "id": "99872fde"
      },
      "source": [
        "### 🛡️ 7. Encapsulation (Private Attributes)"
      ]
    },
    {
      "cell_type": "code",
      "metadata": {
        "id": "529d7661"
      },
      "source": [
        "class User:\n",
        "    def __init__(self):\n",
        "        self.__password = \"secret\"\n",
        "\n",
        "u = User()\n",
        "# print(u.__password) ❌ Error: private"
      ],
      "execution_count": null,
      "outputs": []
    },
    {
      "cell_type": "markdown",
      "metadata": {
        "id": "1994d49e"
      },
      "source": [
        "### 🏠 8. Property Decorators"
      ]
    },
    {
      "cell_type": "code",
      "metadata": {
        "id": "75eac533"
      },
      "source": [
        "class Student:\n",
        "    def __init__(self, age):\n",
        "        self._age = age\n",
        "\n",
        "    @property\n",
        "    def age(self):\n",
        "        return self._age\n",
        "\n",
        "s = Student(20)\n",
        "print(s.age)"
      ],
      "execution_count": null,
      "outputs": []
    },
    {
      "cell_type": "markdown",
      "metadata": {
        "id": "dcabcdc7"
      },
      "source": [
        "### 🧬 9. Polymorphism"
      ]
    },
    {
      "cell_type": "code",
      "metadata": {
        "id": "946e9db2"
      },
      "source": [
        "class Cat:\n",
        "    def speak(self):\n",
        "        print(\"Meow\")\n",
        "\n",
        "class Dog:\n",
        "    def speak(self):\n",
        "        print(\"Woof\")\n",
        "\n",
        "for animal in [Cat(), Dog()]:\n",
        "    animal.speak()"
      ],
      "execution_count": null,
      "outputs": []
    },
    {
      "cell_type": "markdown",
      "metadata": {
        "id": "ee52e1a9"
      },
      "source": [
        "### 🧰 10. Abstract Base Classes (ABC)"
      ]
    },
    {
      "cell_type": "code",
      "metadata": {
        "id": "2a73182d"
      },
      "source": [
        "from abc import ABC, abstractmethod\n",
        "\n",
        "class Shape(ABC):\n",
        "    @abstractmethod\n",
        "    def area(self):\n",
        "        pass"
      ],
      "execution_count": null,
      "outputs": []
    },
    {
      "cell_type": "markdown",
      "metadata": {
        "id": "1be43f54"
      },
      "source": [
        "### 🧩 11. Composition"
      ]
    }
  ]
}