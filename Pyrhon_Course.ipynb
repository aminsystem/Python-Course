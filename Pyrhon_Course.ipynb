{
  "nbformat": 4,
  "nbformat_minor": 0,
  "metadata": {
    "colab": {
      "provenance": [],
      "authorship_tag": "ABX9TyOFnP4pwW7+6TzBsIeGsuEt",
      "include_colab_link": true
    },
    "kernelspec": {
      "name": "python3",
      "display_name": "Python 3"
    },
    "language_info": {
      "name": "python"
    }
  },
  "cells": [
    {
      "cell_type": "markdown",
      "metadata": {
        "id": "view-in-github",
        "colab_type": "text"
      },
      "source": [
        "<a href=\"https://colab.research.google.com/github/aminsystem/Python-Course/blob/main/Pyrhon_Course.ipynb\" target=\"_parent\"><img src=\"https://colab.research.google.com/assets/colab-badge.svg\" alt=\"Open In Colab\"/></a>"
      ]
    },
    {
      "cell_type": "markdown",
      "metadata": {
        "id": "5e7405c1"
      },
      "source": [
        "# 🧠 Python Course in Google Colab: Part 1 – Intro to Python\n",
        "\n",
        "### 🔰 1. Welcome and Setup"
      ]
    },
    {
      "cell_type": "code",
      "metadata": {
        "id": "51cc4b7e"
      },
      "source": [
        "# Hello Python!\n",
        "print(\"Hello, Python! 👋\")"
      ],
      "execution_count": null,
      "outputs": []
    },
    {
      "cell_type": "markdown",
      "metadata": {
        "id": "2e0f9b0b"
      },
      "source": [
        "---\n",
        "\n",
        "### 🖥️ 2. What is Python?\n",
        "\n",
        "Python is a high-level, easy-to-read, interpreted programming language.\n",
        "\n",
        "🟡 **Features**:\n",
        "\n",
        "* Easy to learn\n",
        "* Cross-platform\n",
        "* Huge standard library\n",
        "* Popular for: web, data science, AI, scripting"
      ]
    },
    {
      "cell_type": "markdown",
      "metadata": {
        "id": "991578c3"
      },
      "source": [
        "---\n",
        "\n",
        "### ⚙️ 3. Interpreters & Runtimes"
      ]
    },
    {
      "cell_type": "code",
      "metadata": {
        "id": "6903673a"
      },
      "source": [
        "# Try math directly in Colab\n",
        "print(3 + 4 * 2)\n",
        "\n",
        "# Try some types\n",
        "print(type(3.14), type(\"hi\"), type([1, 2, 3]))"
      ],
      "execution_count": null,
      "outputs": []
    },
    {
      "cell_type": "markdown",
      "metadata": {
        "id": "ce14dcb8"
      },
      "source": [
        "---\n",
        "\n",
        "### ✍️ 4. Editors & IDEs\n",
        "\n",
        "| Type    | Examples               |\n",
        "| ------- | ---------------------- |\n",
        "| Offline | VS Code, PyCharm, IDLE |\n",
        "| Online  | Colab, JupyterLite     |\n",
        "\n",
        "💡 In this course, **Google Colab** is our main environment!"
      ]
    },
    {
      "cell_type": "markdown",
      "metadata": {
        "id": "8312863b"
      },
      "source": [
        "---\n",
        "\n",
        "### 🧪 5. Try It Yourself!"
      ]
    },
    {
      "cell_type": "code",
      "metadata": {
        "id": "d70a6289"
      },
      "source": [
        "# Write a simple greeting\n",
        "name = input(\"What's your name? \")\n",
        "print(\"Welcome,\", name)"
      ],
      "execution_count": null,
      "outputs": []
    },
    {
      "cell_type": "markdown",
      "metadata": {
        "id": "2434812a"
      },
      "source": [
        "---\n",
        "\n",
        "### 🔄 6. Python Execution Flow"
      ]
    },
    {
      "cell_type": "code",
      "metadata": {
        "id": "9b740e3f"
      },
      "source": [
        "x = 10\n",
        "y = 5\n",
        "if x > y:\n",
        "    print(\"x is greater!\")\n",
        "else:\n",
        "    print(\"y is greater or equal!\")"
      ],
      "execution_count": null,
      "outputs": []
    },
    {
      "cell_type": "markdown",
      "metadata": {
        "id": "5a08c0d1"
      },
      "source": [
        "---\n",
        "\n",
        "### 💻 7. Bonus: Run Shell Commands (Colab Magic)"
      ]
    },
    {
      "cell_type": "code",
      "metadata": {
        "id": "eab94819"
      },
      "source": [
        "# Run a shell command in Colab\n",
        "!echo \"This is from the shell\"\n",
        "!python --version"
      ],
      "execution_count": null,
      "outputs": []
    },
    {
      "cell_type": "markdown",
      "metadata": {
        "id": "16b94e13"
      },
      "source": [
        "---\n",
        "\n",
        "### 🧠 Mini Quiz (Comment answers below)\n",
        "\n",
        "1. What's the output of: `print(type(\"123\"))`?\n",
        "2. What's the result of: `5 * 2 + 3`?\n",
        "3. Can you name two offline IDEs?"
      ]
    },
    {
      "cell_type": "markdown",
      "metadata": {
        "id": "db5df278"
      },
      "source": [
        "# 🧠 Python Course in Google Colab: Part 2 – Data Types & Structures\n",
        "Python has built-in data types for storing different kinds of information.\n",
        "\n",
        "### 🔢 1. Numeric Types"
      ]
    },
    {
      "cell_type": "code",
      "metadata": {
        "id": "cb2157a3"
      },
      "source": [
        "# Integers\n",
        "x = 42\n",
        "print(type(x), x)\n",
        "\n",
        "# Float (decimal)\n",
        "price = 19.99\n",
        "print(type(price), price)\n",
        "\n",
        "# Complex\n",
        "z = 2 + 3j\n",
        "print(type(z), z.real, z.imag)"
      ],
      "execution_count": null,
      "outputs": []
    },
    {
      "cell_type": "markdown",
      "metadata": {
        "id": "9a534681"
      },
      "source": [
        "### 🔤 2. Text Type – str"
      ]
    },
    {
      "cell_type": "code",
      "metadata": {
        "id": "72a6e14b"
      },
      "source": [
        "name = \"Python\"\n",
        "print(name.upper(), name.lower(), name[0], name[-1])"
      ],
      "execution_count": null,
      "outputs": []
    },
    {
      "cell_type": "markdown",
      "metadata": {
        "id": "f6868b14"
      },
      "source": [
        "🧪 Try this:"
      ]
    },
    {
      "cell_type": "code",
      "metadata": {
        "id": "8a629138"
      },
      "source": [
        "# Reverse a string\n",
        "print(name[::-1])"
      ],
      "execution_count": null,
      "outputs": []
    },
    {
      "cell_type": "markdown",
      "metadata": {
        "id": "6a9c081c"
      },
      "source": [
        "### 🧩 3. Sequence Types: list, tuple, range\n",
        "🔹 Lists (Mutable)"
      ]
    },
    {
      "cell_type": "code",
      "metadata": {
        "id": "e238d118"
      },
      "source": [
        "items = [1, 2, 3]\n",
        "items.append(4)\n",
        "items[0] = 100\n",
        "print(items)"
      ],
      "execution_count": null,
      "outputs": []
    },
    {
      "cell_type": "markdown",
      "metadata": {
        "id": "5c746e05"
      },
      "source": [
        "🔹 Tuples (Immutable)"
      ]
    },
    {
      "cell_type": "code",
      "metadata": {
        "id": "b2e6786e"
      },
      "source": [
        "point = (3, 4)\n",
        "# point[0] = 10  ❌ Error!\n",
        "print(point)"
      ],
      "execution_count": null,
      "outputs": []
    },
    {
      "cell_type": "markdown",
      "metadata": {
        "id": "365c77f3"
      },
      "source": [
        "🔹 Ranges"
      ]
    },
    {
      "cell_type": "code",
      "metadata": {
        "id": "25ec3548"
      },
      "source": [
        "r = range(5)\n",
        "print(list(r))  # [0, 1, 2, 3, 4]"
      ],
      "execution_count": null,
      "outputs": []
    },
    {
      "cell_type": "markdown",
      "metadata": {
        "id": "7711a1c6"
      },
      "source": [
        "### 🔍 List Slicing and Unpacking"
      ]
    },
    {
      "cell_type": "code",
      "metadata": {
        "id": "967d85bd"
      },
      "source": [
        "numbers = [10, 20, 30, 40, 50, 60]\n",
        "print(numbers[::2])  # [10, 30, 50]\n",
        "\n",
        "a, *b, c = [1, 2, 3, 4]\n",
        "print(a, b, c)  # a=1, b=[2,3], c=4"
      ],
      "execution_count": null,
      "outputs": []
    },
    {
      "cell_type": "markdown",
      "metadata": {
        "id": "ef9a8823"
      },
      "source": [
        "### 🗺️ 4. Mapping Type – dict"
      ]
    },
    {
      "cell_type": "code",
      "metadata": {
        "id": "a696c075"
      },
      "source": [
        "info = {\"name\": \"Alice\", \"age\": 30}\n",
        "print(info[\"name\"])\n",
        "info[\"job\"] = \"Engineer\"\n",
        "print(info)"
      ],
      "execution_count": null,
      "outputs": []
    },
    {
      "cell_type": "markdown",
      "metadata": {
        "id": "cf6262f9"
      },
      "source": [
        "### 🔘 5. Boolean and None"
      ]
    },
    {
      "cell_type": "code",
      "metadata": {
        "id": "89e2fb5b"
      },
      "source": [
        "flag = True\n",
        "value = None\n",
        "print(type(flag), type(value))"
      ],
      "execution_count": null,
      "outputs": []
    },
    {
      "cell_type": "markdown",
      "metadata": {
        "id": "bff48939"
      },
      "source": [
        "### 🌈 6. Set Types\n",
        "🔹 set (Unique, unordered)"
      ]
    },
    {
      "cell_type": "code",
      "metadata": {
        "id": "6f0d2bbb"
      },
      "source": [
        "colors = {\"red\", \"blue\", \"red\"}\n",
        "print(colors)  # {'red', 'blue'}"
      ],
      "execution_count": null,
      "outputs": []
    },
    {
      "cell_type": "markdown",
      "metadata": {
        "id": "95b740ee"
      },
      "source": [
        "🔹 frozenset (Immutable)"
      ]
    },
    {
      "cell_type": "code",
      "metadata": {
        "id": "9d76f829"
      },
      "source": [
        "frozen = frozenset([1, 2, 3])\n",
        "print(frozen)"
      ],
      "execution_count": null,
      "outputs": []
    },
    {
      "cell_type": "markdown",
      "metadata": {
        "id": "785d07b7"
      },
      "source": [
        "### 🧵 7. Binary Types"
      ]
    },
    {
      "cell_type": "code",
      "metadata": {
        "id": "1c64d010"
      },
      "source": [
        "data = b\"hello\"\n",
        "buffer = bytearray([65, 66, 67])\n",
        "print(data, buffer)"
      ],
      "execution_count": null,
      "outputs": []
    },
    {
      "cell_type": "markdown",
      "metadata": {
        "id": "5ac3f36d"
      },
      "source": [
        "### 📁 8. File-like Type"
      ]
    },
    {
      "cell_type": "code",
      "metadata": {
        "id": "6ab7f61c"
      },
      "source": [
        "f = open(\"sample.txt\", \"w\")\n",
        "f.write(\"This is a file.\")\n",
        "f.close()\n",
        "\n",
        "f = open(\"sample.txt\", \"r\")\n",
        "print(f.read())\n",
        "f.close()"
      ],
      "execution_count": null,
      "outputs": []
    },
    {
      "cell_type": "markdown",
      "metadata": {
        "id": "89b249b6"
      },
      "source": [
        "✅ Best practice is using with (we'll cover in file handling).\n",
        "\n",
        "### 🧠 Mini Challenge\n",
        "1. Create a list of 5 names and sort it.\n",
        "2. Convert this list to a tuple.\n",
        "3. Make a set from that tuple and add a new item.\n",
        "4. Create a dict where names are keys and values are their lengths."
      ]
    },
    {
      "cell_type": "markdown",
      "metadata": {
        "id": "155bd5b5"
      },
      "source": [
        "# 🧠 Python Course in Colab: Part 3 – Control Flow (Conditions & Loops)\n",
        "### ✅ 1. Conditional Statements"
      ]
    },
    {
      "cell_type": "code",
      "metadata": {
        "id": "3d60a9dc"
      },
      "source": [
        "score = 85\n",
        "\n",
        "if score >= 90:\n",
        "    print(\"A\")\n",
        "elif score >= 80:\n",
        "    print(\"B\")\n",
        "else:\n",
        "    print(\"Below B\")"
      ],
      "execution_count": null,
      "outputs": []
    },
    {
      "cell_type": "markdown",
      "metadata": {
        "id": "f9fa8001"
      },
      "source": [
        "🔹 Ternary Operator (One-liner if)"
      ]
    },
    {
      "cell_type": "code",
      "metadata": {
        "id": "b804668c"
      },
      "source": [
        "status = \"Passed\" if score >= 50 else \"Failed\"\n",
        "print(status)"
      ],
      "execution_count": null,
      "outputs": []
    },
    {
      "cell_type": "markdown",
      "metadata": {
        "id": "222329e2"
      },
      "source": [
        "🔹 Tuple Index Trick (Just for fun)"
      ]
    },
    {
      "cell_type": "code",
      "metadata": {
        "id": "64ad10d2"
      },
      "source": [
        "flag = True\n",
        "print((\"No\", \"Yes\")[flag])  # Outputs \"Yes\""
      ],
      "execution_count": null,
      "outputs": []
    },
    {
      "cell_type": "markdown",
      "metadata": {
        "id": "a0606b72"
      },
      "source": [
        "### 🔁 2. Loops: for and while\n",
        "🔹 for loop"
      ]
    },
    {
      "cell_type": "code",
      "metadata": {
        "id": "3bdaa796"
      },
      "source": [
        "for i in range(1, 4):\n",
        "    print(\"Looping:\", i)"
      ],
      "execution_count": null,
      "outputs": []
    },
    {
      "cell_type": "markdown",
      "metadata": {
        "id": "2415ec1d"
      },
      "source": [
        "🔹 while loop"
      ]
    },
    {
      "cell_type": "code",
      "metadata": {
        "id": "66b8cd5e"
      },
      "source": [
        "x = 0\n",
        "while x < 3:\n",
        "    print(\"x is\", x)\n",
        "    x += 1"
      ],
      "execution_count": null,
      "outputs": []
    },
    {
      "cell_type": "markdown",
      "metadata": {
        "id": "81cc1191"
      },
      "source": [
        "### 🧰 3. Loop Tools (Power Tools!)"
      ]
    },
    {
      "cell_type": "code",
      "metadata": {
        "id": "a4ccc3fa"
      },
      "source": [
        "# in / not in\n",
        "print(\"a\" in \"cat\")       # True\n",
        "print(3 not in [1, 2, 3]) # False\n",
        "\n",
        "# range()\n",
        "for i in range(3):\n",
        "    print(i)\n",
        "\n",
        "# enumerate()\n",
        "for i, v in enumerate([\"a\", \"b\"]):\n",
        "    print(i, v)\n",
        "\n",
        "# zip()\n",
        "for a, b in zip([1, 2], [3, 4]):\n",
        "    print(a, b)\n",
        "\n",
        "# map() & filter()\n",
        "print(list(map(str, [1, 2, 3])))\n",
        "print(list(filter(lambda x: x > 1, [1, 2, 3])))"
      ],
      "execution_count": null,
      "outputs": []
    },
    {
      "cell_type": "markdown",
      "metadata": {
        "id": "e1af8bec"
      },
      "source": [
        "### 🧪 4. Manual Iterators"
      ]
    },
    {
      "cell_type": "code",
      "metadata": {
        "id": "87517d19"
      },
      "source": [
        "it = iter([10, 20])\n",
        "print(next(it))  # 10\n",
        "print(next(it))  # 20"
      ],
      "execution_count": null,
      "outputs": []
    },
    {
      "cell_type": "markdown",
      "metadata": {
        "id": "7ec12c9f"
      },
      "source": [
        "### 🚦 5. Loop Control Statements"
      ]
    },
    {
      "cell_type": "code",
      "metadata": {
        "id": "527d1ee1"
      },
      "source": [
        "for x in range(5):\n",
        "    if x == 3:\n",
        "        break  # stops loop\n",
        "    if x == 1:\n",
        "        continue  # skips this\n",
        "    print(x)"
      ],
      "execution_count": null,
      "outputs": []
    },
    {
      "cell_type": "markdown",
      "metadata": {
        "id": "fb2efbac"
      },
      "source": [
        "### 🧠 6. Chained Comparisons"
      ]
    },
    {
      "cell_type": "code",
      "metadata": {
        "id": "9870ffec"
      },
      "source": [
        "x = 5\n",
        "if 0 < x < 10:\n",
        "    print(\"x is in range (0, 10)\")"
      ],
      "execution_count": null,
      "outputs": []
    },
    {
      "cell_type": "markdown",
      "metadata": {
        "id": "6e0fe95d"
      },
      "source": [
        "### 🧩 7. Pattern Matching (Python 3.10+)"
      ]
    },
    {
      "cell_type": "code",
      "metadata": {
        "id": "a8ca3f2d"
      },
      "source": [
        "status = \"ok\"\n",
        "\n",
        "match status:\n",
        "    case \"ok\":\n",
        "        print(\"Everything is fine\")\n",
        "    case \"error\":\n",
        "        print(\"Something went wrong\")"
      ],
      "execution_count": null,
      "outputs": []
    },
    {
      "cell_type": "markdown",
      "metadata": {
        "id": "58ba810e"
      },
      "source": [
        "### 🧠 Mini Practice Time!\n",
        "1. Write a loop to print numbers from 1 to 10, skipping even numbers.\n",
        "2. Ask the user for their age, and print a message based on their age group (child, teen, adult).\n",
        "3. Use zip() to combine names and scores, and print each as \"Name: Score\"."
      ]
    },
    {
      "cell_type": "markdown",
      "metadata": {
        "id": "e1708d31"
      },
      "source": [
        "# 🧠 Python Course in Colab: Part 4 – Functions in Python\n",
        "Functions help us reuse code, organize logic, and reduce repetition.\n",
        "\n",
        "### 🔧 1. Defining and Calling a Function"
      ]
    },
    {
      "cell_type": "code",
      "metadata": {
        "id": "04b2c190"
      },
      "source": [
        "def greet():\n",
        "    print(\"Hello, Pythonista!\")\n",
        "\n",
        "greet()"
      ],
      "execution_count": null,
      "outputs": []
    },
    {
      "cell_type": "markdown",
      "metadata": {
        "id": "d7bbb8c3"
      },
      "source": [
        "### 📦 2. Function Parameters\n",
        "🔹 Positional (Required)"
      ]
    },
    {
      "cell_type": "code",
      "metadata": {
        "id": "cdd56b7a"
      },
      "source": [
        "def greet(name):\n",
        "    print(f\"Hello, {name}!\")\n",
        "\n",
        "greet(\"Alice\")"
      ],
      "execution_count": null,
      "outputs": []
    },
    {
      "cell_type": "markdown",
      "metadata": {
        "id": "f5155568"
      },
      "source": [
        "🔹 Default Parameters"
      ]
    },
    {
      "cell_type": "code",
      "metadata": {
        "id": "773e06be"
      },
      "source": [
        "def greet(name=\"Guest\"):\n",
        "    print(f\"Hi, {name}\")\n",
        "\n",
        "greet()"
      ],
      "execution_count": null,
      "outputs": []
    },
    {
      "cell_type": "markdown",
      "metadata": {
        "id": "b7d94397"
      },
      "source": [
        "🔹 *args – Multiple Positional"
      ]
    },
    {
      "cell_type": "code",
      "metadata": {
        "id": "e865d2ca"
      },
      "source": [
        "def add(*numbers):\n",
        "    print(sum(numbers))\n",
        "\n",
        "add(1, 2, 3, 4)  # Output: 10"
      ],
      "execution_count": null,
      "outputs": []
    },
    {
      "cell_type": "markdown",
      "metadata": {
        "id": "cdb4b42d"
      },
      "source": [
        "🔹 **kwargs – Named Arguments"
      ]
    },
    {
      "cell_type": "code",
      "metadata": {
        "id": "a8bd1a92"
      },
      "source": [
        "def info(**data):\n",
        "    print(data)\n",
        "\n",
        "info(name=\"Amin\", age=30)"
      ],
      "execution_count": null,
      "outputs": []
    },
    {
      "cell_type": "markdown",
      "metadata": {
        "id": "799c9498"
      },
      "source": [
        "### 🏁 3. Return Values"
      ]
    },
    {
      "cell_type": "code",
      "metadata": {
        "id": "3b58783d"
      },
      "source": [
        "def square(x):\n",
        "    return x * x\n",
        "\n",
        "result = square(5)\n",
        "print(result)"
      ],
      "execution_count": null,
      "outputs": []
    },
    {
      "cell_type": "markdown",
      "metadata": {
        "id": "28d30485"
      },
      "source": [
        "### 🧠 4. Variable Scope\n",
        "🔹 Local vs Global"
      ]
    },
    {
      "cell_type": "code",
      "metadata": {
        "id": "8190dd6f"
      },
      "source": [
        "x = \"global\"\n",
        "\n",
        "def test():\n",
        "    x = \"local\"\n",
        "    print(x)\n",
        "\n",
        "test()\n",
        "print(x)"
      ],
      "execution_count": null,
      "outputs": []
    },
    {
      "cell_type": "markdown",
      "metadata": {
        "id": "5c683357"
      },
      "source": [
        "### ⚡ 5. Lambda Functions (Anonymous)"
      ]
    },
    {
      "cell_type": "code",
      "metadata": {
        "id": "a426299a"
      },
      "source": [
        "double = lambda x: x * 2\n",
        "print(double(4))  # Output: 8"
      ],
      "execution_count": null,
      "outputs": []
    },
    {
      "cell_type": "markdown",
      "metadata": {
        "id": "6fe2cb2b"
      },
      "source": [
        "### 🔁 6. Recursive Functions"
      ]
    },
    {
      "cell_type": "code",
      "metadata": {
        "id": "67d525e3"
      },
      "source": [
        "def factorial(n):\n",
        "    if n == 0:\n",
        "        return 1\n",
        "    return n * factorial(n - 1)\n",
        "\n",
        "print(factorial(5))  # Output: 120"
      ],
      "execution_count": null,
      "outputs": []
    },
    {
      "cell_type": "markdown",
      "metadata": {
        "id": "b0a28142"
      },
      "source": [
        "### 📝 7. Docstrings & Type Hints"
      ]
    },
    {
      "cell_type": "code",
      "metadata": {
        "id": "2dc07cc0"
      },
      "source": [
        "def greet(name: str) -> None:\n",
        "    \"\"\"Greets the user by name.\"\"\"\n",
        "    print(f\"Hello, {name}\")"
      ],
      "execution_count": null,
      "outputs": []
    },
    {
      "cell_type": "markdown",
      "metadata": {
        "id": "67bc998b"
      },
      "source": [
        "### 🎯 8. First-Class Functions"
      ]
    },
    {
      "cell_type": "code",
      "metadata": {
        "id": "532160dc"
      },
      "source": [
        "def shout(msg):\n",
        "    return msg.upper()\n",
        "\n",
        "def speak(func):\n",
        "    return func(\"hi\")\n",
        "\n",
        "print(speak(shout))  # Output: HI"
      ],
      "execution_count": null,
      "outputs": []
    },
    {
      "cell_type": "markdown",
      "metadata": {
        "id": "e1bf3fac"
      },
      "source": [
        "### 🏗️ 9. Nested Functions & Closures"
      ]
    },
    {
      "cell_type": "code",
      "metadata": {
        "id": "d15b5885"
      },
      "source": [
        "def outer():\n",
        "    def inner():\n",
        "        print(\"Inner function\")\n",
        "    inner()\n",
        "\n",
        "outer()"
      ],
      "execution_count": null,
      "outputs": []
    },
    {
      "cell_type": "markdown",
      "metadata": {
        "id": "ccdc9410"
      },
      "source": [
        "### 🎁 10. Decorators"
      ]
    },
    {
      "cell_type": "code",
      "metadata": {
        "id": "4403ab3f"
      },
      "source": [
        "def debug(func):\n",
        "    def wrapper():\n",
        "        print(\"Start\")\n",
        "        func()\n",
        "        print(\"End\")\n",
        "    return wrapper\n",
        "\n",
        "@debug\n",
        "def say_hello():\n",
        "    print(\"Hello!\")\n",
        "\n",
        "say_hello()"
      ],
      "execution_count": null,
      "outputs": []
    },
    {
      "cell_type": "markdown",
      "metadata": {
        "id": "f11ad781"
      },
      "source": [
        "### 🔄 11. Generator Functions (yield)"
      ]
    },
    {
      "cell_type": "code",
      "metadata": {
        "id": "dcc4967b"
      },
      "source": [
        "def count_up():\n",
        "    yield 1\n",
        "    yield 2\n",
        "    yield 3\n",
        "\n",
        "for num in count_up():\n",
        "    print(num)"
      ],
      "execution_count": null,
      "outputs": []
    },
    {
      "cell_type": "markdown",
      "metadata": {
        "id": "55cbcf46"
      },
      "source": [
        "### 🧠 Practice Challenge\n",
        "1. Write a function that returns the max of three numbers.\n",
        "\n",
        "2. Create a function with *args that multiplies all inputs.\n",
        "\n",
        "3. Create a lambda that checks if a number is even.\n",
        "\n",
        "4. Decorate a function that logs \"Function started\" and \"Function ended\".\n",
        "\n",
        "5. Write a recursive function that reverses a string.\n",
        "\n"
      ]
    },
    {
      "cell_type": "markdown",
      "metadata": {
        "id": "2d36795c"
      },
      "source": [
        "# 🧠 Python Course in Colab: Part 5 – Object-Oriented Programming (OOP)\n",
        "OOP helps us structure code around objects and models from real life.\n",
        "\n",
        "### 🧱 1. Class Definition & Object Creation"
      ]
    },
    {
      "cell_type": "code",
      "metadata": {
        "id": "ec7fbcf8"
      },
      "source": [
        "class Person:\n",
        "    pass\n",
        "\n",
        "p = Person()\n",
        "print(type(p))  # <class '__main__.Person'>"
      ],
      "execution_count": null,
      "outputs": []
    },
    {
      "cell_type": "markdown",
      "metadata": {
        "id": "4687a90d"
      },
      "source": [
        "### 🔧 2. __init__ Constructor & Instance Attributes"
      ]
    },
    {
      "cell_type": "code",
      "metadata": {
        "id": "69e132f1"
      },
      "source": [
        "class Person:\n",
        "    def __init__(self, name):\n",
        "        self.name = name\n",
        "\n",
        "p = Person(\"Alice\")\n",
        "print(p.name)"
      ],
      "execution_count": null,
      "outputs": []
    },
    {
      "cell_type": "markdown",
      "metadata": {
        "id": "fd3b89b4"
      },
      "source": [
        "### 🗣️ 3. Instance Methods"
      ]
    },
    {
      "cell_type": "code",
      "metadata": {
        "id": "bd84ecd6"
      },
      "source": [
        "class Person:\n",
        "    def __init__(self, name):\n",
        "        self.name = name\n",
        "\n",
        "    def greet(self):\n",
        "        print(f\"Hi, I'm {self.name}!\")\n",
        "\n",
        "p = Person(\"Bob\")\n",
        "p.greet()"
      ],
      "execution_count": null,
      "outputs": []
    },
    {
      "cell_type": "markdown",
      "metadata": {
        "id": "7857ce92"
      },
      "source": [
        "### 🔁 4. Class Attributes (Shared Across Instances)"
      ]
    },
    {
      "cell_type": "code",
      "metadata": {
        "id": "3e0abdfa"
      },
      "source": [
        "class Car:\n",
        "    wheels = 4\n",
        "\n",
        "print(Car.wheels)"
      ],
      "execution_count": null,
      "outputs": []
    },
    {
      "cell_type": "markdown",
      "metadata": {
        "id": "dfa9a8c4"
      },
      "source": [
        "### 🧬 5. Inheritance"
      ]
    },
    {
      "cell_type": "code",
      "metadata": {
        "id": "5a74ee4d"
      },
      "source": [
        "class Animal:\n",
        "    def speak(self):\n",
        "        print(\"Animal speaks\")\n",
        "\n",
        "class Dog(Animal):\n",
        "    def speak(self):\n",
        "        print(\"Dog barks\")\n",
        "\n",
        "d = Dog()\n",
        "d.speak()"
      ],
      "execution_count": null,
      "outputs": []
    },
    {
      "cell_type": "markdown",
      "metadata": {
        "id": "ac32f50d"
      },
      "source": [
        "### 🧠 6. Using super()"
      ]
    },
    {
      "cell_type": "code",
      "metadata": {
        "id": "abce0d28"
      },
      "source": [
        "class Animal:\n",
        "    def __init__(self, name):\n",
        "        self.name = name\n",
        "\n",
        "class Dog(Animal):\n",
        "    def __init__(self, name, breed):\n",
        "        super().__init__(name)\n",
        "        self.breed = breed\n",
        "\n",
        "d = Dog(\"Buddy\", \"Labrador\")\n",
        "print(d.name, d.breed)"
      ],
      "execution_count": null,
      "outputs": []
    },
    {
      "cell_type": "markdown",
      "metadata": {
        "id": "26a0aa31"
      },
      "source": [
        "### 🛡️ 7. Encapsulation (Private Attributes)"
      ]
    },
    {
      "cell_type": "code",
      "metadata": {
        "id": "afece208"
      },
      "source": [
        "class User:\n",
        "    def __init__(self):\n",
        "        self.__password = \"secret\"\n",
        "\n",
        "u = User()\n",
        "# print(u.__password) ❌ Error: private"
      ],
      "execution_count": null,
      "outputs": []
    },
    {
      "cell_type": "markdown",
      "metadata": {
        "id": "edb32eb8"
      },
      "source": [
        "### 🏠 8. Property Decorators"
      ]
    },
    {
      "cell_type": "code",
      "metadata": {
        "id": "bcde38e4"
      },
      "source": [
        "class Student:\n",
        "    def __init__(self, age):\n",
        "        self._age = age\n",
        "\n",
        "    @property\n",
        "    def age(self):\n",
        "        return self._age\n",
        "\n",
        "s = Student(20)\n",
        "print(s.age)"
      ],
      "execution_count": null,
      "outputs": []
    },
    {
      "cell_type": "markdown",
      "metadata": {
        "id": "11ababa4"
      },
      "source": [
        "### 🧬 9. Polymorphism"
      ]
    },
    {
      "cell_type": "code",
      "metadata": {
        "id": "378bb3f5"
      },
      "source": [
        "class Cat:\n",
        "    def speak(self):\n",
        "        print(\"Meow\")\n",
        "\n",
        "class Dog:\n",
        "    def speak(self):\n",
        "        print(\"Woof\")\n",
        "\n",
        "for animal in [Cat(), Dog()]:\n",
        "    animal.speak()"
      ],
      "execution_count": null,
      "outputs": []
    },
    {
      "cell_type": "markdown",
      "metadata": {
        "id": "30cbff45"
      },
      "source": [
        "### 🧰 10. Abstract Base Classes (ABC)"
      ]
    },
    {
      "cell_type": "code",
      "metadata": {
        "id": "74b94dbc"
      },
      "source": [
        "from abc import ABC, abstractmethod\n",
        "\n",
        "class Shape(ABC):\n",
        "    @abstractmethod\n",
        "    def area(self):\n",
        "        pass"
      ],
      "execution_count": null,
      "outputs": []
    },
    {
      "cell_type": "markdown",
      "metadata": {
        "id": "0c4895e4"
      },
      "source": [
        "### 🧩 11. Composition"
      ]
    },
    {
      "cell_type": "code",
      "metadata": {
        "id": "d2393814"
      },
      "source": [
        "class Engine:\n",
        "    def start(self):\n",
        "        print(\"Engine starting\")\n",
        "\n",
        "class Car:\n",
        "    def __init__(self):\n",
        "        self.engine = Engine()\n",
        "\n",
        "    def start(self):\n",
        "        self.engine.start()\n",
        "\n",
        "c = Car()\n",
        "c.start()"
      ],
      "execution_count": null,
      "outputs": []
    },
    {
      "cell_type": "markdown",
      "metadata": {
        "id": "608a3c46"
      },
      "source": [
        "### 🌀 12. Magic Methods (Dunder Methods)"
      ]
    },
    {
      "cell_type": "code",
      "metadata": {
        "id": "fab5b1d2"
      },
      "source": [
        "class Box:\n",
        "    def __init__(self, value):\n",
        "        self.value = value\n",
        "\n",
        "    def __str__(self):\n",
        "        return f\"Box({self.value})\"\n",
        "\n",
        "b = Box(42)\n",
        "print(b)  # Box(42)"
      ],
      "execution_count": null,
      "outputs": []
    },
    {
      "cell_type": "markdown",
      "metadata": {
        "id": "cf3fb224"
      },
      "source": [
        "### ➕ 13. Operator Overloading"
      ]
    },
    {
      "cell_type": "code",
      "metadata": {
        "id": "f753cb9f"
      },
      "source": [
        "class Number:\n",
        "    def __init__(self, value):\n",
        "        self.value = value\n",
        "\n",
        "    def __add__(self, other):\n",
        "        return self.value + other.value\n",
        "\n",
        "a = Number(3)\n",
        "b = Number(4)\n",
        "print(a + b)  # 7"
      ],
      "execution_count": null,
      "outputs": []
    },
    {
      "cell_type": "markdown",
      "metadata": {
        "id": "cbf5134d"
      },
      "source": [
        "### 🧠 Mini Practice\n",
        "1. Create a `Book` class with `title` & `author`, and a method to describe it.\n",
        "2. Make a `Library` class that can hold multiple books.\n",
        "3. Add a `__str__` method to print book titles nicely.\n",
        "4. Create a `User` with private `balance` and a getter using `@property`.\n",
        "5. Inherit `Admin` from `User` and override a method."
      ]
    },
    {
      "cell_type": "markdown",
      "metadata": {
        "id": "543185b2"
      },
      "source": [
        "# 🧠 Python Course in Colab: Part 6 – File Handling 📁\n",
        "In this section, you’ll learn how to read, write, and manage files of different types in Python.\n",
        "\n",
        "### 📂 1. Opening a File"
      ]
    },
    {
      "cell_type": "code",
      "metadata": {
        "id": "8167c40b"
      },
      "source": [
        "# \"r\" = read, \"w\" = write, \"a\" = append\n",
        "f = open(\"example.txt\", \"w\")\n",
        "f.write(\"Hello, file!\")\n",
        "f.close()"
      ],
      "execution_count": null,
      "outputs": []
    },
    {
      "cell_type": "markdown",
      "metadata": {
        "id": "71ff90d9"
      },
      "source": [
        "### 🧾 2. Reading from a File"
      ]
    },
    {
      "cell_type": "code",
      "metadata": {
        "id": "a372209c"
      },
      "source": [
        "f = open(\"example.txt\", \"r\")\n",
        "content = f.read()\n",
        "f.close()\n",
        "print(content)"
      ],
      "execution_count": null,
      "outputs": []
    },
    {
      "cell_type": "markdown",
      "metadata": {
        "id": "1eb92ca5"
      },
      "source": [
        "### ✅ 3. Best Practice: With Statement"
      ]
    },
    {
      "cell_type": "code",
      "metadata": {
        "id": "7190d74a"
      },
      "source": [
        "with open(\"example.txt\", \"r\") as f:\n",
        "    print(f.read())\n",
        "# ✔️ Automatically closes the file"
      ],
      "execution_count": null,
      "outputs": []
    },
    {
      "cell_type": "markdown",
      "metadata": {
        "id": "74769fe5"
      },
      "source": [
        "### ✍️ 4. Write & Append"
      ]
    },
    {
      "cell_type": "code",
      "metadata": {
        "id": "564da36c"
      },
      "source": [
        "# Overwrite (w)\n",
        "with open(\"new.txt\", \"w\") as f:\n",
        "    f.write(\"Fresh content!\")\n",
        "\n",
        "# Append (a)\n",
        "with open(\"new.txt\", \"a\") as f:\n",
        "    f.write(\"\\nExtra line\")"
      ],
      "execution_count": null,
      "outputs": []
    },
    {
      "cell_type": "markdown",
      "metadata": {
        "id": "4b5587b0"
      },
      "source": [
        "### 🧵 5. Reading Line by Line"
      ]
    },
    {
      "cell_type": "code",
      "metadata": {
        "id": "95a16fc6"
      },
      "source": [
        "with open(\"new.txt\", \"r\") as f:\n",
        "    for line in f:\n",
        "        print(line.strip())"
      ],
      "execution_count": null,
      "outputs": []
    },
    {
      "cell_type": "markdown",
      "metadata": {
        "id": "bed7a16f"
      },
      "source": [
        "### 🧪 6. Reading as List of Lines"
      ]
    },
    {
      "cell_type": "code",
      "metadata": {
        "id": "cb3ae0ca"
      },
      "source": [
        "with open(\"new.txt\", \"r\") as f:\n",
        "    lines = f.readlines()\n",
        "print(lines)"
      ],
      "execution_count": null,
      "outputs": []
    },
    {
      "cell_type": "markdown",
      "metadata": {
        "id": "7e2397b1"
      },
      "source": [
        "### 🧠 7. File Modes Recap\n",
        "| Mode    | Meaning               |\n",
        "| ------- | --------------------- |\n",
        "| \"r\"     | Read                  |\n",
        "| \"w\"     | Write (overwrite)     |\n",
        "| \"a\"     | Append                |\n",
        "| \"x\"     | Create, error if exists|\n",
        "| \"b\"     | Binary                |\n",
        "| \"+\"     | Read & Write          |"
      ]
    },
    {
      "cell_type": "markdown",
      "metadata": {
        "id": "5068b933"
      },
      "source": [
        "### 🗂️ 8. Binary Files"
      ]
    },
    {
      "cell_type": "code",
      "metadata": {
        "id": "e1f37b84"
      },
      "source": [
        "# Create a dummy binary file for demonstration\n",
        "with open(\"image.jpg\", \"wb\") as f:\n",
        "    f.write(b'\\x89PNG\\r\\n\\x1a\\n\\x00\\x00\\x00\\rIHDR\\x00\\x00\\x00\\x01\\x00\\x00\\x00\\x01\\x08\\x06\\x00\\x00\\x00\\x1f\\x15\\xc4\\x89\\x00\\x00\\x00\\nIDATx\\x9cc`\\x00\\x00\\x00\\x02\\x00\\x01H\\xaf\\xa4\\xde\\x00\\x00\\x00\\x00IEND\\xaeB`\\x82')\n",
        "\n",
        "with open(\"image.jpg\", \"rb\") as img:\n",
        "    data = img.read()\n",
        "    print(len(data))  # Size in bytes"
      ],
      "execution_count": null,
      "outputs": []
    },
    {
      "cell_type": "markdown",
      "metadata": {
        "id": "413d4b2b"
      },
      "source": [
        "### 🛤️ 9. Using os for Paths"
      ]
    },
    {
      "cell_type": "code",
      "metadata": {
        "id": "2281f990"
      },
      "source": [
        "import os\n",
        "\n",
        "print(os.path.exists(\"example.txt\"))  # True/False\n",
        "print(os.path.join(\"folder\", \"file.txt\"))"
      ],
      "execution_count": null,
      "outputs": []
    },
    {
      "cell_type": "markdown",
      "metadata": {
        "id": "748985d6"
      },
      "source": [
        "### 🧭 10. Modern Paths with pathlib"
      ]
    },
    {
      "cell_type": "code",
      "metadata": {
        "id": "2b9056a6"
      },
      "source": [
        "from pathlib import Path\n",
        "\n",
        "file = Path(\"example.txt\")\n",
        "if file.exists():\n",
        "    print(file.read_text())"
      ],
      "execution_count": null,
      "outputs": []
    },
    {
      "cell_type": "markdown",
      "metadata": {
        "id": "fe80a188"
      },
      "source": [
        "### 📋 11. CSV Files"
      ]
    },
    {
      "cell_type": "code",
      "metadata": {
        "id": "2f6db4c3"
      },
      "source": [
        "import csv\n",
        "\n",
        "# Writing CSV\n",
        "with open(\"people.csv\", \"w\", newline=\"\") as f:\n",
        "    writer = csv.writer(f)\n",
        "    writer.writerow([\"Name\", \"Age\"])\n",
        "    writer.writerow([\"Alice\", 30])\n",
        "    writer.writerow([\"Bob\", 25])\n",
        "\n",
        "# Reading CSV\n",
        "with open(\"people.csv\", \"r\") as f:\n",
        "    reader = csv.reader(f)\n",
        "    for row in reader:\n",
        "        print(row)"
      ],
      "execution_count": null,
      "outputs": []
    },
    {
      "cell_type": "markdown",
      "metadata": {
        "id": "11c06e07"
      },
      "source": [
        "### 🌐 12. JSON Files"
      ]
    },
    {
      "cell_type": "code",
      "metadata": {
        "id": "bfbfa5cd"
      },
      "source": [
        "import json\n",
        "\n",
        "data = {\"name\": \"Alice\", \"age\": 30}\n",
        "\n",
        "# Write JSON\n",
        "with open(\"data.json\", \"w\") as f:\n",
        "    json.dump(data, f)\n",
        "\n",
        "# Read JSON\n",
        "with open(\"data.json\", \"r\") as f:\n",
        "    result = json.load(f)\n",
        "\n",
        "print(result)"
      ],
      "execution_count": null,
      "outputs": []
    },
    {
      "cell_type": "markdown",
      "metadata": {
        "id": "9b328570"
      },
      "source": [
        "### 🛑 13. Handling File Errors"
      ]
    },
    {
      "cell_type": "code",
      "metadata": {
        "id": "0be2744c"
      },
      "source": [
        "try:\n",
        "    with open(\"nofile.txt\", \"r\") as f:\n",
        "        print(f.read())\n",
        "except FileNotFoundError:\n",
        "    print(\"File not found!\")"
      ],
      "execution_count": null,
      "outputs": []
    },
    {
      "cell_type": "markdown",
      "metadata": {
        "id": "e0e839d1"
      },
      "source": [
        "### 🧠 Mini Exercises\n",
        "1. Write a list of tasks to todo.txt.\n",
        "2. Read and print each task line-by-line.\n",
        "3. Create a CSV of your friends (name, email).\n",
        "4. Write a JSON with your profile (name, skills, age).\n",
        "5. Handle an error when reading a missing file."
      ]
    },
    {
      "cell_type": "markdown",
      "metadata": {
        "id": "4f240de3"
      },
      "source": [
        "# 🧠 Python Course in Colab: Part 7 – Code Testing 🧪\n",
        "Testing ensures your code works correctly, safely, and continuously.\n",
        "\n",
        "### ✅ 1. Why Testing?\n",
        "Testing helps:\n",
        "\n",
        "* Catch bugs early\n",
        "* Make changes with confidence\n",
        "* Document code behavior\n",
        "* Improve maintainability"
      ]
    },
    {
      "cell_type": "markdown",
      "metadata": {
        "id": "752d0f03"
      },
      "source": [
        "### 🔍 2. Types of Testing\n",
        "🔹 Unit Testing – Test individual functions"
      ]
    },
    {
      "cell_type": "code",
      "metadata": {
        "id": "7ebf4981"
      },
      "source": [
        "def add(a, b):\n",
        "    return a + b\n",
        "\n",
        "def test_add():\n",
        "    assert add(2, 3) == 5\n",
        "\n",
        "test_add()  # No output = pass"
      ],
      "execution_count": null,
      "outputs": []
    },
    {
      "cell_type": "markdown",
      "metadata": {
        "id": "d757ed9b"
      },
      "source": [
        "🔹 Integration Testing – Test interaction"
      ]
    },
    {
      "cell_type": "code",
      "metadata": {
        "id": "a7680cf9"
      },
      "source": [
        "def connect(): return \"ok\"\n",
        "def service(): return \"run\" if connect() == \"ok\" else \"fail\"\n",
        "\n",
        "def test_service():\n",
        "    assert service() == \"run\"\n",
        "\n",
        "test_service()"
      ],
      "execution_count": null,
      "outputs": []
    },
    {
      "cell_type": "markdown",
      "metadata": {
        "id": "ae8e495d"
      },
      "source": [
        "🔹 Functional Testing – Simulate user experience"
      ]
    },
    {
      "cell_type": "code",
      "metadata": {
        "id": "d81ec020"
      },
      "source": [
        "import requests\n",
        "\n",
        "def test_home():\n",
        "    res = requests.get(\"https://example.com\")\n",
        "    assert res.status_code == 200\n",
        "\n",
        "# Commented to prevent real request\n",
        "# test_home()"
      ],
      "execution_count": null,
      "outputs": []
    },
    {
      "cell_type": "markdown",
      "metadata": {
        "id": "616fdda8"
      },
      "source": [
        "🔹 Regression Testing – Prevent old bugs from returning"
      ]
    },
    {
      "cell_type": "code",
      "metadata": {
        "id": "379cc4c9"
      },
      "source": [
        "def get_discount(price): return price * 0.9\n",
        "\n",
        "def test_discount():\n",
        "    assert get_discount(100) == 90.0\n",
        "\n",
        "test_discount()"
      ],
      "execution_count": null,
      "outputs": []
    },
    {
      "cell_type": "markdown",
      "metadata": {
        "id": "8d27629e"
      },
      "source": [
        "### 🧪 3. Testing with unittest (Built-in)"
      ]
    },
    {
      "cell_type": "code",
      "metadata": {
        "id": "d5ae61db"
      },
      "source": [
        "import unittest\n",
        "\n",
        "class TestMath(unittest.TestCase):\n",
        "    def test_sum(self):\n",
        "        self.assertEqual(sum([1, 2]), 3)\n",
        "\n",
        "unittest.main(argv=[''], exit=False)"
      ],
      "execution_count": null,
      "outputs": []
    },
    {
      "cell_type": "markdown",
      "metadata": {
        "id": "78475673"
      },
      "source": [
        "### 🧪 4. Testing with pytest (Simple & Powerful)"
      ]
    },
    {
      "cell_type": "code",
      "metadata": {
        "id": "1a66707e"
      },
      "source": [
        "def is_even(n): return n % 2 == 0\n",
        "\n",
        "def test_is_even():\n",
        "    assert is_even(4)\n",
        "    assert not is_even(3)\n",
        "\n",
        "test_is_even()"
      ],
      "execution_count": null,
      "outputs": []
    },
    {
      "cell_type": "markdown",
      "metadata": {
        "id": "7af6dfbf"
      },
      "source": [
        "### 🧪 5. Testing with doctest (In docstring)"
      ]
    },
    {
      "cell_type": "code",
      "metadata": {
        "id": "e20dbef0"
      },
      "source": [
        "def square(x):\n",
        "    \"\"\"\n",
        "    >>> square(3)\n",
        "    9\n",
        "    \"\"\"\n",
        "    return x * x\n",
        "\n",
        "import doctest\n",
        "doctest.testmod()"
      ],
      "execution_count": null,
      "outputs": []
    },
    {
      "cell_type": "markdown",
      "metadata": {
        "id": "5ae5293a"
      },
      "source": [
        "### 🔁 6. Setup / Teardown Hooks"
      ]
    },
    {
      "cell_type": "code",
      "metadata": {
        "id": "7e9e3a2d"
      },
      "source": [
        "def setup_module():\n",
        "    print(\"Setting up...\")\n",
        "\n",
        "def teardown_module():\n",
        "    print(\"Cleaning up...\")\n",
        "\n",
        "def test_basic():\n",
        "    assert 1 + 1 == 2\n",
        "\n",
        "setup_module()\n",
        "test_basic()\n",
        "teardown_module()"
      ],
      "execution_count": null,
      "outputs": []
    },
    {
      "cell_type": "markdown",
      "metadata": {
        "id": "e001dba6"
      },
      "source": [
        "### 🛠️ 7. Mocking with unittest.mock"
      ]
    },
    {
      "cell_type": "code",
      "metadata": {
        "id": "a2647ffd"
      },
      "source": [
        "from unittest.mock import patch\n",
        "import requests\n",
        "\n",
        "@patch(\"requests.get\")\n",
        "def test_api(mock_get):\n",
        "    mock_get.return_value.status_code = 200\n",
        "    assert requests.get(\"url\").status_code == 200\n",
        "\n",
        "test_api()"
      ],
      "execution_count": null,
      "outputs": []
    },
    {
      "cell_type": "markdown",
      "metadata": {
        "id": "ae8ead2b"
      },
      "source": [
        "### 📏 8. Coverage Testing"
      ]
    },
    {
      "cell_type": "code",
      "metadata": {
        "id": "84cba1d1"
      },
      "source": [
        "# In your terminal (not Colab):\n",
        "# pip install coverage\n",
        "# coverage run -m pytest\n",
        "# coverage report"
      ],
      "execution_count": null,
      "outputs": []
    },
    {
      "cell_type": "markdown",
      "metadata": {
        "id": "029ab6c2"
      },
      "source": [
        "### 🔄 9. tox: Test multiple Python versions"
      ]
    },
    {
      "cell_type": "code",
      "metadata": {
        "id": "e7ba2a02"
      },
      "source": [
        "# Create tox.ini\n",
        "[tox]\n",
        "envlist = py38, py39\n",
        "\n",
        "[testenv]\n",
        "deps = pytest\n",
        "commands = pytest"
      ],
      "execution_count": null,
      "outputs": []
    },
    {
      "cell_type": "markdown",
      "metadata": {
        "id": "6309942b"
      },
      "source": [
        "### 🎯 10. Testing Pattern: AAA\n",
        "Arrange: Setup data\n",
        "\n",
        "Act: Run function\n",
        "\n",
        "Assert: Check results"
      ]
    },
    {
      "cell_type": "code",
      "metadata": {
        "id": "9e4a9969"
      },
      "source": [
        "def login(user): return user == \"admin\"\n",
        "\n",
        "def test_login():\n",
        "    user = \"admin\"           # Arrange\n",
        "    result = login(user)     # Act\n",
        "    assert result            # Assert\n",
        "\n",
        "test_login()"
      ],
      "execution_count": null,
      "outputs": []
    },
    {
      "cell_type": "markdown",
      "metadata": {
        "id": "4e79342b"
      },
      "source": [
        "### 🧠 Mini Exercises\n",
        "1. Write a function that returns True if a number is prime, and test it.\n",
        "2. Write a function to reverse a string; test it with unittest.\n",
        "3. Mock input() to test a function that asks for a name.\n",
        "4. Write a test to ensure a function raises an error if input is invalid.\n",
        "5. Add a doctest to your favorite utility function."
      ]
    },
    {
      "cell_type": "markdown",
      "metadata": {
        "id": "434b3d48"
      },
      "source": [
        "# 🧠 Python Course in Colab: Part 8 – Bonus Topics 🚀\n",
        "Cool, advanced & practical tools for real-world coding\n",
        "\n",
        "### 🧠 1. AI Development Assistants\n",
        "✅ **GitHub Copilot (Microsoft)**\n",
        "* Code suggestions in real-time\n",
        "* Needs VS Code and GitHub login\n",
        "\n",
        "✅ **Gemini Code Assist (Google)**\n",
        "* Google’s AI for generating & fixing code\n",
        "* Available in Colab (you may have it already!)\n",
        "\n",
        "✅ **Cursor AI (cursor.sh)**\n",
        "* AI-first code editor based on VS Code\n",
        "* Built-in chat, refactoring, docs\n",
        "\n",
        "**Try it:**\n",
        "👉 Ask your AI assistant: “Write a Python class for a bank account.”"
      ]
    },
    {
      "cell_type": "markdown",
      "metadata": {
        "id": "f3694a7f"
      },
      "source": [
        "### 🧰 2. Debugging with print() (Beginner)"
      ]
    },
    {
      "cell_type": "code",
      "metadata": {
        "id": "f2010180"
      },
      "source": [
        "def multiply(*numbers):\n",
        "    total = 1\n",
        "    for number in numbers:\n",
        "        print(\"Debug:\", number)\n",
        "        total *= number\n",
        "    return total\n",
        "\n",
        "print(multiply(1, 2, 3))"
      ],
      "execution_count": null,
      "outputs": []
    },
    {
      "cell_type": "markdown",
      "metadata": {
        "id": "42fb6311"
      },
      "source": [
        "### 🪛 3. Debugging with pdb (Pro)"
      ]
    },
    {
      "cell_type": "code",
      "metadata": {
        "id": "7bd37061"
      },
      "source": [
        "import pdb\n",
        "\n",
        "def divide(a, b):\n",
        "    pdb.set_trace()  # ⛔ Breakpoint here\n",
        "    return a / b\n",
        "\n",
        "# divide(10, 2)"
      ],
      "execution_count": null,
      "outputs": []
    },
    {
      "cell_type": "markdown",
      "metadata": {
        "id": "78a8b47e"
      },
      "source": [
        "### 🛠️ 4. Decorators with Arguments"
      ]
    },
    {
      "cell_type": "code",
      "metadata": {
        "id": "dc6a6515"
      },
      "source": [
        "def repeat(n):\n",
        "    def wrapper(func):\n",
        "        def inner(*args, **kwargs):\n",
        "            for _ in range(n):\n",
        "                func(*args, **kwargs)\n",
        "        return inner\n",
        "    return wrapper\n",
        "\n",
        "@repeat(3)\n",
        "def greet():\n",
        "    print(\"Hello!\")\n",
        "\n",
        "greet()"
      ],
      "execution_count": null,
      "outputs": []
    },
    {
      "cell_type": "markdown",
      "metadata": {
        "id": "f130072f"
      },
      "source": [
        "### 🧱 5. Design Patterns – Singleton"
      ]
    },
    {
      "cell_type": "code",
      "metadata": {
        "id": "f7e37f81"
      },
      "source": [
        "class Singleton:\n",
        "    _instance = None\n",
        "    def __new__(cls):\n",
        "        if not cls._instance:\n",
        "            cls._instance = super().__new__(cls)\n",
        "        return cls._instance\n",
        "\n",
        "s1 = Singleton()\n",
        "s2 = Singleton()\n",
        "print(s1 is s2)  # True"
      ],
      "execution_count": null,
      "outputs": []
    },
    {
      "cell_type": "markdown",
      "metadata": {
        "id": "e547169e"
      },
      "source": [
        "### 📌 6. Custom __call__ – Make Objects Callable"
      ]
    },
    {
      "cell_type": "code",
      "metadata": {
        "id": "d2888ad0"
      },
      "source": [
        "class Greeter:\n",
        "    def __call__(self):\n",
        "        print(\"Hi there!\")\n",
        "\n",
        "g = Greeter()\n",
        "g()  # Just like calling a function"
      ],
      "execution_count": null,
      "outputs": []
    },
    {
      "cell_type": "markdown",
      "metadata": {
        "id": "185ba48d"
      },
      "source": [
        "### 🧰 7. With Statement – Context Managers"
      ]
    },
    {
      "cell_type": "code",
      "metadata": {
        "id": "752c86a6"
      },
      "source": [
        "class File:\n",
        "    def __enter__(self):\n",
        "        print(\"Opening resource\")\n",
        "        return self\n",
        "    def __exit__(self, exc_type, exc_val, exc_tb):\n",
        "        print(\"Closing resource\")\n",
        "\n",
        "with File() as f:\n",
        "    print(\"Doing work\")"
      ],
      "execution_count": null,
      "outputs": []
    },
    {
      "cell_type": "markdown",
      "metadata": {
        "id": "9ee88152"
      },
      "source": [
        "### 🔁 8. Iterable Custom Classes"
      ]
    },
    {
      "cell_type": "code",
      "metadata": {
        "id": "2c4b0079"
      },
      "source": [
        "class MyList:\n",
        "    def __init__(self, data):\n",
        "        self.data = data\n",
        "    def __iter__(self):\n",
        "        return iter(self.data)\n",
        "\n",
        "for x in MyList([1, 2, 3]):\n",
        "    print(x)"
      ],
      "execution_count": null,
      "outputs": []
    },
    {
      "cell_type": "markdown",
      "metadata": {
        "id": "65340633"
      },
      "source": [
        "### 🧠 Mini Mastery Missions\n",
        "1. Create a class that tracks how many times its method has been called (using decorators).\n",
        "2. Create a class that behaves like a list using `__getitem__`, `__setitem__`, and `__len__`.\n",
        "3. Write your own context manager for logging execution time.\n",
        "4. Make a callable class that multiplies any number passed to it.\n",
        "5. Use Cursor or Copilot to generate code and refine it manually."
      ]
    }
  ]
}