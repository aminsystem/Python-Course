{
  "nbformat": 4,
  "nbformat_minor": 0,
  "metadata": {
    "colab": {
      "provenance": [],
      "authorship_tag": "ABX9TyPdMaJ/BCfVFt6XAR94Wgwq",
      "include_colab_link": true
    },
    "kernelspec": {
      "name": "python3",
      "display_name": "Python 3"
    },
    "language_info": {
      "name": "python"
    }
  },
  "cells": [
    {
      "cell_type": "markdown",
      "metadata": {
        "id": "view-in-github",
        "colab_type": "text"
      },
      "source": [
        "<a href=\"https://colab.research.google.com/github/aminsystem/Python-Course/blob/main/Pyrhon_Course.ipynb\" target=\"_parent\"><img src=\"https://colab.research.google.com/assets/colab-badge.svg\" alt=\"Open In Colab\"/></a>"
      ]
    },
    {
      "cell_type": "markdown",
      "metadata": {
        "id": "5e7405c1"
      },
      "source": [
        "# 🧠 Python Course in Google Colab: Part 1 – Intro to Python\n",
        "\n",
        "### 🔰 1. Welcome and Setup"
      ]
    },
    {
      "cell_type": "code",
      "metadata": {
        "id": "51cc4b7e"
      },
      "source": [
        "# Hello Python!\n",
        "print(\"Hello, Python! 👋\")"
      ],
      "execution_count": null,
      "outputs": []
    },
    {
      "cell_type": "markdown",
      "metadata": {
        "id": "2e0f9b0b"
      },
      "source": [
        "---\n",
        "\n",
        "### 🖥️ 2. What is Python?\n",
        "\n",
        "Python is a high-level, easy-to-read, interpreted programming language.\n",
        "\n",
        "🟡 **Features**:\n",
        "\n",
        "* Easy to learn\n",
        "* Cross-platform\n",
        "* Huge standard library\n",
        "* Popular for: web, data science, AI, scripting"
      ]
    },
    {
      "cell_type": "markdown",
      "metadata": {
        "id": "991578c3"
      },
      "source": [
        "---\n",
        "\n",
        "### ⚙️ 3. Interpreters & Runtimes"
      ]
    },
    {
      "cell_type": "code",
      "metadata": {
        "id": "6903673a"
      },
      "source": [
        "# Try math directly in Colab\n",
        "print(3 + 4 * 2)\n",
        "\n",
        "# Try some types\n",
        "print(type(3.14), type(\"hi\"), type([1, 2, 3]))"
      ],
      "execution_count": null,
      "outputs": []
    },
    {
      "cell_type": "markdown",
      "metadata": {
        "id": "ce14dcb8"
      },
      "source": [
        "---\n",
        "\n",
        "### ✍️ 4. Editors & IDEs\n",
        "\n",
        "| Type    | Examples               |\n",
        "| ------- | ---------------------- |\n",
        "| Offline | VS Code, PyCharm, IDLE |\n",
        "| Online  | Colab, JupyterLite     |\n",
        "\n",
        "💡 In this course, **Google Colab** is our main environment!"
      ]
    },
    {
      "cell_type": "markdown",
      "metadata": {
        "id": "8312863b"
      },
      "source": [
        "---\n",
        "\n",
        "### 🧪 5. Try It Yourself!"
      ]
    },
    {
      "cell_type": "code",
      "metadata": {
        "id": "d70a6289"
      },
      "source": [
        "# Write a simple greeting\n",
        "name = input(\"What's your name? \")\n",
        "print(\"Welcome,\", name)"
      ],
      "execution_count": null,
      "outputs": []
    },
    {
      "cell_type": "markdown",
      "metadata": {
        "id": "2434812a"
      },
      "source": [
        "---\n",
        "\n",
        "### 🔄 6. Python Execution Flow"
      ]
    },
    {
      "cell_type": "code",
      "metadata": {
        "id": "9b740e3f"
      },
      "source": [
        "x = 10\n",
        "y = 5\n",
        "if x > y:\n",
        "    print(\"x is greater!\")\n",
        "else:\n",
        "    print(\"y is greater or equal!\")"
      ],
      "execution_count": null,
      "outputs": []
    },
    {
      "cell_type": "markdown",
      "metadata": {
        "id": "5a08c0d1"
      },
      "source": [
        "---\n",
        "\n",
        "### 💻 7. Bonus: Run Shell Commands (Colab Magic)"
      ]
    },
    {
      "cell_type": "code",
      "metadata": {
        "id": "eab94819"
      },
      "source": [
        "# Run a shell command in Colab\n",
        "!echo \"This is from the shell\"\n",
        "!python --version"
      ],
      "execution_count": null,
      "outputs": []
    },
    {
      "cell_type": "markdown",
      "metadata": {
        "id": "16b94e13"
      },
      "source": [
        "---\n",
        "\n",
        "### 🧠 Mini Quiz (Comment answers below)\n",
        "\n",
        "1. What's the output of: `print(type(\"123\"))`?\n",
        "2. What's the result of: `5 * 2 + 3`?\n",
        "3. Can you name two offline IDEs?"
      ]
    },
    {
      "cell_type": "markdown",
      "metadata": {
        "id": "db5df278"
      },
      "source": [
        "# 🧠 Python Course in Google Colab: Part 2 – Data Types & Structures\n",
        "Python has built-in data types for storing different kinds of information.\n",
        "\n",
        "### 🔢 1. Numeric Types"
      ]
    },
    {
      "cell_type": "code",
      "metadata": {
        "id": "cb2157a3"
      },
      "source": [
        "# Integers\n",
        "x = 42\n",
        "print(type(x), x)\n",
        "\n",
        "# Float (decimal)\n",
        "price = 19.99\n",
        "print(type(price), price)\n",
        "\n",
        "# Complex\n",
        "z = 2 + 3j\n",
        "print(type(z), z.real, z.imag)"
      ],
      "execution_count": null,
      "outputs": []
    },
    {
      "cell_type": "markdown",
      "metadata": {
        "id": "9a534681"
      },
      "source": [
        "### 🔤 2. Text Type – str"
      ]
    },
    {
      "cell_type": "code",
      "metadata": {
        "id": "72a6e14b"
      },
      "source": [
        "name = \"Python\"\n",
        "print(name.upper(), name.lower(), name[0], name[-1])"
      ],
      "execution_count": null,
      "outputs": []
    },
    {
      "cell_type": "markdown",
      "metadata": {
        "id": "f6868b14"
      },
      "source": [
        "🧪 Try this:"
      ]
    },
    {
      "cell_type": "code",
      "metadata": {
        "id": "8a629138"
      },
      "source": [
        "# Reverse a string\n",
        "print(name[::-1])"
      ],
      "execution_count": null,
      "outputs": []
    },
    {
      "cell_type": "markdown",
      "metadata": {
        "id": "6a9c081c"
      },
      "source": [
        "### 🧩 3. Sequence Types: list, tuple, range\n",
        "🔹 Lists (Mutable)"
      ]
    },
    {
      "cell_type": "code",
      "metadata": {
        "id": "e238d118"
      },
      "source": [
        "items = [1, 2, 3]\n",
        "items.append(4)\n",
        "items[0] = 100\n",
        "print(items)"
      ],
      "execution_count": null,
      "outputs": []
    },
    {
      "cell_type": "markdown",
      "metadata": {
        "id": "5c746e05"
      },
      "source": [
        "🔹 Tuples (Immutable)"
      ]
    },
    {
      "cell_type": "code",
      "metadata": {
        "id": "b2e6786e"
      },
      "source": [
        "point = (3, 4)\n",
        "# point[0] = 10  ❌ Error!\n",
        "print(point)"
      ],
      "execution_count": null,
      "outputs": []
    },
    {
      "cell_type": "markdown",
      "metadata": {
        "id": "365c77f3"
      },
      "source": [
        "🔹 Ranges"
      ]
    },
    {
      "cell_type": "code",
      "metadata": {
        "id": "25ec3548"
      },
      "source": [
        "r = range(5)\n",
        "print(list(r))  # [0, 1, 2, 3, 4]"
      ],
      "execution_count": null,
      "outputs": []
    },
    {
      "cell_type": "markdown",
      "metadata": {
        "id": "7711a1c6"
      },
      "source": [
        "### 🔍 List Slicing and Unpacking"
      ]
    },
    {
      "cell_type": "code",
      "metadata": {
        "id": "967d85bd"
      },
      "source": [
        "numbers = [10, 20, 30, 40, 50, 60]\n",
        "print(numbers[::2])  # [10, 30, 50]\n",
        "\n",
        "a, *b, c = [1, 2, 3, 4]\n",
        "print(a, b, c)  # a=1, b=[2,3], c=4"
      ],
      "execution_count": null,
      "outputs": []
    },
    {
      "cell_type": "markdown",
      "metadata": {
        "id": "ef9a8823"
      },
      "source": [
        "### 🗺️ 4. Mapping Type – dict"
      ]
    },
    {
      "cell_type": "code",
      "metadata": {
        "id": "a696c075"
      },
      "source": [
        "info = {\"name\": \"Alice\", \"age\": 30}\n",
        "print(info[\"name\"])\n",
        "info[\"job\"] = \"Engineer\"\n",
        "print(info)"
      ],
      "execution_count": null,
      "outputs": []
    },
    {
      "cell_type": "markdown",
      "metadata": {
        "id": "cf6262f9"
      },
      "source": [
        "### 🔘 5. Boolean and None"
      ]
    },
    {
      "cell_type": "code",
      "metadata": {
        "id": "89e2fb5b"
      },
      "source": [
        "flag = True\n",
        "value = None\n",
        "print(type(flag), type(value))"
      ],
      "execution_count": null,
      "outputs": []
    },
    {
      "cell_type": "markdown",
      "metadata": {
        "id": "bff48939"
      },
      "source": [
        "### 🌈 6. Set Types\n",
        "🔹 set (Unique, unordered)"
      ]
    },
    {
      "cell_type": "code",
      "metadata": {
        "id": "6f0d2bbb"
      },
      "source": [
        "colors = {\"red\", \"blue\", \"red\"}\n",
        "print(colors)  # {'red', 'blue'}"
      ],
      "execution_count": null,
      "outputs": []
    },
    {
      "cell_type": "markdown",
      "metadata": {
        "id": "95b740ee"
      },
      "source": [
        "🔹 frozenset (Immutable)"
      ]
    },
    {
      "cell_type": "code",
      "metadata": {
        "id": "9d76f829"
      },
      "source": [
        "frozen = frozenset([1, 2, 3])\n",
        "print(frozen)"
      ],
      "execution_count": null,
      "outputs": []
    },
    {
      "cell_type": "markdown",
      "metadata": {
        "id": "785d07b7"
      },
      "source": [
        "### 🧵 7. Binary Types"
      ]
    },
    {
      "cell_type": "code",
      "metadata": {
        "id": "1c64d010"
      },
      "source": [
        "data = b\"hello\"\n",
        "buffer = bytearray([65, 66, 67])\n",
        "print(data, buffer)"
      ],
      "execution_count": null,
      "outputs": []
    },
    {
      "cell_type": "markdown",
      "metadata": {
        "id": "5ac3f36d"
      },
      "source": [
        "### 📁 8. File-like Type"
      ]
    },
    {
      "cell_type": "code",
      "metadata": {
        "id": "6ab7f61c"
      },
      "source": [
        "f = open(\"sample.txt\", \"w\")\n",
        "f.write(\"This is a file.\")\n",
        "f.close()\n",
        "\n",
        "f = open(\"sample.txt\", \"r\")\n",
        "print(f.read())\n",
        "f.close()"
      ],
      "execution_count": null,
      "outputs": []
    },
    {
      "cell_type": "markdown",
      "metadata": {
        "id": "89b249b6"
      },
      "source": [
        "✅ Best practice is using with (we'll cover in file handling).\n",
        "\n",
        "### 🧠 Mini Challenge\n",
        "1. Create a list of 5 names and sort it.\n",
        "2. Convert this list to a tuple.\n",
        "3. Make a set from that tuple and add a new item.\n",
        "4. Create a dict where names are keys and values are their lengths."
      ]
    },
    {
      "cell_type": "markdown",
      "metadata": {
        "id": "155bd5b5"
      },
      "source": [
        "# 🧠 Python Course in Colab: Part 3 – Control Flow (Conditions & Loops)\n",
        "### ✅ 1. Conditional Statements"
      ]
    },
    {
      "cell_type": "code",
      "metadata": {
        "id": "3d60a9dc"
      },
      "source": [
        "score = 85\n",
        "\n",
        "if score >= 90:\n",
        "    print(\"A\")\n",
        "elif score >= 80:\n",
        "    print(\"B\")\n",
        "else:\n",
        "    print(\"Below B\")"
      ],
      "execution_count": null,
      "outputs": []
    },
    {
      "cell_type": "markdown",
      "metadata": {
        "id": "f9fa8001"
      },
      "source": [
        "🔹 Ternary Operator (One-liner if)"
      ]
    },
    {
      "cell_type": "code",
      "metadata": {
        "id": "b804668c"
      },
      "source": [
        "status = \"Passed\" if score >= 50 else \"Failed\"\n",
        "print(status)"
      ],
      "execution_count": null,
      "outputs": []
    },
    {
      "cell_type": "markdown",
      "metadata": {
        "id": "222329e2"
      },
      "source": [
        "🔹 Tuple Index Trick (Just for fun)"
      ]
    },
    {
      "cell_type": "code",
      "metadata": {
        "id": "64ad10d2"
      },
      "source": [
        "flag = True\n",
        "print((\"No\", \"Yes\")[flag])  # Outputs \"Yes\""
      ],
      "execution_count": null,
      "outputs": []
    },
    {
      "cell_type": "markdown",
      "metadata": {
        "id": "a0606b72"
      },
      "source": [
        "### 🔁 2. Loops: for and while\n",
        "🔹 for loop"
      ]
    },
    {
      "cell_type": "code",
      "metadata": {
        "id": "3bdaa796"
      },
      "source": [
        "for i in range(1, 4):\n",
        "    print(\"Looping:\", i)"
      ],
      "execution_count": null,
      "outputs": []
    },
    {
      "cell_type": "markdown",
      "metadata": {
        "id": "2415ec1d"
      },
      "source": [
        "🔹 while loop"
      ]
    },
    {
      "cell_type": "code",
      "metadata": {
        "id": "66b8cd5e"
      },
      "source": [
        "x = 0\n",
        "while x < 3:\n",
        "    print(\"x is\", x)\n",
        "    x += 1"
      ],
      "execution_count": null,
      "outputs": []
    },
    {
      "cell_type": "markdown",
      "metadata": {
        "id": "81cc1191"
      },
      "source": [
        "### 🧰 3. Loop Tools (Power Tools!)"
      ]
    },
    {
      "cell_type": "code",
      "metadata": {
        "id": "a4ccc3fa"
      },
      "source": [
        "# in / not in\n",
        "print(\"a\" in \"cat\")       # True\n",
        "print(3 not in [1, 2, 3]) # False\n",
        "\n",
        "# range()\n",
        "for i in range(3):\n",
        "    print(i)\n",
        "\n",
        "# enumerate()\n",
        "for i, v in enumerate([\"a\", \"b\"]):\n",
        "    print(i, v)\n",
        "\n",
        "# zip()\n",
        "for a, b in zip([1, 2], [3, 4]):\n",
        "    print(a, b)\n",
        "\n",
        "# map() & filter()\n",
        "print(list(map(str, [1, 2, 3])))\n",
        "print(list(filter(lambda x: x > 1, [1, 2, 3])))"
      ],
      "execution_count": null,
      "outputs": []
    },
    {
      "cell_type": "markdown",
      "metadata": {
        "id": "e1af8bec"
      },
      "source": [
        "### 🧪 4. Manual Iterators"
      ]
    },
    {
      "cell_type": "code",
      "metadata": {
        "id": "87517d19"
      },
      "source": [
        "it = iter([10, 20])\n",
        "print(next(it))  # 10\n",
        "print(next(it))  # 20"
      ],
      "execution_count": null,
      "outputs": []
    },
    {
      "cell_type": "markdown",
      "metadata": {
        "id": "7ec12c9f"
      },
      "source": [
        "### 🚦 5. Loop Control Statements"
      ]
    },
    {
      "cell_type": "code",
      "metadata": {
        "id": "527d1ee1"
      },
      "source": [
        "for x in range(5):\n",
        "    if x == 3:\n",
        "        break  # stops loop\n",
        "    if x == 1:\n",
        "        continue  # skips this\n",
        "    print(x)"
      ],
      "execution_count": null,
      "outputs": []
    },
    {
      "cell_type": "markdown",
      "metadata": {
        "id": "fb2efbac"
      },
      "source": [
        "### 🧠 6. Chained Comparisons"
      ]
    },
    {
      "cell_type": "code",
      "metadata": {
        "id": "9870ffec"
      },
      "source": [
        "x = 5\n",
        "if 0 < x < 10:\n",
        "    print(\"x is in range (0, 10)\")"
      ],
      "execution_count": null,
      "outputs": []
    },
    {
      "cell_type": "markdown",
      "metadata": {
        "id": "6e0fe95d"
      },
      "source": [
        "### 🧩 7. Pattern Matching (Python 3.10+)"
      ]
    },
    {
      "cell_type": "code",
      "metadata": {
        "id": "a8ca3f2d"
      },
      "source": [
        "status = \"ok\"\n",
        "\n",
        "match status:\n",
        "    case \"ok\":\n",
        "        print(\"Everything is fine\")\n",
        "    case \"error\":\n",
        "        print(\"Something went wrong\")"
      ],
      "execution_count": null,
      "outputs": []
    },
    {
      "cell_type": "markdown",
      "metadata": {
        "id": "58ba810e"
      },
      "source": [
        "### 🧠 Mini Practice Time!\n",
        "1. Write a loop to print numbers from 1 to 10, skipping even numbers.\n",
        "2. Ask the user for their age, and print a message based on their age group (child, teen, adult).\n",
        "3. Use zip() to combine names and scores, and print each as \"Name: Score\"."
      ]
    },
    {
      "cell_type": "markdown",
      "metadata": {
        "id": "e1708d31"
      },
      "source": [
        "# 🧠 Python Course in Colab: Part 4 – Functions in Python\n",
        "Functions help us reuse code, organize logic, and reduce repetition.\n",
        "\n",
        "### 🔧 1. Defining and Calling a Function"
      ]
    },
    {
      "cell_type": "code",
      "metadata": {
        "id": "04b2c190"
      },
      "source": [
        "def greet():\n",
        "    print(\"Hello, Pythonista!\")\n",
        "\n",
        "greet()"
      ],
      "execution_count": null,
      "outputs": []
    },
    {
      "cell_type": "markdown",
      "metadata": {
        "id": "d7bbb8c3"
      },
      "source": [
        "### 📦 2. Function Parameters\n",
        "🔹 Positional (Required)"
      ]
    },
    {
      "cell_type": "code",
      "metadata": {
        "id": "cdd56b7a"
      },
      "source": [
        "def greet(name):\n",
        "    print(f\"Hello, {name}!\")\n",
        "\n",
        "greet(\"Alice\")"
      ],
      "execution_count": null,
      "outputs": []
    },
    {
      "cell_type": "markdown",
      "metadata": {
        "id": "f5155568"
      },
      "source": [
        "🔹 Default Parameters"
      ]
    },
    {
      "cell_type": "code",
      "metadata": {
        "id": "773e06be"
      },
      "source": [
        "def greet(name=\"Guest\"):\n",
        "    print(f\"Hi, {name}\")\n",
        "\n",
        "greet()"
      ],
      "execution_count": null,
      "outputs": []
    },
    {
      "cell_type": "markdown",
      "metadata": {
        "id": "b7d94397"
      },
      "source": [
        "🔹 *args – Multiple Positional"
      ]
    },
    {
      "cell_type": "code",
      "metadata": {
        "id": "e865d2ca"
      },
      "source": [
        "def add(*numbers):\n",
        "    print(sum(numbers))\n",
        "\n",
        "add(1, 2, 3, 4)  # Output: 10"
      ],
      "execution_count": null,
      "outputs": []
    },
    {
      "cell_type": "markdown",
      "metadata": {
        "id": "cdb4b42d"
      },
      "source": [
        "🔹 **kwargs – Named Arguments"
      ]
    },
    {
      "cell_type": "code",
      "metadata": {
        "id": "a8bd1a92"
      },
      "source": [
        "def info(**data):\n",
        "    print(data)\n",
        "\n",
        "info(name=\"Amin\", age=30)"
      ],
      "execution_count": null,
      "outputs": []
    },
    {
      "cell_type": "markdown",
      "metadata": {
        "id": "799c9498"
      },
      "source": [
        "### 🏁 3. Return Values"
      ]
    },
    {
      "cell_type": "code",
      "metadata": {
        "id": "3b58783d"
      },
      "source": [
        "def square(x):\n",
        "    return x * x\n",
        "\n",
        "result = square(5)\n",
        "print(result)"
      ],
      "execution_count": null,
      "outputs": []
    },
    {
      "cell_type": "markdown",
      "metadata": {
        "id": "28d30485"
      },
      "source": [
        "### 🧠 4. Variable Scope\n",
        "🔹 Local vs Global"
      ]
    },
    {
      "cell_type": "code",
      "metadata": {
        "id": "8190dd6f"
      },
      "source": [
        "x = \"global\"\n",
        "\n",
        "def test():\n",
        "    x = \"local\"\n",
        "    print(x)\n",
        "\n",
        "test()\n",
        "print(x)"
      ],
      "execution_count": null,
      "outputs": []
    },
    {
      "cell_type": "markdown",
      "metadata": {
        "id": "5c683357"
      },
      "source": [
        "### ⚡ 5. Lambda Functions (Anonymous)"
      ]
    },
    {
      "cell_type": "code",
      "metadata": {
        "id": "a426299a"
      },
      "source": [
        "double = lambda x: x * 2\n",
        "print(double(4))  # Output: 8"
      ],
      "execution_count": null,
      "outputs": []
    },
    {
      "cell_type": "markdown",
      "metadata": {
        "id": "6fe2cb2b"
      },
      "source": [
        "### 🔁 6. Recursive Functions"
      ]
    },
    {
      "cell_type": "code",
      "metadata": {
        "id": "67d525e3"
      },
      "source": [
        "def factorial(n):\n",
        "    if n == 0:\n",
        "        return 1\n",
        "    return n * factorial(n - 1)\n",
        "\n",
        "print(factorial(5))  # Output: 120"
      ],
      "execution_count": null,
      "outputs": []
    },
    {
      "cell_type": "markdown",
      "metadata": {
        "id": "b0a28142"
      },
      "source": [
        "### 📝 7. Docstrings & Type Hints"
      ]
    },
    {
      "cell_type": "code",
      "metadata": {
        "id": "2dc07cc0"
      },
      "source": [
        "def greet(name: str) -> None:\n",
        "    \"\"\"Greets the user by name.\"\"\"\n",
        "    print(f\"Hello, {name}\")"
      ],
      "execution_count": null,
      "outputs": []
    },
    {
      "cell_type": "markdown",
      "metadata": {
        "id": "67bc998b"
      },
      "source": [
        "### 🎯 8. First-Class Functions"
      ]
    },
    {
      "cell_type": "code",
      "metadata": {
        "id": "532160dc"
      },
      "source": [
        "def shout(msg):\n",
        "    return msg.upper()\n",
        "\n",
        "def speak(func):\n",
        "    return func(\"hi\")\n",
        "\n",
        "print(speak(shout))  # Output: HI"
      ],
      "execution_count": null,
      "outputs": []
    },
    {
      "cell_type": "markdown",
      "metadata": {
        "id": "e1bf3fac"
      },
      "source": [
        "### 🏗️ 9. Nested Functions & Closures"
      ]
    },
    {
      "cell_type": "code",
      "metadata": {
        "id": "d15b5885"
      },
      "source": [
        "def outer():\n",
        "    def inner():\n",
        "        print(\"Inner function\")\n",
        "    inner()\n",
        "\n",
        "outer()"
      ],
      "execution_count": null,
      "outputs": []
    },
    {
      "cell_type": "markdown",
      "metadata": {
        "id": "ccdc9410"
      },
      "source": [
        "### 🎁 10. Decorators"
      ]
    },
    {
      "cell_type": "code",
      "metadata": {
        "id": "4403ab3f"
      },
      "source": [
        "def debug(func):\n",
        "    def wrapper():\n",
        "        print(\"Start\")\n",
        "        func()\n",
        "        print(\"End\")\n",
        "    return wrapper\n",
        "\n",
        "@debug\n",
        "def say_hello():\n",
        "    print(\"Hello!\")\n",
        "\n",
        "say_hello()"
      ],
      "execution_count": null,
      "outputs": []
    },
    {
      "cell_type": "markdown",
      "metadata": {
        "id": "f11ad781"
      },
      "source": [
        "### 🔄 11. Generator Functions (yield)"
      ]
    },
    {
      "cell_type": "code",
      "metadata": {
        "id": "dcc4967b"
      },
      "source": [
        "def count_up():\n",
        "    yield 1\n",
        "    yield 2\n",
        "    yield 3\n",
        "\n",
        "for num in count_up():\n",
        "    print(num)"
      ],
      "execution_count": null,
      "outputs": []
    },
    {
      "cell_type": "markdown",
      "metadata": {
        "id": "55cbcf46"
      },
      "source": [
        "### 🧠 Practice Challenge\n",
        "1. Write a function that returns the max of three numbers.\n",
        "\n",
        "2. Create a function with *args that multiplies all inputs.\n",
        "\n",
        "3. Create a lambda that checks if a number is even.\n",
        "\n",
        "4. Decorate a function that logs \"Function started\" and \"Function ended\".\n",
        "\n",
        "5. Write a recursive function that reverses a string.\n",
        "\n"
      ]
    },
    {
      "cell_type": "markdown",
      "metadata": {
        "id": "2d36795c"
      },
      "source": [
        "# 🧠 Python Course in Colab: Part 5 – Object-Oriented Programming (OOP)\n",
        "OOP helps us structure code around objects and models from real life.\n",
        "\n",
        "### 🧱 1. Class Definition & Object Creation"
      ]
    },
    {
      "cell_type": "code",
      "metadata": {
        "id": "ec7fbcf8"
      },
      "source": [
        "class Person:\n",
        "    pass\n",
        "\n",
        "p = Person()\n",
        "print(type(p))  # <class '__main__.Person'>"
      ],
      "execution_count": null,
      "outputs": []
    },
    {
      "cell_type": "markdown",
      "metadata": {
        "id": "4687a90d"
      },
      "source": [
        "### 🔧 2. __init__ Constructor & Instance Attributes"
      ]
    },
    {
      "cell_type": "code",
      "metadata": {
        "id": "69e132f1"
      },
      "source": [
        "class Person:\n",
        "    def __init__(self, name):\n",
        "        self.name = name\n",
        "\n",
        "p = Person(\"Alice\")\n",
        "print(p.name)"
      ],
      "execution_count": null,
      "outputs": []
    },
    {
      "cell_type": "markdown",
      "metadata": {
        "id": "fd3b89b4"
      },
      "source": [
        "### 🗣️ 3. Instance Methods"
      ]
    },
    {
      "cell_type": "code",
      "metadata": {
        "id": "bd84ecd6"
      },
      "source": [
        "class Person:\n",
        "    def __init__(self, name):\n",
        "        self.name = name\n",
        "\n",
        "    def greet(self):\n",
        "        print(f\"Hi, I'm {self.name}!\")\n",
        "\n",
        "p = Person(\"Bob\")\n",
        "p.greet()"
      ],
      "execution_count": null,
      "outputs": []
    },
    {
      "cell_type": "markdown",
      "metadata": {
        "id": "7857ce92"
      },
      "source": [
        "### 🔁 4. Class Attributes (Shared Across Instances)"
      ]
    },
    {
      "cell_type": "code",
      "metadata": {
        "id": "3e0abdfa"
      },
      "source": [
        "class Car:\n",
        "    wheels = 4\n",
        "\n",
        "print(Car.wheels)"
      ],
      "execution_count": null,
      "outputs": []
    },
    {
      "cell_type": "markdown",
      "metadata": {
        "id": "dfa9a8c4"
      },
      "source": [
        "### 🧬 5. Inheritance"
      ]
    },
    {
      "cell_type": "code",
      "metadata": {
        "id": "5a74ee4d"
      },
      "source": [
        "class Animal:\n",
        "    def speak(self):\n",
        "        print(\"Animal speaks\")\n",
        "\n",
        "class Dog(Animal):\n",
        "    def speak(self):\n",
        "        print(\"Dog barks\")\n",
        "\n",
        "d = Dog()\n",
        "d.speak()"
      ],
      "execution_count": null,
      "outputs": []
    },
    {
      "cell_type": "markdown",
      "metadata": {
        "id": "ac32f50d"
      },
      "source": [
        "### 🧠 6. Using super()"
      ]
    },
    {
      "cell_type": "code",
      "metadata": {
        "id": "abce0d28"
      },
      "source": [
        "class Animal:\n",
        "    def __init__(self, name):\n",
        "        self.name = name\n",
        "\n",
        "class Dog(Animal):\n",
        "    def __init__(self, name, breed):\n",
        "        super().__init__(name)\n",
        "        self.breed = breed\n",
        "\n",
        "d = Dog(\"Buddy\", \"Labrador\")\n",
        "print(d.name, d.breed)"
      ],
      "execution_count": null,
      "outputs": []
    },
    {
      "cell_type": "markdown",
      "metadata": {
        "id": "26a0aa31"
      },
      "source": [
        "### 🛡️ 7. Encapsulation (Private Attributes)"
      ]
    },
    {
      "cell_type": "code",
      "metadata": {
        "id": "afece208"
      },
      "source": [
        "class User:\n",
        "    def __init__(self):\n",
        "        self.__password = \"secret\"\n",
        "\n",
        "u = User()\n",
        "# print(u.__password) ❌ Error: private"
      ],
      "execution_count": null,
      "outputs": []
    },
    {
      "cell_type": "markdown",
      "metadata": {
        "id": "edb32eb8"
      },
      "source": [
        "### 🏠 8. Property Decorators"
      ]
    },
    {
      "cell_type": "code",
      "metadata": {
        "id": "bcde38e4"
      },
      "source": [
        "class Student:\n",
        "    def __init__(self, age):\n",
        "        self._age = age\n",
        "\n",
        "    @property\n",
        "    def age(self):\n",
        "        return self._age\n",
        "\n",
        "s = Student(20)\n",
        "print(s.age)"
      ],
      "execution_count": null,
      "outputs": []
    },
    {
      "cell_type": "markdown",
      "metadata": {
        "id": "11ababa4"
      },
      "source": [
        "### 🧬 9. Polymorphism"
      ]
    },
    {
      "cell_type": "code",
      "metadata": {
        "id": "378bb3f5"
      },
      "source": [
        "class Cat:\n",
        "    def speak(self):\n",
        "        print(\"Meow\")\n",
        "\n",
        "class Dog:\n",
        "    def speak(self):\n",
        "        print(\"Woof\")\n",
        "\n",
        "for animal in [Cat(), Dog()]:\n",
        "    animal.speak()"
      ],
      "execution_count": null,
      "outputs": []
    },
    {
      "cell_type": "markdown",
      "metadata": {
        "id": "30cbff45"
      },
      "source": [
        "### 🧰 10. Abstract Base Classes (ABC)"
      ]
    },
    {
      "cell_type": "code",
      "metadata": {
        "id": "74b94dbc"
      },
      "source": [
        "from abc import ABC, abstractmethod\n",
        "\n",
        "class Shape(ABC):\n",
        "    @abstractmethod\n",
        "    def area(self):\n",
        "        pass"
      ],
      "execution_count": null,
      "outputs": []
    },
    {
      "cell_type": "markdown",
      "metadata": {
        "id": "0c4895e4"
      },
      "source": [
        "### 🧩 11. Composition"
      ]
    },
    {
      "cell_type": "code",
      "metadata": {
        "id": "d2393814"
      },
      "source": [
        "class Engine:\n",
        "    def start(self):\n",
        "        print(\"Engine starting\")\n",
        "\n",
        "class Car:\n",
        "    def __init__(self):\n",
        "        self.engine = Engine()\n",
        "\n",
        "    def start(self):\n",
        "        self.engine.start()\n",
        "\n",
        "c = Car()\n",
        "c.start()"
      ],
      "execution_count": null,
      "outputs": []
    },
    {
      "cell_type": "markdown",
      "metadata": {
        "id": "608a3c46"
      },
      "source": [
        "### 🌀 12. Magic Methods (Dunder Methods)"
      ]
    },
    {
      "cell_type": "code",
      "metadata": {
        "id": "fab5b1d2"
      },
      "source": [
        "class Box:\n",
        "    def __init__(self, value):\n",
        "        self.value = value\n",
        "\n",
        "    def __str__(self):\n",
        "        return f\"Box({self.value})\"\n",
        "\n",
        "b = Box(42)\n",
        "print(b)  # Box(42)"
      ],
      "execution_count": null,
      "outputs": []
    },
    {
      "cell_type": "markdown",
      "metadata": {
        "id": "cf3fb224"
      },
      "source": [
        "### ➕ 13. Operator Overloading"
      ]
    },
    {
      "cell_type": "code",
      "metadata": {
        "id": "f753cb9f"
      },
      "source": [
        "class Number:\n",
        "    def __init__(self, value):\n",
        "        self.value = value\n",
        "\n",
        "    def __add__(self, other):\n",
        "        return self.value + other.value\n",
        "\n",
        "a = Number(3)\n",
        "b = Number(4)\n",
        "print(a + b)  # 7"
      ],
      "execution_count": null,
      "outputs": []
    },
    {
      "cell_type": "markdown",
      "metadata": {
        "id": "cbf5134d"
      },
      "source": [
        "### 🧠 Mini Practice\n",
        "1. Create a `Book` class with `title` & `author`, and a method to describe it.\n",
        "2. Make a `Library` class that can hold multiple books.\n",
        "3. Add a `__str__` method to print book titles nicely.\n",
        "4. Create a `User` with private `balance` and a getter using `@property`.\n",
        "5. Inherit `Admin` from `User` and override a method."
      ]
    },
    {
      "cell_type": "markdown",
      "metadata": {
        "id": "543185b2"
      },
      "source": [
        "# 🧠 Python Course in Colab: Part 6 – File Handling 📁\n",
        "In this section, you’ll learn how to read, write, and manage files of different types in Python.\n",
        "\n",
        "### 📂 1. Opening a File"
      ]
    },
    {
      "cell_type": "code",
      "metadata": {
        "id": "8167c40b"
      },
      "source": [
        "# \"r\" = read, \"w\" = write, \"a\" = append\n",
        "f = open(\"example.txt\", \"w\")\n",
        "f.write(\"Hello, file!\")\n",
        "f.close()"
      ],
      "execution_count": null,
      "outputs": []
    },
    {
      "cell_type": "markdown",
      "metadata": {
        "id": "71ff90d9"
      },
      "source": [
        "### 🧾 2. Reading from a File"
      ]
    },
    {
      "cell_type": "code",
      "metadata": {
        "id": "a372209c"
      },
      "source": [
        "f = open(\"example.txt\", \"r\")\n",
        "content = f.read()\n",
        "f.close()\n",
        "print(content)"
      ],
      "execution_count": null,
      "outputs": []
    },
    {
      "cell_type": "markdown",
      "metadata": {
        "id": "1eb92ca5"
      },
      "source": [
        "### ✅ 3. Best Practice: With Statement"
      ]
    },
    {
      "cell_type": "code",
      "metadata": {
        "id": "7190d74a"
      },
      "source": [
        "with open(\"example.txt\", \"r\") as f:\n",
        "    print(f.read())\n",
        "# ✔️ Automatically closes the file"
      ],
      "execution_count": null,
      "outputs": []
    },
    {
      "cell_type": "markdown",
      "metadata": {
        "id": "74769fe5"
      },
      "source": [
        "### ✍️ 4. Write & Append"
      ]
    },
    {
      "cell_type": "code",
      "metadata": {
        "id": "564da36c"
      },
      "source": [
        "# Overwrite (w)\n",
        "with open(\"new.txt\", \"w\") as f:\n",
        "    f.write(\"Fresh content!\")\n",
        "\n",
        "# Append (a)\n",
        "with open(\"new.txt\", \"a\") as f:\n",
        "    f.write(\"\\nExtra line\")"
      ],
      "execution_count": null,
      "outputs": []
    },
    {
      "cell_type": "markdown",
      "metadata": {
        "id": "4b5587b0"
      },
      "source": [
        "### 🧵 5. Reading Line by Line"
      ]
    },
    {
      "cell_type": "code",
      "metadata": {
        "id": "95a16fc6"
      },
      "source": [
        "with open(\"new.txt\", \"r\") as f:\n",
        "    for line in f:\n",
        "        print(line.strip())"
      ],
      "execution_count": null,
      "outputs": []
    },
    {
      "cell_type": "markdown",
      "metadata": {
        "id": "bed7a16f"
      },
      "source": [
        "### 🧪 6. Reading as List of Lines"
      ]
    },
    {
      "cell_type": "code",
      "metadata": {
        "id": "cb3ae0ca"
      },
      "source": [
        "with open(\"new.txt\", \"r\") as f:\n",
        "    lines = f.readlines()\n",
        "print(lines)"
      ],
      "execution_count": null,
      "outputs": []
    },
    {
      "cell_type": "markdown",
      "metadata": {
        "id": "7e2397b1"
      },
      "source": [
        "### 🧠 7. File Modes Recap\n",
        "| Mode    | Meaning               |\n",
        "| ------- | --------------------- |\n",
        "| \"r\"     | Read                  |\n",
        "| \"w\"     | Write (overwrite)     |\n",
        "| \"a\"     | Append                |\n",
        "| \"x\"     | Create, error if exists|\n",
        "| \"b\"     | Binary                |\n",
        "| \"+\"     | Read & Write          |"
      ]
    },
    {
      "cell_type": "markdown",
      "metadata": {
        "id": "5068b933"
      },
      "source": [
        "### 🗂️ 8. Binary Files"
      ]
    },
    {
      "cell_type": "code",
      "metadata": {
        "id": "e1f37b84"
      },
      "source": [
        "# Create a dummy binary file for demonstration\n",
        "with open(\"image.jpg\", \"wb\") as f:\n",
        "    f.write(b'\\x89PNG\\r\\n\\x1a\\n\\x00\\x00\\x00\\rIHDR\\x00\\x00\\x00\\x01\\x00\\x00\\x00\\x01\\x08\\x06\\x00\\x00\\x00\\x1f\\x15\\xc4\\x89\\x00\\x00\\x00\\nIDATx\\x9cc`\\x00\\x00\\x00\\x02\\x00\\x01H\\xaf\\xa4\\xde\\x00\\x00\\x00\\x00IEND\\xaeB`\\x82')\n",
        "\n",
        "with open(\"image.jpg\", \"rb\") as img:\n",
        "    data = img.read()\n",
        "    print(len(data))  # Size in bytes"
      ],
      "execution_count": null,
      "outputs": []
    },
    {
      "cell_type": "markdown",
      "metadata": {
        "id": "413d4b2b"
      },
      "source": [
        "### 🛤️ 9. Using os for Paths"
      ]
    },
    {
      "cell_type": "code",
      "metadata": {
        "id": "2281f990"
      },
      "source": [
        "import os\n",
        "\n",
        "print(os.path.exists(\"example.txt\"))  # True/False\n",
        "print(os.path.join(\"folder\", \"file.txt\"))"
      ],
      "execution_count": null,
      "outputs": []
    },
    {
      "cell_type": "markdown",
      "metadata": {
        "id": "748985d6"
      },
      "source": [
        "### 🧭 10. Modern Paths with pathlib"
      ]
    },
    {
      "cell_type": "code",
      "metadata": {
        "id": "2b9056a6"
      },
      "source": [
        "from pathlib import Path\n",
        "\n",
        "file = Path(\"example.txt\")\n",
        "if file.exists():\n",
        "    print(file.read_text())"
      ],
      "execution_count": null,
      "outputs": []
    },
    {
      "cell_type": "markdown",
      "metadata": {
        "id": "fe80a188"
      },
      "source": [
        "### 📋 11. CSV Files"
      ]
    },
    {
      "cell_type": "code",
      "metadata": {
        "id": "2f6db4c3"
      },
      "source": [
        "import csv\n",
        "\n",
        "# Writing CSV\n",
        "with open(\"people.csv\", \"w\", newline=\"\") as f:\n",
        "    writer = csv.writer(f)\n",
        "    writer.writerow([\"Name\", \"Age\"])\n",
        "    writer.writerow([\"Alice\", 30])\n",
        "    writer.writerow([\"Bob\", 25])\n",
        "\n",
        "# Reading CSV\n",
        "with open(\"people.csv\", \"r\") as f:\n",
        "    reader = csv.reader(f)\n",
        "    for row in reader:\n",
        "        print(row)"
      ],
      "execution_count": null,
      "outputs": []
    },
    {
      "cell_type": "markdown",
      "metadata": {
        "id": "11c06e07"
      },
      "source": [
        "### 🌐 12. JSON Files"
      ]
    },
    {
      "cell_type": "code",
      "metadata": {
        "id": "bfbfa5cd"
      },
      "source": [
        "import json\n",
        "\n",
        "data = {\"name\": \"Alice\", \"age\": 30}\n",
        "\n",
        "# Write JSON\n",
        "with open(\"data.json\", \"w\") as f:\n",
        "    json.dump(data, f)\n",
        "\n",
        "# Read JSON\n",
        "with open(\"data.json\", \"r\") as f:\n",
        "    result = json.load(f)\n",
        "\n",
        "print(result)"
      ],
      "execution_count": null,
      "outputs": []
    },
    {
      "cell_type": "markdown",
      "metadata": {
        "id": "9b328570"
      },
      "source": [
        "### 🛑 13. Handling File Errors"
      ]
    },
    {
      "cell_type": "code",
      "metadata": {
        "id": "0be2744c"
      },
      "source": [
        "try:\n",
        "    with open(\"nofile.txt\", \"r\") as f:\n",
        "        print(f.read())\n",
        "except FileNotFoundError:\n",
        "    print(\"File not found!\")"
      ],
      "execution_count": null,
      "outputs": []
    },
    {
      "cell_type": "markdown",
      "metadata": {
        "id": "e0e839d1"
      },
      "source": [
        "### 🧠 Mini Exercises\n",
        "1. Write a list of tasks to todo.txt.\n",
        "2. Read and print each task line-by-line.\n",
        "3. Create a CSV of your friends (name, email).\n",
        "4. Write a JSON with your profile (name, skills, age).\n",
        "5. Handle an error when reading a missing file."
      ]
    },
    {
      "cell_type": "markdown",
      "metadata": {
        "id": "4f240de3"
      },
      "source": [
        "# 🧠 Python Course in Colab: Part 7 – Code Testing 🧪\n",
        "Testing ensures your code works correctly, safely, and continuously.\n",
        "\n",
        "### ✅ 1. Why Testing?\n",
        "Testing helps:\n",
        "\n",
        "* Catch bugs early\n",
        "* Make changes with confidence\n",
        "* Document code behavior\n",
        "* Improve maintainability"
      ]
    },
    {
      "cell_type": "markdown",
      "metadata": {
        "id": "752d0f03"
      },
      "source": [
        "### 🔍 2. Types of Testing\n",
        "🔹 Unit Testing – Test individual functions"
      ]
    },
    {
      "cell_type": "code",
      "metadata": {
        "id": "7ebf4981"
      },
      "source": [
        "def add(a, b):\n",
        "    return a + b\n",
        "\n",
        "def test_add():\n",
        "    assert add(2, 3) == 5\n",
        "\n",
        "test_add()  # No output = pass"
      ],
      "execution_count": null,
      "outputs": []
    },
    {
      "cell_type": "markdown",
      "metadata": {
        "id": "d757ed9b"
      },
      "source": [
        "🔹 Integration Testing – Test interaction"
      ]
    },
    {
      "cell_type": "code",
      "metadata": {
        "id": "a7680cf9"
      },
      "source": [
        "def connect(): return \"ok\"\n",
        "def service(): return \"run\" if connect() == \"ok\" else \"fail\"\n",
        "\n",
        "def test_service():\n",
        "    assert service() == \"run\"\n",
        "\n",
        "test_service()"
      ],
      "execution_count": null,
      "outputs": []
    },
    {
      "cell_type": "markdown",
      "metadata": {
        "id": "ae8e495d"
      },
      "source": [
        "🔹 Functional Testing – Simulate user experience"
      ]
    },
    {
      "cell_type": "code",
      "metadata": {
        "id": "d81ec020"
      },
      "source": [
        "import requests\n",
        "\n",
        "def test_home():\n",
        "    res = requests.get(\"https://example.com\")\n",
        "    assert res.status_code == 200\n",
        "\n",
        "# Commented to prevent real request\n",
        "# test_home()"
      ],
      "execution_count": null,
      "outputs": []
    },
    {
      "cell_type": "markdown",
      "metadata": {
        "id": "616fdda8"
      },
      "source": [
        "🔹 Regression Testing – Prevent old bugs from returning"
      ]
    },
    {
      "cell_type": "code",
      "metadata": {
        "id": "379cc4c9"
      },
      "source": [
        "def get_discount(price): return price * 0.9\n",
        "\n",
        "def test_discount():\n",
        "    assert get_discount(100) == 90.0\n",
        "\n",
        "test_discount()"
      ],
      "execution_count": null,
      "outputs": []
    },
    {
      "cell_type": "markdown",
      "metadata": {
        "id": "8d27629e"
      },
      "source": [
        "### 🧪 3. Testing with unittest (Built-in)"
      ]
    },
    {
      "cell_type": "code",
      "metadata": {
        "id": "d5ae61db"
      },
      "source": [
        "import unittest\n",
        "\n",
        "class TestMath(unittest.TestCase):\n",
        "    def test_sum(self):\n",
        "        self.assertEqual(sum([1, 2]), 3)\n",
        "\n",
        "unittest.main(argv=[''], exit=False)"
      ],
      "execution_count": null,
      "outputs": []
    },
    {
      "cell_type": "markdown",
      "metadata": {
        "id": "78475673"
      },
      "source": [
        "### 🧪 4. Testing with pytest (Simple & Powerful)"
      ]
    },
    {
      "cell_type": "code",
      "metadata": {
        "id": "1a66707e"
      },
      "source": [
        "def is_even(n): return n % 2 == 0\n",
        "\n",
        "def test_is_even():\n",
        "    assert is_even(4)\n",
        "    assert not is_even(3)\n",
        "\n",
        "test_is_even()"
      ],
      "execution_count": null,
      "outputs": []
    },
    {
      "cell_type": "markdown",
      "metadata": {
        "id": "7af6dfbf"
      },
      "source": [
        "### 🧪 5. Testing with doctest (In docstring)"
      ]
    },
    {
      "cell_type": "code",
      "metadata": {
        "id": "e20dbef0"
      },
      "source": [
        "def square(x):\n",
        "    \"\"\"\n",
        "    >>> square(3)\n",
        "    9\n",
        "    \"\"\"\n",
        "    return x * x\n",
        "\n",
        "import doctest\n",
        "doctest.testmod()"
      ],
      "execution_count": null,
      "outputs": []
    },
    {
      "cell_type": "markdown",
      "metadata": {
        "id": "5ae5293a"
      },
      "source": [
        "### 🔁 6. Setup / Teardown Hooks"
      ]
    },
    {
      "cell_type": "code",
      "metadata": {
        "id": "7e9e3a2d"
      },
      "source": [
        "def setup_module():\n",
        "    print(\"Setting up...\")\n",
        "\n",
        "def teardown_module():\n",
        "    print(\"Cleaning up...\")\n",
        "\n",
        "def test_basic():\n",
        "    assert 1 + 1 == 2\n",
        "\n",
        "setup_module()\n",
        "test_basic()\n",
        "teardown_module()"
      ],
      "execution_count": null,
      "outputs": []
    },
    {
      "cell_type": "markdown",
      "metadata": {
        "id": "e001dba6"
      },
      "source": [
        "### 🛠️ 7. Mocking with unittest.mock"
      ]
    },
    {
      "cell_type": "code",
      "metadata": {
        "id": "a2647ffd"
      },
      "source": [
        "from unittest.mock import patch\n",
        "import requests\n",
        "\n",
        "@patch(\"requests.get\")\n",
        "def test_api(mock_get):\n",
        "    mock_get.return_value.status_code = 200\n",
        "    assert requests.get(\"url\").status_code == 200\n",
        "\n",
        "test_api()"
      ],
      "execution_count": null,
      "outputs": []
    },
    {
      "cell_type": "markdown",
      "metadata": {
        "id": "ae8ead2b"
      },
      "source": [
        "### 📏 8. Coverage Testing"
      ]
    },
    {
      "cell_type": "code",
      "metadata": {
        "id": "84cba1d1"
      },
      "source": [
        "# In your terminal (not Colab):\n",
        "# pip install coverage\n",
        "# coverage run -m pytest\n",
        "# coverage report"
      ],
      "execution_count": null,
      "outputs": []
    },
    {
      "cell_type": "markdown",
      "metadata": {
        "id": "029ab6c2"
      },
      "source": [
        "### 🔄 9. tox: Test multiple Python versions"
      ]
    },
    {
      "cell_type": "code",
      "metadata": {
        "id": "e7ba2a02"
      },
      "source": [
        "# Create tox.ini\n",
        "[tox]\n",
        "envlist = py38, py39\n",
        "\n",
        "[testenv]\n",
        "deps = pytest\n",
        "commands = pytest"
      ],
      "execution_count": null,
      "outputs": []
    },
    {
      "cell_type": "markdown",
      "metadata": {
        "id": "6309942b"
      },
      "source": [
        "### 🎯 10. Testing Pattern: AAA\n",
        "Arrange: Setup data\n",
        "\n",
        "Act: Run function\n",
        "\n",
        "Assert: Check results"
      ]
    },
    {
      "cell_type": "code",
      "metadata": {
        "id": "9e4a9969"
      },
      "source": [
        "def login(user): return user == \"admin\"\n",
        "\n",
        "def test_login():\n",
        "    user = \"admin\"           # Arrange\n",
        "    result = login(user)     # Act\n",
        "    assert result            # Assert\n",
        "\n",
        "test_login()"
      ],
      "execution_count": null,
      "outputs": []
    },
    {
      "cell_type": "markdown",
      "metadata": {
        "id": "4e79342b"
      },
      "source": [
        "### 🧠 Mini Exercises\n",
        "1. Write a function that returns True if a number is prime, and test it.\n",
        "2. Write a function to reverse a string; test it with unittest.\n",
        "3. Mock input() to test a function that asks for a name.\n",
        "4. Write a test to ensure a function raises an error if input is invalid.\n",
        "5. Add a doctest to your favorite utility function."
      ]
    },
    {
      "cell_type": "markdown",
      "metadata": {
        "id": "434b3d48"
      },
      "source": [
        "# 🧠 Python Course in Colab: Part 8 – Bonus Topics 🚀\n",
        "Cool, advanced & practical tools for real-world coding\n",
        "\n",
        "### 🧠 1. AI Development Assistants\n",
        "✅ **GitHub Copilot (Microsoft)**\n",
        "* Code suggestions in real-time\n",
        "* Needs VS Code and GitHub login\n",
        "\n",
        "✅ **Gemini Code Assist (Google)**\n",
        "* Google’s AI for generating & fixing code\n",
        "* Available in Colab (you may have it already!)\n",
        "\n",
        "✅ **Cursor AI (cursor.sh)**\n",
        "* AI-first code editor based on VS Code\n",
        "* Built-in chat, refactoring, docs\n",
        "\n",
        "**Try it:**\n",
        "👉 Ask your AI assistant: “Write a Python class for a bank account.”"
      ]
    },
    {
      "cell_type": "markdown",
      "metadata": {
        "id": "f3694a7f"
      },
      "source": [
        "### 🧰 2. Debugging with print() (Beginner)"
      ]
    },
    {
      "cell_type": "code",
      "metadata": {
        "id": "f2010180"
      },
      "source": [
        "def multiply(*numbers):\n",
        "    total = 1\n",
        "    for number in numbers:\n",
        "        print(\"Debug:\", number)\n",
        "        total *= number\n",
        "    return total\n",
        "\n",
        "print(multiply(1, 2, 3))"
      ],
      "execution_count": null,
      "outputs": []
    },
    {
      "cell_type": "markdown",
      "metadata": {
        "id": "42fb6311"
      },
      "source": [
        "### 🪛 3. Debugging with pdb (Pro)"
      ]
    },
    {
      "cell_type": "code",
      "metadata": {
        "id": "7bd37061"
      },
      "source": [
        "import pdb\n",
        "\n",
        "def divide(a, b):\n",
        "    pdb.set_trace()  # ⛔ Breakpoint here\n",
        "    return a / b\n",
        "\n",
        "# divide(10, 2)"
      ],
      "execution_count": null,
      "outputs": []
    },
    {
      "cell_type": "markdown",
      "metadata": {
        "id": "78a8b47e"
      },
      "source": [
        "### 🛠️ 4. Decorators with Arguments"
      ]
    },
    {
      "cell_type": "code",
      "metadata": {
        "id": "dc6a6515"
      },
      "source": [
        "def repeat(n):\n",
        "    def wrapper(func):\n",
        "        def inner(*args, **kwargs):\n",
        "            for _ in range(n):\n",
        "                func(*args, **kwargs)\n",
        "        return inner\n",
        "    return wrapper\n",
        "\n",
        "@repeat(3)\n",
        "def greet():\n",
        "    print(\"Hello!\")\n",
        "\n",
        "greet()"
      ],
      "execution_count": null,
      "outputs": []
    },
    {
      "cell_type": "markdown",
      "metadata": {
        "id": "f130072f"
      },
      "source": [
        "### 🧱 5. Design Patterns – Singleton"
      ]
    },
    {
      "cell_type": "code",
      "metadata": {
        "id": "f7e37f81"
      },
      "source": [
        "class Singleton:\n",
        "    _instance = None\n",
        "    def __new__(cls):\n",
        "        if not cls._instance:\n",
        "            cls._instance = super().__new__(cls)\n",
        "        return cls._instance\n",
        "\n",
        "s1 = Singleton()\n",
        "s2 = Singleton()\n",
        "print(s1 is s2)  # True"
      ],
      "execution_count": null,
      "outputs": []
    },
    {
      "cell_type": "markdown",
      "metadata": {
        "id": "e547169e"
      },
      "source": [
        "### 📌 6. Custom __call__ – Make Objects Callable"
      ]
    },
    {
      "cell_type": "code",
      "metadata": {
        "id": "d2888ad0"
      },
      "source": [
        "class Greeter:\n",
        "    def __call__(self):\n",
        "        print(\"Hi there!\")\n",
        "\n",
        "g = Greeter()\n",
        "g()  # Just like calling a function"
      ],
      "execution_count": null,
      "outputs": []
    },
    {
      "cell_type": "markdown",
      "metadata": {
        "id": "185ba48d"
      },
      "source": [
        "### 🧰 7. With Statement – Context Managers"
      ]
    },
    {
      "cell_type": "code",
      "metadata": {
        "id": "752c86a6"
      },
      "source": [
        "class File:\n",
        "    def __enter__(self):\n",
        "        print(\"Opening resource\")\n",
        "        return self\n",
        "    def __exit__(self, exc_type, exc_val, exc_tb):\n",
        "        print(\"Closing resource\")\n",
        "\n",
        "with File() as f:\n",
        "    print(\"Doing work\")"
      ],
      "execution_count": null,
      "outputs": []
    },
    {
      "cell_type": "markdown",
      "metadata": {
        "id": "9ee88152"
      },
      "source": [
        "### 🔁 8. Iterable Custom Classes"
      ]
    },
    {
      "cell_type": "code",
      "metadata": {
        "id": "2c4b0079"
      },
      "source": [
        "class MyList:\n",
        "    def __init__(self, data):\n",
        "        self.data = data\n",
        "    def __iter__(self):\n",
        "        return iter(self.data)\n",
        "\n",
        "for x in MyList([1, 2, 3]):\n",
        "    print(x)"
      ],
      "execution_count": null,
      "outputs": []
    },
    {
      "cell_type": "markdown",
      "metadata": {
        "id": "65340633"
      },
      "source": [
        "### 🧠 Mini Mastery Missions\n",
        "1. Create a class that tracks how many times its method has been called (using decorators).\n",
        "2. Create a class that behaves like a list using `__getitem__`, `__setitem__`, and `__len__`.\n",
        "3. Write your own context manager for logging execution time.\n",
        "4. Make a callable class that multiplies any number passed to it.\n",
        "5. Use Cursor or Copilot to generate code and refine it manually."
      ]
    },
    {
      "cell_type": "markdown",
      "metadata": {
        "id": "9c06dce2"
      },
      "source": [
        "# 🧠 Python Course in Colab: Bonus Part – CTK: Custom Tkinter (CTkinter) 🪟\n",
        "CTkinter is a modern and customizable UI library built on top of the standard tkinter. It gives you better-looking GUI apps with less code.\n",
        "\n",
        "🔹 **What is CTK?**\n",
        "* Stands for CustomTkinter\n",
        "* Built on tkinter but uses modern widgets (rounded buttons, dark mode, sliders, etc.)\n",
        "* Great for small apps, dashboards, tools\n",
        "\n",
        "📦 **Install it:**"
      ]
    },
    {
      "cell_type": "code",
      "metadata": {
        "id": "5cc1699f"
      },
      "source": [
        "!pip install customtkinter"
      ],
      "execution_count": null,
      "outputs": []
    },
    {
      "cell_type": "markdown",
      "metadata": {
        "id": "131d06ea"
      },
      "source": [
        "### 🖥️ 1. Basic Window"
      ]
    },
    {
      "cell_type": "code",
      "metadata": {
        "id": "683a8676"
      },
      "source": [
        "import customtkinter as ctk\n",
        "\n",
        "ctk.set_appearance_mode(\"Dark\")     # Modes: \"System\" | \"Dark\" | \"Light\"\n",
        "ctk.set_default_color_theme(\"blue\") # Themes: blue, green, dark-blue\n",
        "\n",
        "app = ctk.CTk()       # Create main window\n",
        "app.geometry(\"400x200\")\n",
        "app.title(\"My First CTK App\")\n",
        "\n",
        "# app.mainloop() # This will block the execution of the rest of the notebook.\n",
        "# To see the window, you need to run this code in a local Python environment."
      ],
      "execution_count": null,
      "outputs": []
    },
    {
      "cell_type": "markdown",
      "metadata": {
        "id": "daeb266f"
      },
      "source": [
        "### 🔘 2. Add Button and Label"
      ]
    },
    {
      "cell_type": "code",
      "metadata": {
        "id": "5178c2de"
      },
      "source": [
        "import customtkinter as ctk\n",
        "\n",
        "def greet():\n",
        "    label.configure(text=\"Hello, CTK!\")\n",
        "\n",
        "app = ctk.CTk()\n",
        "app.geometry(\"300x150\")\n",
        "\n",
        "button = ctk.CTkButton(app, text=\"Click Me\", command=greet)\n",
        "button.pack(pady=10)\n",
        "\n",
        "label = ctk.CTkLabel(app, text=\"Welcome\")\n",
        "label.pack(pady=10)\n",
        "\n",
        "# app.mainloop()"
      ],
      "execution_count": null,
      "outputs": []
    },
    {
      "cell_type": "markdown",
      "metadata": {
        "id": "02ebd5bf"
      },
      "source": [
        "### 🔣 3. Entry Field + Events"
      ]
    },
    {
      "cell_type": "code",
      "metadata": {
        "id": "b1202630"
      },
      "source": [
        "import customtkinter as ctk\n",
        "\n",
        "app = ctk.CTk()\n",
        "app.geometry(\"300x200\")\n",
        "\n",
        "def show_input():\n",
        "    name = entry.get()\n",
        "    label.configure(text=f\"Hi, {name}!\")\n",
        "\n",
        "entry = ctk.CTkEntry(app, placeholder_text=\"Enter your name\")\n",
        "entry.pack(pady=5)\n",
        "\n",
        "btn = ctk.CTkButton(app, text=\"Submit\", command=show_input)\n",
        "btn.pack(pady=5)\n",
        "\n",
        "label = ctk.CTkLabel(app, text=\"\")\n",
        "label.pack(pady=5)\n",
        "\n",
        "# app.mainloop()"
      ],
      "execution_count": null,
      "outputs": []
    },
    {
      "cell_type": "markdown",
      "metadata": {
        "id": "2f2474eb"
      },
      "source": [
        "### 🎨 4. More Widgets (Slider, Checkbox, Switch)"
      ]
    },
    {
      "cell_type": "code",
      "metadata": {
        "id": "ea4a8f67"
      },
      "source": [
        "import customtkinter as ctk\n",
        "\n",
        "app = ctk.CTk()\n",
        "app.geometry(\"300x200\")\n",
        "\n",
        "slider = ctk.CTkSlider(app, from_=0, to=100)\n",
        "slider.pack()\n",
        "\n",
        "checkbox = ctk.CTkCheckBox(app, text=\"I agree\")\n",
        "checkbox.pack()\n",
        "\n",
        "switch = ctk.CTkSwitch(app, text=\"Enable\")\n",
        "switch.pack()\n",
        "\n",
        "# app.mainloop()"
      ],
      "execution_count": null,
      "outputs": []
    },
    {
      "cell_type": "markdown",
      "metadata": {
        "id": "037fb82f"
      },
      "source": [
        "### 💼 5. Layout with CTkFrame"
      ]
    },
    {
      "cell_type": "code",
      "metadata": {
        "id": "588ae09c"
      },
      "source": [
        "import customtkinter as ctk\n",
        "\n",
        "app = ctk.CTk()\n",
        "app.geometry(\"300x200\")\n",
        "\n",
        "frame = ctk.CTkFrame(app)\n",
        "frame.pack(pady=10, padx=10)\n",
        "\n",
        "ctk.CTkLabel(frame, text=\"Inside Frame\").pack()\n",
        "\n",
        "# app.mainloop()"
      ],
      "execution_count": null,
      "outputs": []
    },
    {
      "cell_type": "markdown",
      "metadata": {
        "id": "4ed98b52"
      },
      "source": [
        "❗ **Note:**\n",
        "CTK apps don’t run in Colab, since they require a local windowing system.\n",
        "\n",
        "You need to run these in:\n",
        "\n",
        "* VS Code\n",
        "* PyCharm\n",
        "* IDLE or terminal\n",
        "\n",
        "### 🧠 CTK Mini Project Ideas:\n",
        "* 📅 To-Do App with tasks and checkboxes\n",
        "* 🎮 Quiz Game with multiple choice\n",
        "* 🕹️ Slider-controlled drawing canvas\n",
        "* 📁 File browser or note pad"
      ]
    },
    {
      "cell_type": "markdown",
      "metadata": {
        "id": "cedf78bb"
      },
      "source": [
        "# 🧠 Python Course in Colab: Bonus Part – NumPy (Numerical Python) 📊\n",
        "🔹 **What is NumPy?**\n",
        "* Fast, memory-efficient arrays\n",
        "* Powerful vectorized operations\n",
        "* Ideal for math, statistics, ML, and data analysis\n",
        "\n",
        "📦 **Install and Import**"
      ]
    },
    {
      "cell_type": "code",
      "metadata": {
        "id": "84258ec2"
      },
      "source": [
        "!pip install numpy  # Already available in Colab, but safe to include\n",
        "import numpy as np"
      ],
      "execution_count": null,
      "outputs": []
    },
    {
      "cell_type": "markdown",
      "metadata": {
        "id": "134b516c"
      },
      "source": [
        "### 🔢 1. Creating Arrays"
      ]
    },
    {
      "cell_type": "code",
      "metadata": {
        "id": "ffcdfbb3"
      },
      "source": [
        "arr1 = np.array([1, 2, 3])\n",
        "print(arr1)\n",
        "\n",
        "arr2 = np.array([[1, 2], [3, 4]])\n",
        "print(arr2)"
      ],
      "execution_count": null,
      "outputs": []
    },
    {
      "cell_type": "markdown",
      "metadata": {
        "id": "9cbb1fbc"
      },
      "source": [
        "🔹 **Useful Constructors:**"
      ]
    },
    {
      "cell_type": "code",
      "metadata": {
        "id": "9efaa252"
      },
      "source": [
        "np.zeros((2, 3))     # 2x3 matrix of 0s\n",
        "np.ones((3, 1))      # Column of 1s\n",
        "np.full((2, 2), 9)   # Filled with 9\n",
        "np.eye(3)            # Identity matrix\n",
        "np.arange(0, 10, 2)  # Even numbers\n",
        "np.linspace(0, 1, 5) # 5 evenly spaced"
      ],
      "execution_count": null,
      "outputs": []
    },
    {
      "cell_type": "markdown",
      "metadata": {
        "id": "4431665d"
      },
      "source": [
        "### 🔁 2. Array Operations"
      ]
    },
    {
      "cell_type": "code",
      "metadata": {
        "id": "e0974735"
      },
      "source": [
        "a = np.array([1, 2, 3])\n",
        "b = np.array([10, 20, 30])\n",
        "\n",
        "print(a + b)         # Element-wise addition\n",
        "print(a * 2)         # Scalar multiplication\n",
        "print(b / a)         # Element-wise division"
      ],
      "execution_count": null,
      "outputs": []
    },
    {
      "cell_type": "markdown",
      "metadata": {
        "id": "0f321ae8"
      },
      "source": [
        "### 📏 3. Shape and Reshape"
      ]
    },
    {
      "cell_type": "code",
      "metadata": {
        "id": "3f21ce46"
      },
      "source": [
        "m = np.array([[1, 2, 3], [4, 5, 6]])\n",
        "print(m.shape)       # (2, 3)\n",
        "\n",
        "reshaped = m.reshape(3, 2)\n",
        "print(reshaped)"
      ],
      "execution_count": null,
      "outputs": []
    },
    {
      "cell_type": "markdown",
      "metadata": {
        "id": "36f33f58"
      },
      "source": [
        "### 🔎 4. Indexing & Slicing"
      ]
    },
    {
      "cell_type": "code",
      "metadata": {
        "id": "f6e424e3"
      },
      "source": [
        "a = np.array([10, 20, 30, 40, 50])\n",
        "\n",
        "print(a[1])        # 20\n",
        "print(a[-1])       # 50\n",
        "print(a[1:4])      # [20 30 40]"
      ],
      "execution_count": null,
      "outputs": []
    },
    {
      "cell_type": "markdown",
      "metadata": {
        "id": "9319d97d"
      },
      "source": [
        "🔹 **2D Indexing:**"
      ]
    },
    {
      "cell_type": "code",
      "metadata": {
        "id": "0a344ca2"
      },
      "source": [
        "m = np.array([[1, 2], [3, 4]])\n",
        "print(m[0, 1])  # row 0, col 1 = 2"
      ],
      "execution_count": null,
      "outputs": []
    },
    {
      "cell_type": "markdown",
      "metadata": {
        "id": "c3a34ed0"
      },
      "source": [
        "### 🧠 5. Boolean Indexing & Filtering"
      ]
    },
    {
      "cell_type": "code",
      "metadata": {
        "id": "0d4af7dd"
      },
      "source": [
        "a = np.array([10, 20, 30, 40])\n",
        "mask = a > 25\n",
        "print(a[mask])  # [30 40]"
      ],
      "execution_count": null,
      "outputs": []
    },
    {
      "cell_type": "markdown",
      "metadata": {
        "id": "495dc594"
      },
      "source": [
        "### 📊 6. Math & Stats"
      ]
    },
    {
      "cell_type": "code",
      "metadata": {
        "id": "960be884"
      },
      "source": [
        "a = np.array([1, 2, 3, 4])\n",
        "\n",
        "print(a.sum())\n",
        "print(a.mean())\n",
        "print(a.std())\n",
        "print(a.max(), a.min())"
      ],
      "execution_count": null,
      "outputs": []
    },
    {
      "cell_type": "markdown",
      "metadata": {
        "id": "f5772c3a"
      },
      "source": [
        "### 🧮 7. Matrix Math"
      ]
    },
    {
      "cell_type": "code",
      "metadata": {
        "id": "f712cd45"
      },
      "source": [
        "A = np.array([[1, 2], [3, 4]])\n",
        "B = np.array([[5, 6], [7, 8]])\n",
        "\n",
        "print(A @ B)       # Matrix multiplication\n",
        "print(np.dot(A, B))"
      ],
      "execution_count": null,
      "outputs": []
    },
    {
      "cell_type": "markdown",
      "metadata": {
        "id": "29b024cc"
      },
      "source": [
        "### 🔀 8. Random Numbers"
      ]
    },
    {
      "cell_type": "code",
      "metadata": {
        "id": "b50cd367"
      },
      "source": [
        "np.random.seed(42)\n",
        "print(np.random.randint(0, 10, (2, 3)))\n",
        "print(np.random.rand(2, 3))   # Float [0, 1)"
      ],
      "execution_count": null,
      "outputs": []
    },
    {
      "cell_type": "markdown",
      "metadata": {
        "id": "acd521d4"
      },
      "source": [
        "### 🧠 Mini NumPy Challenges\n",
        "1. Create a 5x5 array of random integers between 1 and 100.\n",
        "2. Filter the even numbers from that array.\n",
        "3. Compute the row-wise sum using `axis=1`.\n",
        "4. Reshape a 1D array of 12 numbers into a 3x4 matrix.\n",
        "5. Create an identity matrix and subtract 1 from the diagonal."
      ]
    },
    {
      "cell_type": "markdown",
      "metadata": {
        "id": "a5a52646"
      },
      "source": [
        "# 🧠 Python Course in Colab: Bonus Part – Pandas (Data Analysis Library) 🐼\n",
        "Pandas makes it super easy to work with tabular data — like Excel sheets, CSVs, or SQL tables.\n",
        "\n",
        "📦 **Install and Import**"
      ]
    },
    {
      "cell_type": "code",
      "metadata": {
        "id": "a0236739"
      },
      "source": [
        "!pip install pandas  # Already installed in Colab\n",
        "import pandas as pd"
      ],
      "execution_count": null,
      "outputs": []
    },
    {
      "cell_type": "markdown",
      "metadata": {
        "id": "2913ae42"
      },
      "source": [
        "### 📋 1. Creating a DataFrame"
      ]
    },
    {
      "cell_type": "code",
      "metadata": {
        "id": "7ff74c13"
      },
      "source": [
        "data = {\n",
        "    \"Name\": [\"Alice\", \"Bob\", \"Charlie\"],\n",
        "    \"Age\": [25, 30, 22],\n",
        "    \"Score\": [85.5, 92.0, 78.0]\n",
        "}\n",
        "\n",
        "df = pd.DataFrame(data)\n",
        "print(df)"
      ],
      "execution_count": null,
      "outputs": []
    },
    {
      "cell_type": "markdown",
      "metadata": {
        "id": "61a7cc0a"
      },
      "source": [
        "### 📄 2. Reading and Writing Files\n",
        "🔹 **Read from CSV**"
      ]
    },
    {
      "cell_type": "code",
      "metadata": {
        "id": "47f92286"
      },
      "source": [
        "# Create a dummy csv for demonstration\n",
        "with open(\"sample.csv\", \"w\") as f:\n",
        "    f.write(\"Name,Age,Score\\n\")\n",
        "    f.write(\"Alice,25,85.5\\n\")\n",
        "    f.write(\"Bob,30,92.0\\n\")\n",
        "    f.write(\"Charlie,22,78.0\\n\")\n",
        "\n",
        "df = pd.read_csv(\"sample.csv\")"
      ],
      "execution_count": null,
      "outputs": []
    },
    {
      "cell_type": "markdown",
      "metadata": {
        "id": "429f421e"
      },
      "source": [
        "🔹 **Write to CSV**"
      ]
    },
    {
      "cell_type": "code",
      "metadata": {
        "id": "3f165832"
      },
      "source": [
        "df.to_csv(\"output.csv\", index=False)"
      ],
      "execution_count": null,
      "outputs": []
    },
    {
      "cell_type": "markdown",
      "metadata": {
        "id": "f42e0c7b"
      },
      "source": [
        "✅ Works with Excel, JSON, SQL, etc.\n",
        "\n",
        "### 🔍 3. Exploring Data"
      ]
    },
    {
      "cell_type": "code",
      "metadata": {
        "id": "e9c2ce24"
      },
      "source": [
        "print(df.head())      # First 5 rows\n",
        "print(df.tail())      # Last 5 rows\n",
        "print(df.shape)       # (rows, columns)\n",
        "print(df.columns)     # Column names\n",
        "print(df.describe())  # Summary stats"
      ],
      "execution_count": null,
      "outputs": []
    },
    {
      "cell_type": "markdown",
      "metadata": {
        "id": "df1ac9f5"
      },
      "source": [
        "### 🔍 4. Accessing Data"
      ]
    },
    {
      "cell_type": "code",
      "metadata": {
        "id": "713c1fb3"
      },
      "source": [
        "print(df[\"Name\"])         # One column\n",
        "print(df[[\"Name\", \"Age\"]])  # Multiple columns\n",
        "\n",
        "print(df.iloc[0])         # Row by index\n",
        "print(df.loc[0])          # Row by label"
      ],
      "execution_count": null,
      "outputs": []
    },
    {
      "cell_type": "markdown",
      "metadata": {
        "id": "894cc0e9"
      },
      "source": [
        "### 🔧 5. Filtering Data"
      ]
    },
    {
      "cell_type": "code",
      "metadata": {
        "id": "ee81c9e3"
      },
      "source": [
        "# All students with score > 80\n",
        "print(df[df[\"Score\"] > 80])"
      ],
      "execution_count": null,
      "outputs": []
    },
    {
      "cell_type": "markdown",
      "metadata": {
        "id": "1a850a7b"
      },
      "source": [
        "### 🧪 6. Modifying Data"
      ]
    },
    {
      "cell_type": "code",
      "metadata": {
        "id": "85ab7aac"
      },
      "source": [
        "df[\"Passed\"] = df[\"Score\"] >= 80\n",
        "df[\"Age\"] += 1"
      ],
      "execution_count": null,
      "outputs": []
    },
    {
      "cell_type": "markdown",
      "metadata": {
        "id": "eda268e9"
      },
      "source": [
        "### 🔄 7. Sorting & Grouping"
      ]
    },
    {
      "cell_type": "code",
      "metadata": {
        "id": "87e28981"
      },
      "source": [
        "df_sorted = df.sort_values(by=\"Score\", ascending=False)\n",
        "\n",
        "grouped = df.groupby(\"Passed\")[\"Age\"].mean()\n",
        "print(grouped)"
      ],
      "execution_count": null,
      "outputs": []
    },
    {
      "cell_type": "markdown",
      "metadata": {
        "id": "2d028a1a"
      },
      "source": [
        "### 🧼 8. Handling Missing Data"
      ]
    },
    {
      "cell_type": "code",
      "metadata": {
        "id": "4f4f7e23"
      },
      "source": [
        "df_missing = pd.DataFrame({\n",
        "    \"A\": [1, 2, None],\n",
        "    \"B\": [4, None, 6]\n",
        "})\n",
        "\n",
        "print(df_missing.isnull())         # Check nulls\n",
        "print(df_missing.fillna(0))        # Replace nulls with 0\n",
        "print(df_missing.dropna())         # Drop rows with nulls"
      ],
      "execution_count": null,
      "outputs": []
    },
    {
      "cell_type": "markdown",
      "metadata": {
        "id": "3b7fcae2"
      },
      "source": [
        "### 🔗 9. Merging and Joining"
      ]
    },
    {
      "cell_type": "code",
      "metadata": {
        "id": "d5e03c26"
      },
      "source": [
        "left = pd.DataFrame({\"id\": [1, 2], \"name\": [\"A\", \"B\"]})\n",
        "right = pd.DataFrame({\"id\": [1, 2], \"score\": [90, 80]})\n",
        "\n",
        "merged = pd.merge(left, right, on=\"id\")\n",
        "print(merged)"
      ],
      "execution_count": null,
      "outputs": []
    },
    {
      "cell_type": "markdown",
      "metadata": {
        "id": "c1a3e81d"
      },
      "source": [
        "### 📊 10. Simple Plotting (with Matplotlib)"
      ]
    },
    {
      "cell_type": "code",
      "metadata": {
        "id": "87eab12b"
      },
      "source": [
        "import matplotlib.pyplot as plt\n",
        "\n",
        "df[\"Score\"].plot(kind=\"bar\")\n",
        "plt.title(\"Scores\")\n",
        "plt.xlabel(\"Student\")\n",
        "plt.ylabel(\"Score\")\n",
        "plt.show()"
      ],
      "execution_count": null,
      "outputs": []
    },
    {
      "cell_type": "markdown",
      "metadata": {
        "id": "9d681733"
      },
      "source": [
        "### 🧠 Mini Pandas Challenges\n",
        "1. Create a DataFrame for 10 students: name, age, grade.\n",
        "2. Filter all students under 25 with grade > 85.\n",
        "3. Group by \"Passed\"/\"Failed\" and get average age.\n",
        "4. Add a column that ranks students by score.\n",
        "5. Export the final table to CSV."
      ]
    },
    {
      "cell_type": "markdown",
      "metadata": {
        "id": "345ad916"
      },
      "source": [
        "# 🧠 Python Course in Colab: Bonus Part – Matplotlib (Data Visualization) 📊\n",
        "Matplotlib is Python’s most widely used library for plotting charts, graphs, and visual analysis.\n",
        "\n",
        "📦 **Install and Import**"
      ]
    },
    {
      "cell_type": "code",
      "metadata": {
        "id": "5c9c3dd9"
      },
      "source": [
        "!pip install matplotlib  # Usually pre-installed in Colab\n",
        "import matplotlib.pyplot as plt\n",
        "import numpy as np"
      ],
      "execution_count": null,
      "outputs": []
    },
    {
      "cell_type": "markdown",
      "metadata": {
        "id": "0aaea574"
      },
      "source": [
        "### 📈 1. Line Plot"
      ]
    },
    {
      "cell_type": "code",
      "metadata": {
        "id": "5c3ac792"
      },
      "source": [
        "x = np.linspace(0, 10, 100)\n",
        "y = np.sin(x)\n",
        "\n",
        "plt.plot(x, y)\n",
        "plt.title(\"Sine Wave\")\n",
        "plt.xlabel(\"x\")\n",
        "plt.ylabel(\"sin(x)\")\n",
        "plt.grid(True)\n",
        "plt.show()"
      ],
      "execution_count": null,
      "outputs": []
    },
    {
      "cell_type": "markdown",
      "metadata": {
        "id": "93dc9008"
      },
      "source": [
        "### 📊 2. Bar Chart"
      ]
    },
    {
      "cell_type": "code",
      "metadata": {
        "id": "08364850"
      },
      "source": [
        "students = [\"Alice\", \"Bob\", \"Charlie\"]\n",
        "scores = [85, 90, 78]\n",
        "\n",
        "plt.bar(students, scores)\n",
        "plt.title(\"Student Scores\")\n",
        "plt.ylabel(\"Score\")\n",
        "plt.show()"
      ],
      "execution_count": null,
      "outputs": []
    },
    {
      "cell_type": "markdown",
      "metadata": {
        "id": "4d83c5d2"
      },
      "source": [
        "### 🥧 3. Pie Chart"
      ]
    },
    {
      "cell_type": "code",
      "metadata": {
        "id": "6c396caa"
      },
      "source": [
        "labels = [\"Python\", \"Java\", \"C++\"]\n",
        "sizes = [50, 30, 20]\n",
        "\n",
        "plt.pie(sizes, labels=labels, autopct='%1.1f%%')\n",
        "plt.title(\"Programming Language Usage\")\n",
        "plt.show()"
      ],
      "execution_count": null,
      "outputs": []
    },
    {
      "cell_type": "markdown",
      "metadata": {
        "id": "80d4495e"
      },
      "source": [
        "### 📉 4. Histogram"
      ]
    },
    {
      "cell_type": "code",
      "metadata": {
        "id": "be539bd0"
      },
      "source": [
        "data = np.random.randn(1000)\n",
        "\n",
        "plt.hist(data, bins=30, color='skyblue', edgecolor='black')\n",
        "plt.title(\"Normal Distribution\")\n",
        "plt.xlabel(\"Value\")\n",
        "plt.ylabel(\"Frequency\")\n",
        "plt.show()"
      ],
      "execution_count": null,
      "outputs": []
    },
    {
      "cell_type": "markdown",
      "metadata": {
        "id": "4c0059ac"
      },
      "source": [
        "### 🧮 5. Scatter Plot"
      ]
    },
    {
      "cell_type": "code",
      "metadata": {
        "id": "69f8f806"
      },
      "source": [
        "x = np.random.rand(50)\n",
        "y = np.random.rand(50)\n",
        "\n",
        "plt.scatter(x, y, color=\"red\")\n",
        "plt.title(\"Random Scatter\")\n",
        "plt.xlabel(\"X\")\n",
        "plt.ylabel(\"Y\")\n",
        "plt.show()"
      ],
      "execution_count": null,
      "outputs": []
    },
    {
      "cell_type": "markdown",
      "metadata": {
        "id": "386f27a0"
      },
      "source": [
        "### 🎨 6. Multiple Plots"
      ]
    },
    {
      "cell_type": "code",
      "metadata": {
        "id": "01dbb770"
      },
      "source": [
        "x = np.linspace(0, 10, 100)\n",
        "plt.plot(x, np.sin(x), label=\"sin\")\n",
        "plt.plot(x, np.cos(x), label=\"cos\")\n",
        "plt.legend()\n",
        "plt.title(\"Sin & Cos Waves\")\n",
        "plt.show()"
      ],
      "execution_count": null,
      "outputs": []
    },
    {
      "cell_type": "markdown",
      "metadata": {
        "id": "d85941f5"
      },
      "source": [
        "### 🖼️ 7. Subplots"
      ]
    },
    {
      "cell_type": "code",
      "metadata": {
        "id": "2fa56ebf"
      },
      "source": [
        "fig, axs = plt.subplots(2, 2)\n",
        "\n",
        "axs[0, 0].plot(x, np.sin(x))\n",
        "axs[0, 1].bar([\"A\", \"B\"], [1, 2])\n",
        "axs[1, 0].hist(np.random.randn(100))\n",
        "axs[1, 1].pie([40, 60], labels=[\"Yes\", \"No\"])\n",
        "\n",
        "plt.tight_layout()\n",
        "plt.show()"
      ],
      "execution_count": null,
      "outputs": []
    },
    {
      "cell_type": "markdown",
      "metadata": {
        "id": "01a0eed0"
      },
      "source": [
        "### 🧠 Mini Matplotlib Challenges\n",
        "1. Plot the squares of numbers from 1 to 10.\n",
        "2. Visualize students’ grades using bar and pie charts.\n",
        "3. Create a line plot comparing y = x and y = x².\n",
        "4. Make a scatter plot of height vs. weight.\n",
        "5. Use subplots to show different chart types in one figure."
      ]
    },
    {
      "cell_type": "markdown",
      "metadata": {
        "id": "185a84bf"
      },
      "source": [
        "# 🧠 Python Course in Colab: Bonus Part – SciPy (Scientific Computing) 🔬\n",
        "SciPy extends NumPy by adding advanced functionality for:\n",
        "\n",
        "✅ Scientific computing\n",
        "✅ Optimization\n",
        "✅ Signal/image processing\n",
        "✅ Statistics and more!\n",
        "\n",
        "📦 **Install and Import**"
      ]
    },
    {
      "cell_type": "code",
      "metadata": {
        "id": "50d51779"
      },
      "source": [
        "!pip install scipy\n",
        "from scipy import stats, integrate, optimize, linalg, signal\n",
        "import numpy as np"
      ],
      "execution_count": null,
      "outputs": []
    },
    {
      "cell_type": "markdown",
      "metadata": {
        "id": "bbce73a3"
      },
      "source": [
        "### 📊 1. Statistics with scipy.stats"
      ]
    },
    {
      "cell_type": "code",
      "metadata": {
        "id": "41dc69df"
      },
      "source": [
        "data = np.random.normal(loc=100, scale=15, size=1000)\n",
        "\n",
        "# Mean, median, standard deviation\n",
        "print(\"Mean:\", np.mean(data))\n",
        "print(\"Std:\", np.std(data))\n",
        "\n",
        "# Normal distribution test\n",
        "print(stats.normaltest(data))  # p-value"
      ],
      "execution_count": null,
      "outputs": []
    },
    {
      "cell_type": "markdown",
      "metadata": {
        "id": "6708cad6"
      },
      "source": [
        "### 🎯 2. Probability Distributions"
      ]
    },
    {
      "cell_type": "code",
      "metadata": {
        "id": "81cca892"
      },
      "source": [
        "# Probability of getting value < 1 from standard normal\n",
        "print(stats.norm.cdf(1))\n",
        "\n",
        "# Random values from normal\n",
        "samples = stats.norm.rvs(loc=0, scale=1, size=5)\n",
        "print(samples)"
      ],
      "execution_count": null,
      "outputs": []
    },
    {
      "cell_type": "markdown",
      "metadata": {
        "id": "4629d17f"
      },
      "source": [
        "### 🧮 3. Integration with scipy.integrate\n",
        "🔹 **Definite integral of a function**"
      ]
    },
    {
      "cell_type": "code",
      "metadata": {
        "id": "b072f490"
      },
      "source": [
        "result, error = integrate.quad(lambda x: x**2, 0, 3)\n",
        "print(\"∫x² dx from 0 to 3 =\", result)"
      ],
      "execution_count": null,
      "outputs": []
    },
    {
      "cell_type": "markdown",
      "metadata": {
        "id": "7edb5720"
      },
      "source": [
        "### 🧠 4. Solving Equations with scipy.optimize"
      ]
    },
    {
      "cell_type": "code",
      "metadata": {
        "id": "ccb35adb"
      },
      "source": [
        "# Solve: x² - 4 = 0\n",
        "def func(x):\n",
        "    return x**2 - 4\n",
        "\n",
        "sol = optimize.root_scalar(func, bracket=[0, 5])\n",
        "print(\"Root:\", sol.root)"
      ],
      "execution_count": null,
      "outputs": []
    },
    {
      "cell_type": "markdown",
      "metadata": {
        "id": "e876ae1d"
      },
      "source": [
        "### 📉 5. Linear Algebra with scipy.linalg"
      ]
    },
    {
      "cell_type": "code",
      "metadata": {
        "id": "05669f7d"
      },
      "source": [
        "A = np.array([[3, 1], [1, 2]])\n",
        "b = np.array([9, 8])\n",
        "\n",
        "# Solve Ax = b\n",
        "x = linalg.solve(A, b)\n",
        "print(\"x =\", x)"
      ],
      "execution_count": null,
      "outputs": []
    },
    {
      "cell_type": "markdown",
      "metadata": {
        "id": "04b453f0"
      },
      "source": [
        "### 🔁 6. Eigenvalues and Inverses"
      ]
    },
    {
      "cell_type": "code",
      "metadata": {
        "id": "49febe34"
      },
      "source": [
        "eigvals, eigvecs = linalg.eig(A)\n",
        "print(\"Eigenvalues:\", eigvals)\n",
        "\n",
        "inv_A = linalg.inv(A)\n",
        "print(\"Inverse of A:\\n\", inv_A)"
      ],
      "execution_count": null,
      "outputs": []
    },
    {
      "cell_type": "markdown",
      "metadata": {
        "id": "ccb2ebc7"
      },
      "source": [
        "### 🎚️ 7. Signal Processing with scipy.signal"
      ]
    },
    {
      "cell_type": "code",
      "metadata": {
        "id": "03ffcc5b"
      },
      "source": [
        "import matplotlib.pyplot as plt\n",
        "\n",
        "t = np.linspace(0, 1, 500, endpoint=False)\n",
        "signal_data = np.sin(2 * np.pi * 7 * t) + np.random.randn(t.size) * 0.5\n",
        "\n",
        "# Apply low-pass filter\n",
        "b, a = signal.butter(3, 0.05)\n",
        "filtered = signal.filtfilt(b, a, signal_data)\n",
        "\n",
        "plt.plot(t, signal_data, label=\"Noisy\")\n",
        "plt.plot(t, filtered, label=\"Filtered\", linewidth=2)\n",
        "plt.legend()\n",
        "plt.show()"
      ],
      "execution_count": null,
      "outputs": []
    },
    {
      "cell_type": "markdown",
      "metadata": {
        "id": "bf330c13"
      },
      "source": [
        "### 🔬 8. Fourier Transform with scipy.fftpack"
      ]
    },
    {
      "cell_type": "code",
      "metadata": {
        "id": "4a9f88a9"
      },
      "source": [
        "from scipy.fftpack import fft\n",
        "\n",
        "x = np.linspace(0.0, 1.0, 100)\n",
        "y = np.sin(20 * 2 * np.pi * x)\n",
        "\n",
        "yf = fft(y)\n",
        "plt.plot(np.abs(yf))\n",
        "plt.title(\"Fourier Transform\")\n",
        "plt.show()"
      ],
      "execution_count": null,
      "outputs": []
    },
    {
      "cell_type": "markdown",
      "metadata": {
        "id": "b95f4464"
      },
      "source": [
        "### 🧠 SciPy Mini Challenges\n",
        "1. Integrate sin(x) from 0 to π using `scipy.integrate`.\n",
        "2. Solve x³ - 3x + 1 = 0 using `optimize.root_scalar`.\n",
        "3. Generate 1000 values from a normal distribution and test normality.\n",
        "4. Solve a 3x3 linear system using `linalg.solve`.\n",
        "5. Filter a noisy signal and plot both the original and filtered versions."
      ]
    },
    {
      "cell_type": "markdown",
      "metadata": {
        "id": "266c59cc"
      },
      "source": [
        "# 🧠 Python Course in Colab: Bonus Part – Web Scraping 🌐🕸️\n",
        "📦 **1. Install Required Libraries**"
      ]
    },
    {
      "cell_type": "code",
      "metadata": {
        "id": "33e8de25"
      },
      "source": [
        "!pip install requests beautifulsoup4"
      ],
      "execution_count": null,
      "outputs": []
    },
    {
      "cell_type": "code",
      "metadata": {
        "id": "61452714"
      },
      "source": [
        "import requests\n",
        "from bs4 import BeautifulSoup"
      ],
      "execution_count": null,
      "outputs": []
    },
    {
      "cell_type": "markdown",
      "metadata": {
        "id": "b68adc8e"
      },
      "source": [
        "### 🌍 2. Basic Web Scraping Flow"
      ]
    },
    {
      "cell_type": "code",
      "metadata": {
        "id": "be721aa3"
      },
      "source": [
        "url = \"https://example.com\"\n",
        "response = requests.get(url)\n",
        "\n",
        "print(\"Status Code:\", response.status_code)\n",
        "print(response.text[:500])  # Print part of the HTML"
      ],
      "execution_count": null,
      "outputs": []
    },
    {
      "cell_type": "markdown",
      "metadata": {
        "id": "d604b1dd"
      },
      "source": [
        "### 🔍 3. Parsing HTML with BeautifulSoup"
      ]
    },
    {
      "cell_type": "code",
      "metadata": {
        "id": "9d0fb5e2"
      },
      "source": [
        "soup = BeautifulSoup(response.text, 'html.parser')\n",
        "\n",
        "# Get page title\n",
        "print(soup.title.string)\n",
        "\n",
        "# Find first paragraph\n",
        "print(soup.find(\"p\").text)"
      ],
      "execution_count": null,
      "outputs": []
    },
    {
      "cell_type": "markdown",
      "metadata": {
        "id": "d9dc5302"
      },
      "source": [
        "### 🔁 4. Finding Multiple Elements"
      ]
    },
    {
      "cell_type": "code",
      "metadata": {
        "id": "ee1e599f"
      },
      "source": [
        "# Find all paragraph tags\n",
        "for p in soup.find_all(\"p\"):\n",
        "    print(p.text)"
      ],
      "execution_count": null,
      "outputs": []
    },
    {
      "cell_type": "code",
      "metadata": {
        "id": "99775a74"
      },
      "source": [
        "# Find all links\n",
        "for link in soup.find_all(\"a\"):\n",
        "    print(link.get(\"href\"))"
      ],
      "execution_count": null,
      "outputs": []
    },
    {
      "cell_type": "markdown",
      "metadata": {
        "id": "4e384b50"
      },
      "source": [
        "### 🔧 5. Scraping a Real Site (Example: Quotes)"
      ]
    },
    {
      "cell_type": "code",
      "metadata": {
        "id": "5e1f808d"
      },
      "source": [
        "url = \"http://quotes.toscrape.com\"\n",
        "res = requests.get(url)\n",
        "soup = BeautifulSoup(res.text, \"html.parser\")\n",
        "\n",
        "quotes = soup.find_all(\"span\", class_=\"text\")\n",
        "authors = soup.find_all(\"small\", class_=\"author\")\n",
        "\n",
        "for quote, author in zip(quotes, authors):\n",
        "    print(f\"{quote.text} — {author.text}\")"
      ],
      "execution_count": null,
      "outputs": []
    },
    {
      "cell_type": "markdown",
      "metadata": {
        "id": "1391b99c"
      },
      "source": [
        "### ⏭️ 6. Scraping Multiple Pages"
      ]
    },
    {
      "cell_type": "code",
      "metadata": {
        "id": "e56e3b64"
      },
      "source": [
        "for page in range(1, 4):  # First 3 pages\n",
        "    url = f\"http://quotes.toscrape.com/page/{page}/\"\n",
        "    res = requests.get(url)\n",
        "    soup = BeautifulSoup(res.text, \"html.parser\")\n",
        "    quotes = soup.find_all(\"span\", class_=\"text\")\n",
        "\n",
        "    for q in quotes:\n",
        "        print(q.text)"
      ],
      "execution_count": null,
      "outputs": []
    },
    {
      "cell_type": "markdown",
      "metadata": {
        "id": "9b4fb3e9"
      },
      "source": [
        "### 🔐 7. Handling Headers (Fake User Agent)\n",
        "Some sites block bots. Add headers to act like a browser:"
      ]
    },
    {
      "cell_type": "code",
      "metadata": {
        "id": "438a7c3f"
      },
      "source": [
        "headers = {\n",
        "    \"User-Agent\": \"Mozilla/5.0 (Windows NT 10.0; Win64; x64)\"\n",
        "}\n",
        "\n",
        "res = requests.get(\"https://example.com\", headers=headers)"
      ],
      "execution_count": null,
      "outputs": []
    },
    {
      "cell_type": "markdown",
      "metadata": {
        "id": "258c8db8"
      },
      "source": [
        "### 🔄 8. Exporting Data to CSV"
      ]
    },
    {
      "cell_type": "code",
      "metadata": {
        "id": "972f6cc9"
      },
      "source": [
        "import pandas as pd\n",
        "\n",
        "data = {\n",
        "    \"Quote\": [q.text for q in quotes],\n",
        "    \"Author\": [a.text for a in authors]\n",
        "}\n",
        "\n",
        "df = pd.DataFrame(data)\n",
        "df.to_csv(\"quotes.csv\", index=False)"
      ],
      "execution_count": null,
      "outputs": []
    },
    {
      "cell_type": "markdown",
      "metadata": {
        "id": "74901c74"
      },
      "source": [
        "### ⚠️ 9. Ethical Scraping Guidelines\n",
        "✅ Check robots.txt (example.com/robots.txt)\n",
        "\n",
        "✅ Avoid hammering servers (use time.sleep)\n",
        "\n",
        "❌ Don’t scrape login pages or violate TOS\n",
        "\n",
        "✅ Respect copyright\n",
        "\n",
        "### 🧠 Mini Web Scraping Challenges\n",
        "1. Scrape all article titles from a blog or news page.\n",
        "2. Extract image URLs and download images.\n",
        "3. Get weather data from a public site.\n",
        "4. Save all product names & prices from an e-commerce search page.\n",
        "5. Scrape multiple pages of search results."
      ]
    },
    {
      "cell_type": "markdown",
      "metadata": {
        "id": "77d07097"
      },
      "source": [
        "# 🧠 Python Course in Colab: Bonus Part – PyTorch (Deep Learning Framework) 🔥🤖\n",
        "PyTorch is an open-source machine learning framework developed by Meta (Facebook). It’s:\n",
        "\n",
        "* Pythonic\n",
        "* Dynamic (great for debugging)\n",
        "* Powerful for neural networks and AI\n",
        "\n",
        "📦 **1. Install and Import PyTorch**"
      ]
    },
    {
      "cell_type": "code",
      "metadata": {
        "id": "87411fa5"
      },
      "source": [
        "!pip install torch torchvision\n",
        "import torch"
      ],
      "execution_count": null,
      "outputs": []
    },
    {
      "cell_type": "markdown",
      "metadata": {
        "id": "69765b37"
      },
      "source": [
        "### 🔢 2. Tensors – Core of PyTorch"
      ]
    },
    {
      "cell_type": "code",
      "metadata": {
        "id": "50b7726a"
      },
      "source": [
        "x = torch.tensor([1.0, 2.0, 3.0])\n",
        "print(x)\n",
        "print(x.shape)"
      ],
      "execution_count": null,
      "outputs": []
    },
    {
      "cell_type": "markdown",
      "metadata": {
        "id": "6c0280c8"
      },
      "source": [
        "### 🧮 3. Creating Tensors"
      ]
    },
    {
      "cell_type": "code",
      "metadata": {
        "id": "ec9bda42"
      },
      "source": [
        "torch.zeros(2, 3)\n",
        "torch.ones(2, 2)\n",
        "torch.eye(3)                # Identity\n",
        "torch.arange(0, 10, 2)      # Like np.arange\n",
        "torch.rand(2, 2)            # Random values"
      ],
      "execution_count": null,
      "outputs": []
    },
    {
      "cell_type": "markdown",
      "metadata": {
        "id": "1b5cc97a"
      },
      "source": [
        "### 🔁 4. Tensor Operations"
      ]
    },
    {
      "cell_type": "code",
      "metadata": {
        "id": "be282423"
      },
      "source": [
        "a = torch.tensor([1.0, 2.0])\n",
        "b = torch.tensor([3.0, 4.0])\n",
        "\n",
        "print(a + b)\n",
        "print(a * b)\n",
        "print(a @ b)  # Dot product"
      ],
      "execution_count": null,
      "outputs": []
    },
    {
      "cell_type": "markdown",
      "metadata": {
        "id": "780f6186"
      },
      "source": [
        "### 🧠 5. Autograd (Automatic Differentiation)"
      ]
    },
    {
      "cell_type": "code",
      "metadata": {
        "id": "664fd499"
      },
      "source": [
        "x = torch.tensor(2.0, requires_grad=True)\n",
        "y = x**2 + 3*x + 1\n",
        "\n",
        "y.backward()  # Compute gradient\n",
        "print(x.grad) # dy/dx"
      ],
      "execution_count": null,
      "outputs": []
    },
    {
      "cell_type": "markdown",
      "metadata": {
        "id": "d04db108"
      },
      "source": [
        "### 🧰 6. Building a Simple Linear Model"
      ]
    },
    {
      "cell_type": "code",
      "metadata": {
        "id": "7da9bd2f"
      },
      "source": [
        "import torch.nn as nn\n",
        "\n",
        "model = nn.Linear(in_features=1, out_features=1)\n",
        "print(model.weight, model.bias)"
      ],
      "execution_count": null,
      "outputs": []
    },
    {
      "cell_type": "markdown",
      "metadata": {
        "id": "1fe3caf8"
      },
      "source": [
        "### 🧠 7. Training a Model (Linear Regression)"
      ]
    },
    {
      "cell_type": "code",
      "metadata": {
        "id": "b01023e1"
      },
      "source": [
        "import torch.optim as optim\n",
        "\n",
        "# Fake data\n",
        "x_train = torch.tensor([[1.0], [2.0], [3.0]])\n",
        "y_train = torch.tensor([[2.0], [4.0], [6.0]])\n",
        "\n",
        "model = nn.Linear(1, 1)\n",
        "criterion = nn.MSELoss()\n",
        "optimizer = optim.SGD(model.parameters(), lr=0.01)\n",
        "\n",
        "for epoch in range(1000):\n",
        "    pred = model(x_train)\n",
        "    loss = criterion(pred, y_train)\n",
        "\n",
        "    optimizer.zero_grad()\n",
        "    loss.backward()\n",
        "    optimizer.step()\n",
        "\n",
        "print(f\"Trained weight: {model.weight.item():.4f}\")\n",
        "print(f\"Trained bias: {model.bias.item():.4f}\")"
      ],
      "execution_count": null,
      "outputs": []
    },
    {
      "cell_type": "markdown",
      "metadata": {
        "id": "2c8381e9"
      },
      "source": [
        "### 🎨 8. Plot the Results"
      ]
    },
    {
      "cell_type": "code",
      "metadata": {
        "id": "45308936"
      },
      "source": [
        "import matplotlib.pyplot as plt\n",
        "\n",
        "x_vals = x_train.detach().numpy()\n",
        "y_vals = y_train.detach().numpy()\n",
        "preds = model(x_train).detach().numpy()\n",
        "\n",
        "plt.scatter(x_vals, y_vals, label=\"Actual\")\n",
        "plt.plot(x_vals, preds, label=\"Prediction\", color=\"red\")\n",
        "plt.legend()\n",
        "plt.show()"
      ],
      "execution_count": null,
      "outputs": []
    },
    {
      "cell_type": "markdown",
      "metadata": {
        "id": "5e5a51e3"
      },
      "source": [
        "### 🧠 9. Working with Datasets & DataLoader"
      ]
    },
    {
      "cell_type": "code",
      "metadata": {
        "id": "eb23a898"
      },
      "source": [
        "from torch.utils.data import DataLoader, TensorDataset\n",
        "\n",
        "dataset = TensorDataset(x_train, y_train)\n",
        "loader = DataLoader(dataset, batch_size=1, shuffle=True)\n",
        "\n",
        "for x_batch, y_batch in loader:\n",
        "    print(x_batch, y_batch)"
      ],
      "execution_count": null,
      "outputs": []
    },
    {
      "cell_type": "markdown",
      "metadata": {
        "id": "4927d9d5"
      },
      "source": [
        "### 🤖 10. Neural Network Example (2-layer Feedforward)"
      ]
    },
    {
      "cell_type": "code",
      "metadata": {
        "id": "4fc32f6b"
      },
      "source": [
        "class SimpleNet(nn.Module):\n",
        "    def __init__(self):\n",
        "        super().__init__()\n",
        "        self.fc1 = nn.Linear(1, 10)\n",
        "        self.fc2 = nn.Linear(10, 1)\n",
        "\n",
        "    def forward(self, x):\n",
        "        x = torch.relu(self.fc1(x))\n",
        "        return self.fc2(x)\n",
        "\n",
        "model = SimpleNet()\n",
        "print(model)"
      ],
      "execution_count": null,
      "outputs": []
    },
    {
      "cell_type": "markdown",
      "metadata": {
        "id": "f507b08d"
      },
      "source": [
        "### 🧠 Mini PyTorch Challenges\n",
        "1. Build and train a linear model to fit y = 3x + 2.\n",
        "2. Try a multi-layer network with 2 hidden layers.\n",
        "3. Train with your own NumPy or CSV dataset.\n",
        "4. Add non-linearity using torch.relu or torch.sigmoid.\n",
        "5. Plot loss vs. epochs using matplotlib."
      ]
    },
    {
      "cell_type": "markdown",
      "metadata": {
        "id": "5bf07950"
      },
      "source": [
        "# 🧠 Python Course in Colab: Bonus Part – TensorFlow (Machine Learning Framework) ⚙️🧠\n",
        "TensorFlow is developed by Google and used widely in:\n",
        "\n",
        "* Deep learning\n",
        "* Computer vision\n",
        "* Natural language processing (NLP)\n",
        "* Model deployment (on web, mobile, edge devices)\n",
        "\n",
        "📦 **1. Install and Import**"
      ]
    },
    {
      "cell_type": "code",
      "metadata": {
        "id": "aef8f6d4"
      },
      "source": [
        "!pip install tensorflow\n",
        "import tensorflow as tf"
      ],
      "execution_count": null,
      "outputs": []
    },
    {
      "cell_type": "markdown",
      "metadata": {
        "id": "aeeac388"
      },
      "source": [
        "✅ Works in Colab without additional setup\n",
        "\n",
        "### 🔢 2. Tensors in TensorFlow"
      ]
    },
    {
      "cell_type": "code",
      "metadata": {
        "id": "ca83812e"
      },
      "source": [
        "x = tf.constant([[1, 2], [3, 4]])\n",
        "print(x)\n",
        "print(\"Shape:\", x.shape)\n",
        "print(\"Data type:\", x.dtype)"
      ],
      "execution_count": null,
      "outputs": []
    },
    {
      "cell_type": "markdown",
      "metadata": {
        "id": "88d0fd79"
      },
      "source": [
        "### 🧮 3. Creating Tensors"
      ]
    },
    {
      "cell_type": "code",
      "metadata": {
        "id": "536f2fdd"
      },
      "source": [
        "tf.zeros((2, 3))\n",
        "tf.ones((3, 1))\n",
        "tf.eye(3)\n",
        "tf.range(1, 10, 2)\n",
        "tf.random.normal((2, 2))"
      ],
      "execution_count": null,
      "outputs": []
    },
    {
      "cell_type": "markdown",
      "metadata": {
        "id": "45b6cfb2"
      },
      "source": [
        "### 🧰 4. Basic Operations"
      ]
    },
    {
      "cell_type": "code",
      "metadata": {
        "id": "de038912"
      },
      "source": [
        "a = tf.constant([1, 2, 3])\n",
        "b = tf.constant([10, 20, 30])\n",
        "\n",
        "print(a + b)\n",
        "print(a * b)\n",
        "print(tf.reduce_sum(a))"
      ],
      "execution_count": null,
      "outputs": []
    },
    {
      "cell_type": "markdown",
      "metadata": {
        "id": "1b50019e"
      },
      "source": [
        "### 🧠 5. Gradient Tape for AutoDiff"
      ]
    },
    {
      "cell_type": "code",
      "metadata": {
        "id": "d9384087"
      },
      "source": [
        "x = tf.Variable(3.0)\n",
        "\n",
        "with tf.GradientTape() as tape:\n",
        "    y = x**2 + 2*x + 1\n",
        "\n",
        "dy_dx = tape.gradient(y, x)\n",
        "print(\"dy/dx =\", dy_dx.numpy())"
      ],
      "execution_count": null,
      "outputs": []
    },
    {
      "cell_type": "markdown",
      "metadata": {
        "id": "14e9b60f"
      },
      "source": [
        "### 🔧 6. Building a Simple Neural Network (Keras API)"
      ]
    },
    {
      "cell_type": "code",
      "metadata": {
        "id": "ce4d73de"
      },
      "source": [
        "from tensorflow.keras import Sequential\n",
        "from tensorflow.keras.layers import Dense\n",
        "\n",
        "model = Sequential([\n",
        "    Dense(10, activation='relu', input_shape=(1,)),\n",
        "    Dense(1)\n",
        "])\n",
        "\n",
        "model.summary()"
      ],
      "execution_count": null,
      "outputs": []
    },
    {
      "cell_type": "markdown",
      "metadata": {
        "id": "70d02887"
      },
      "source": [
        "### 🔄 7. Compile & Train Model"
      ]
    },
    {
      "cell_type": "code",
      "metadata": {
        "id": "d0651517"
      },
      "source": [
        "model.compile(optimizer='adam', loss='mse')\n",
        "\n",
        "# Fake training data: y = 3x + 2\n",
        "import numpy as np\n",
        "x_train = np.array([[1], [2], [3], [4]], dtype=float)\n",
        "y_train = 3 * x_train + 2\n",
        "\n",
        "model.fit(x_train, y_train, epochs=100, verbose=0)"
      ],
      "execution_count": null,
      "outputs": []
    },
    {
      "cell_type": "markdown",
      "metadata": {
        "id": "457bcc7b"
      },
      "source": [
        "### 🔍 8. Prediction"
      ]
    },
    {
      "cell_type": "code",
      "metadata": {
        "id": "78384436"
      },
      "source": [
        "print(model.predict([[5]]))  # Should be close to 17"
      ],
      "execution_count": null,
      "outputs": []
    },
    {
      "cell_type": "markdown",
      "metadata": {
        "id": "9e4cee64"
      },
      "source": [
        "### 📊 9. Visualize Training with Matplotlib"
      ]
    },
    {
      "cell_type": "code",
      "metadata": {
        "id": "bce18aeb"
      },
      "source": [
        "history = model.fit(x_train, y_train, epochs=100, verbose=0)\n",
        "import matplotlib.pyplot as plt\n",
        "\n",
        "plt.plot(history.history['loss'])\n",
        "plt.title('Loss over Epochs')\n",
        "plt.xlabel('Epoch')\n",
        "plt.ylabel('Loss')\n",
        "plt.grid(True)\n",
        "plt.show()"
      ],
      "execution_count": null,
      "outputs": []
    },
    {
      "cell_type": "markdown",
      "metadata": {
        "id": "06119f21"
      },
      "source": [
        "### 🧠 10. Save and Load Model"
      ]
    },
    {
      "cell_type": "code",
      "metadata": {
        "id": "6831d1e0"
      },
      "source": [
        "model.save(\"my_model.h5\")  # Save\n",
        "\n",
        "loaded_model = tf.keras.models.load_model(\"my_model.h5\")  # Load\n",
        "print(loaded_model.predict([[5]]))"
      ],
      "execution_count": null,
      "outputs": []
    },
    {
      "cell_type": "markdown",
      "metadata": {
        "id": "8032012c"
      },
      "source": [
        "### 📁 11. Datasets and Preprocessing"
      ]
    },
    {
      "cell_type": "code",
      "metadata": {
        "id": "9e6bd5a6"
      },
      "source": [
        "(x_train, y_train), _ = tf.keras.datasets.mnist.load_data()\n",
        "x_train = x_train / 255.0  # Normalize\n",
        "\n",
        "print(x_train.shape)  # (60000, 28, 28)"
      ],
      "execution_count": null,
      "outputs": []
    },
    {
      "cell_type": "markdown",
      "metadata": {
        "id": "b409ad8e"
      },
      "source": [
        "### 🔠 12. Image Classification Example"
      ]
    },
    {
      "cell_type": "code",
      "metadata": {
        "id": "acb19e82"
      },
      "source": [
        "model = Sequential([\n",
        "    tf.keras.layers.Flatten(input_shape=(28, 28)),\n",
        "    Dense(128, activation='relu'),\n",
        "    Dense(10, activation='softmax')\n",
        "])\n",
        "\n",
        "model.compile(optimizer='adam',\n",
        "              loss='sparse_categorical_crossentropy',\n",
        "              metrics=['accuracy'])\n",
        "\n",
        "model.fit(x_train, y_train, epochs=5)"
      ],
      "execution_count": null,
      "outputs": []
    },
    {
      "cell_type": "markdown",
      "metadata": {
        "id": "2759f397"
      },
      "source": [
        "### 🧠 Mini TensorFlow Challenges\n",
        "1. Build a network that fits y = 4x² + 2x + 1.\n",
        "2. Add dropout to the MNIST model for regularization.\n",
        "3. Save model and use it later for prediction.\n",
        "4. Use .evaluate() to test accuracy on test data.\n",
        "5. Visualize hidden layer outputs using model.layers[...]."
      ]
    },
    {
      "cell_type": "markdown",
      "metadata": {
        "id": "eb768c63"
      },
      "source": [
        "# 🎁 Bonus Part: Virtual Environments & Requirements\n",
        "\n",
        "Managing dependencies keeps your Python projects clean and reproducible. Let’s dive in!\n",
        "\n",
        "🏗 Step 1: Create a Virtual Environment"
      ]
    },
    {
      "cell_type": "code",
      "metadata": {
        "id": "8f2dc7fd"
      },
      "source": [
        "# Create a virtual environment named 'venv'\n",
        "# This command is typically run in your terminal, not a Colab cell.\n",
        "# In Colab, dependencies are managed by the environment provided.\n",
        "# The equivalent concept in Colab is using `!pip install` to install packages\n",
        "# into the current runtime.\n",
        "# If you were working locally, you would run:\n",
        "# !python -m venv venv"
      ],
      "execution_count": null,
      "outputs": []
    },
    {
      "cell_type": "markdown",
      "metadata": {
        "id": "4244c4ba"
      },
      "source": [
        "👉 This makes a folder `venv/` that contains an isolated Python setup.\n",
        "\n",
        "🚀 Step 2: Activate the Environment\n",
        "\n",
        "Windows (PowerShell):"
      ]
    },
    {
      "cell_type": "code",
      "metadata": {
        "id": "ebb4b538"
      },
      "source": [
        "# This command is run in your Windows terminal (PowerShell), not a Colab cell.\n",
        "# .\\venv\\Scripts\\activate"
      ],
      "execution_count": null,
      "outputs": []
    },
    {
      "cell_type": "markdown",
      "metadata": {
        "id": "1c508713"
      },
      "source": [
        "Linux / macOS:"
      ]
    },
    {
      "cell_type": "code",
      "metadata": {
        "id": "e602923b"
      },
      "source": [
        "# This command is run in your Linux or macOS terminal, not a Colab cell.\n",
        "# source venv/bin/activate"
      ],
      "execution_count": null,
      "outputs": []
    },
    {
      "cell_type": "markdown",
      "metadata": {
        "id": "cd70c54b"
      },
      "source": [
        "👉 You’ll see `(venv)` appear before your prompt = environment is active.\n",
        "\n",
        "📦 Step 3: Install Packages"
      ]
    },
    {
      "cell_type": "code",
      "metadata": {
        "id": "d9dc6c1a"
      },
      "source": [
        "# This command is run in your active virtual environment terminal.\n",
        "# In Colab, you use !pip install directly:\n",
        "!pip install numpy pandas matplotlib"
      ],
      "execution_count": null,
      "outputs": []
    },
    {
      "cell_type": "markdown",
      "metadata": {
        "id": "eccf2ce4"
      },
      "source": [
        "👉 These get installed only inside your venv, not system-wide.\n",
        "\n",
        "📝 Step 4: Freeze Requirements"
      ]
    },
    {
      "cell_type": "code",
      "metadata": {
        "id": "da29810a"
      },
      "source": [
        "# This command is run in your active virtual environment terminal.\n",
        "# In Colab, you can list installed packages and their versions:\n",
        "!pip freeze > requirements.txt"
      ],
      "execution_count": null,
      "outputs": []
    },
    {
      "cell_type": "markdown",
      "metadata": {
        "id": "9cbb0c3e"
      },
      "source": [
        "👉 This generates a `requirements.txt` file like:"
      ]
    },
    {
      "cell_type": "markdown",
      "metadata": {
        "id": "1a9e9a91"
      },
      "source": [
        "🌱 Step 5: Recreate the Environment Anywhere\n",
        "\n",
        "On a new machine (or after deleting venv):"
      ]
    },
    {
      "cell_type": "code",
      "metadata": {
        "id": "93a53869"
      },
      "source": [
        "# This command is run in your terminal after activating the new venv.\n",
        "# In Colab, you would use !pip install -r requirements.txt\n",
        "# python -m venv venv\n",
        "# source venv/bin/activate   # or Windows activate\n",
        "!pip install -r requirements.txt"
      ],
      "execution_count": null,
      "outputs": []
    },
    {
      "cell_type": "markdown",
      "metadata": {
        "id": "31560723"
      },
      "source": [
        "👉 Boom 💥 — you get the exact same setup!\n",
        "\n",
        "💡 Tips\n",
        "\n",
        "Use deactivate to exit the venv.\n",
        "\n",
        "Keep requirements.txt in your repo.\n",
        "\n",
        "This is how real projects stay reproducible.\n",
        "\n",
        "### ✨ Google Colab Twist\n",
        "\n",
        "While Colab doesn't use traditional virtual environments, you can simulate the dependency management workflow:\n",
        "\n",
        "1. **Install Packages:** Use `!pip install package_name` for each library you need.\n",
        "2. **Generate Requirements:** Use `!pip freeze > requirements.txt` to create the file.\n",
        "3. **Install from Requirements:** If you restart your Colab runtime or share your notebook, you can install all dependencies at once using:"
      ]
    },
    {
      "cell_type": "code",
      "metadata": {
        "id": "7b159cc0"
      },
      "source": [
        "!pip install -r requirements.txt"
      ],
      "execution_count": null,
      "outputs": []
    }
  ]
}